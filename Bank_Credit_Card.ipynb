{
 "cells": [
  {
   "cell_type": "markdown",
   "id": "6faeb283",
   "metadata": {},
   "source": [
    "<h1 align=\"center\">AtliQo Bank Credit Card Launch: Phase 1</h1>"
   ]
  },
  {
   "cell_type": "markdown",
   "id": "ad35fb08",
   "metadata": {},
   "source": [
    "Objective: Analyze customers' transactions and credit profiles to figure out a target group for the launch of AtliQo bank credit card"
   ]
  },
  {
   "cell_type": "markdown",
   "id": "ab067ddf",
   "metadata": {},
   "source": []
  },
  {
   "cell_type": "code",
   "execution_count": 2,
   "id": "0d0fd66c",
   "metadata": {},
   "outputs": [
    {
     "name": "stdout",
     "output_type": "stream",
     "text": [
      "Requirement already satisfied: mysql-connector-python in c:\\users\\guest_l38yilz\\anaconda3\\lib\\site-packages (9.3.0)\n"
     ]
    }
   ],
   "source": [
    "import pandas as pd\n",
    "import numpy as np\n",
    "import seaborn as sns\n",
    "import matplotlib.pyplot as plt\n",
    "import warnings\n",
    "import mysql.connector as connection\n",
    "!pip install mysql-connector-python\n",
    "warnings.filterwarnings(\"ignore\")"
   ]
  },
  {
   "cell_type": "markdown",
   "id": "0bbc1a7c",
   "metadata": {},
   "source": [
    "<h1 style=\"color:purple\" align=\"center\">Data Import<h1>"
   ]
  },
  {
   "cell_type": "code",
   "execution_count": 3,
   "id": "c839d99e",
   "metadata": {},
   "outputs": [],
   "source": [
    "try:\n",
    "    mydb = connection.connect(host=\"localhost\", database = 'e_master_card',user=\"root\", passwd=\"1000\",use_pure=True)\n",
    "    query = \"Select * from credit_profiles;\"\n",
    "    query2 = \"Select * from customers;\"\n",
    "    query3 = \"Select * from transactions;\"\n",
    "    credit_profiles = pd.read_sql(query,mydb)\n",
    "    customers = pd.read_sql(query2,mydb)\n",
    "    transactions = pd.read_sql(query3,mydb)\n",
    "    mydb.close() #close the connection\n",
    "except Exception as e:\n",
    "    mydb.close()\n",
    "    print(str(e))"
   ]
  },
  {
   "cell_type": "code",
   "execution_count": 3,
   "id": "fb5498b0",
   "metadata": {},
   "outputs": [
    {
     "data": {
      "application/vnd.microsoft.datawrangler.viewer.v0+json": {
       "columns": [
        {
         "name": "index",
         "rawType": "object",
         "type": "string"
        },
        {
         "name": "cust_id",
         "rawType": "float64",
         "type": "float"
        },
        {
         "name": "age",
         "rawType": "float64",
         "type": "float"
        },
        {
         "name": "annual_income",
         "rawType": "float64",
         "type": "float"
        }
       ],
       "ref": "a10ebb3a-7ecd-49be-82bb-2d95c3ea6fe0",
       "rows": [
        [
         "count",
         "1000.0",
         "1000.0",
         "1000.0"
        ],
        [
         "mean",
         "500.5",
         "36.405",
         "132439.799"
        ],
        [
         "std",
         "288.8194360957494",
         "15.666154710183473",
         "113706.3137928979"
        ],
        [
         "min",
         "1.0",
         "1.0",
         "0.0"
        ],
        [
         "25%",
         "250.75",
         "26.0",
         "42229.75"
        ],
        [
         "50%",
         "500.5",
         "32.0",
         "107275.0"
        ],
        [
         "75%",
         "750.25",
         "46.0",
         "189687.5"
        ],
        [
         "max",
         "1000.0",
         "135.0",
         "449346.0"
        ]
       ],
       "shape": {
        "columns": 3,
        "rows": 8
       }
      },
      "text/html": [
       "<div>\n",
       "<style scoped>\n",
       "    .dataframe tbody tr th:only-of-type {\n",
       "        vertical-align: middle;\n",
       "    }\n",
       "\n",
       "    .dataframe tbody tr th {\n",
       "        vertical-align: top;\n",
       "    }\n",
       "\n",
       "    .dataframe thead th {\n",
       "        text-align: right;\n",
       "    }\n",
       "</style>\n",
       "<table border=\"1\" class=\"dataframe\">\n",
       "  <thead>\n",
       "    <tr style=\"text-align: right;\">\n",
       "      <th></th>\n",
       "      <th>cust_id</th>\n",
       "      <th>age</th>\n",
       "      <th>annual_income</th>\n",
       "    </tr>\n",
       "  </thead>\n",
       "  <tbody>\n",
       "    <tr>\n",
       "      <th>count</th>\n",
       "      <td>1000.000000</td>\n",
       "      <td>1000.000000</td>\n",
       "      <td>1000.000000</td>\n",
       "    </tr>\n",
       "    <tr>\n",
       "      <th>mean</th>\n",
       "      <td>500.500000</td>\n",
       "      <td>36.405000</td>\n",
       "      <td>132439.799000</td>\n",
       "    </tr>\n",
       "    <tr>\n",
       "      <th>std</th>\n",
       "      <td>288.819436</td>\n",
       "      <td>15.666155</td>\n",
       "      <td>113706.313793</td>\n",
       "    </tr>\n",
       "    <tr>\n",
       "      <th>min</th>\n",
       "      <td>1.000000</td>\n",
       "      <td>1.000000</td>\n",
       "      <td>0.000000</td>\n",
       "    </tr>\n",
       "    <tr>\n",
       "      <th>25%</th>\n",
       "      <td>250.750000</td>\n",
       "      <td>26.000000</td>\n",
       "      <td>42229.750000</td>\n",
       "    </tr>\n",
       "    <tr>\n",
       "      <th>50%</th>\n",
       "      <td>500.500000</td>\n",
       "      <td>32.000000</td>\n",
       "      <td>107275.000000</td>\n",
       "    </tr>\n",
       "    <tr>\n",
       "      <th>75%</th>\n",
       "      <td>750.250000</td>\n",
       "      <td>46.000000</td>\n",
       "      <td>189687.500000</td>\n",
       "    </tr>\n",
       "    <tr>\n",
       "      <th>max</th>\n",
       "      <td>1000.000000</td>\n",
       "      <td>135.000000</td>\n",
       "      <td>449346.000000</td>\n",
       "    </tr>\n",
       "  </tbody>\n",
       "</table>\n",
       "</div>"
      ],
      "text/plain": [
       "           cust_id          age  annual_income\n",
       "count  1000.000000  1000.000000    1000.000000\n",
       "mean    500.500000    36.405000  132439.799000\n",
       "std     288.819436    15.666155  113706.313793\n",
       "min       1.000000     1.000000       0.000000\n",
       "25%     250.750000    26.000000   42229.750000\n",
       "50%     500.500000    32.000000  107275.000000\n",
       "75%     750.250000    46.000000  189687.500000\n",
       "max    1000.000000   135.000000  449346.000000"
      ]
     },
     "execution_count": 3,
     "metadata": {},
     "output_type": "execute_result"
    }
   ],
   "source": [
    "customers.describe()"
   ]
  },
  {
   "cell_type": "markdown",
   "id": "5869544d",
   "metadata": {},
   "source": [
    "### Things i have noticed\n",
    "We have a min age of 1, an annual income of 0 which is weird to me\n"
   ]
  },
  {
   "cell_type": "markdown",
   "id": "4ac078e4",
   "metadata": {},
   "source": []
  },
  {
   "cell_type": "code",
   "execution_count": 4,
   "id": "770dbe47",
   "metadata": {},
   "outputs": [
    {
     "data": {
      "application/vnd.microsoft.datawrangler.viewer.v0+json": {
       "columns": [
        {
         "name": "index",
         "rawType": "object",
         "type": "string"
        },
        {
         "name": "0",
         "rawType": "int64",
         "type": "integer"
        }
       ],
       "ref": "a007f326-4a48-4052-bdbd-d8004dc0daee",
       "rows": [
        [
         "cust_id",
         "0"
        ],
        [
         "name",
         "0"
        ],
        [
         "gender",
         "0"
        ],
        [
         "age",
         "0"
        ],
        [
         "location",
         "0"
        ],
        [
         "occupation",
         "0"
        ],
        [
         "annual_income",
         "0"
        ],
        [
         "marital_status",
         "0"
        ]
       ],
       "shape": {
        "columns": 1,
        "rows": 8
       }
      },
      "text/plain": [
       "cust_id           0\n",
       "name              0\n",
       "gender            0\n",
       "age               0\n",
       "location          0\n",
       "occupation        0\n",
       "annual_income     0\n",
       "marital_status    0\n",
       "dtype: int64"
      ]
     },
     "execution_count": 4,
     "metadata": {},
     "output_type": "execute_result"
    }
   ],
   "source": [
    "customers.isnull().sum()"
   ]
  },
  {
   "cell_type": "code",
   "execution_count": 5,
   "id": "5e8a1603",
   "metadata": {},
   "outputs": [
    {
     "data": {
      "text/plain": [
       "(50, 8)"
      ]
     },
     "execution_count": 5,
     "metadata": {},
     "output_type": "execute_result"
    }
   ],
   "source": [
    "null_values = customers[customers.annual_income == 0]\n",
    "null_values.shape"
   ]
  },
  {
   "cell_type": "markdown",
   "id": "bd34ce85",
   "metadata": {},
   "source": [
    "Pandas did not detect null and na values are blanks but rather converted them to 0 in the customer.annual salary table"
   ]
  },
  {
   "cell_type": "markdown",
   "id": "c4b16926",
   "metadata": {},
   "source": [
    "### Dealing with null values\n",
    "Since we havent checked for outliers yet, it wont be wise to use the mean as a method of imputation the null values. Hence i will go with the median for the time being.\n",
    "But since we are looking at the annual salary for different occupation, we can not just use the median of the total income but rather we group each occupation and find the median of each occupation."
   ]
  },
  {
   "cell_type": "code",
   "execution_count": 6,
   "id": "1d63c1d0",
   "metadata": {},
   "outputs": [
    {
     "data": {
      "text/plain": [
       "107275.0"
      ]
     },
     "execution_count": 6,
     "metadata": {},
     "output_type": "execute_result"
    }
   ],
   "source": [
    "customers.annual_income.median()"
   ]
  },
  {
   "cell_type": "code",
   "execution_count": 7,
   "id": "1cfa52cc",
   "metadata": {},
   "outputs": [
    {
     "data": {
      "application/vnd.microsoft.datawrangler.viewer.v0+json": {
       "columns": [
        {
         "name": "index",
         "rawType": "int64",
         "type": "integer"
        },
        {
         "name": "occupation",
         "rawType": "object",
         "type": "string"
        }
       ],
       "ref": "531dd067-e853-4798-b14b-cbfa92497c70",
       "rows": [
        [
         "0",
         "Business Owner"
        ],
        [
         "1",
         "Consultant"
        ],
        [
         "2",
         "Freelancer"
        ],
        [
         "3",
         "Freelancer"
        ],
        [
         "4",
         "Consultant"
        ],
        [
         "5",
         "Freelancer"
        ],
        [
         "6",
         "Business Owner"
        ],
        [
         "7",
         "Freelancer"
        ],
        [
         "8",
         "Fullstack Developer"
        ],
        [
         "9",
         "Freelancer"
        ],
        [
         "10",
         "Accountant"
        ],
        [
         "11",
         "Accountant"
        ],
        [
         "12",
         "Freelancer"
        ],
        [
         "13",
         "Data Scientist"
        ],
        [
         "14",
         "Artist"
        ],
        [
         "15",
         "Consultant"
        ],
        [
         "16",
         "Freelancer"
        ],
        [
         "17",
         "Data Scientist"
        ],
        [
         "18",
         "Consultant"
        ],
        [
         "19",
         "Artist"
        ],
        [
         "20",
         "Accountant"
        ],
        [
         "21",
         "Business Owner"
        ],
        [
         "22",
         "Freelancer"
        ],
        [
         "23",
         "Freelancer"
        ],
        [
         "24",
         "Fullstack Developer"
        ],
        [
         "25",
         "Freelancer"
        ],
        [
         "26",
         "Business Owner"
        ],
        [
         "27",
         "Data Scientist"
        ],
        [
         "28",
         "Freelancer"
        ],
        [
         "29",
         "Data Scientist"
        ],
        [
         "30",
         "Data Scientist"
        ],
        [
         "31",
         "Business Owner"
        ],
        [
         "32",
         "Data Scientist"
        ],
        [
         "33",
         "Data Scientist"
        ],
        [
         "34",
         "Fullstack Developer"
        ],
        [
         "35",
         "Business Owner"
        ],
        [
         "36",
         "Data Scientist"
        ],
        [
         "37",
         "Business Owner"
        ],
        [
         "38",
         "Business Owner"
        ],
        [
         "39",
         "Business Owner"
        ],
        [
         "40",
         "Business Owner"
        ],
        [
         "41",
         "Artist"
        ],
        [
         "42",
         "Data Scientist"
        ],
        [
         "43",
         "Consultant"
        ],
        [
         "44",
         "Freelancer"
        ],
        [
         "45",
         "Business Owner"
        ],
        [
         "46",
         "Freelancer"
        ],
        [
         "47",
         "Business Owner"
        ],
        [
         "48",
         "Business Owner"
        ],
        [
         "49",
         "Data Scientist"
        ]
       ],
       "shape": {
        "columns": 1,
        "rows": 1000
       }
      },
      "text/plain": [
       "0           Business Owner\n",
       "1               Consultant\n",
       "2               Freelancer\n",
       "3               Freelancer\n",
       "4               Consultant\n",
       "              ...         \n",
       "995             Freelancer\n",
       "996         Business Owner\n",
       "997    Fullstack Developer\n",
       "998         Business Owner\n",
       "999             Freelancer\n",
       "Name: occupation, Length: 1000, dtype: object"
      ]
     },
     "execution_count": 7,
     "metadata": {},
     "output_type": "execute_result"
    }
   ],
   "source": [
    "customers.occupation"
   ]
  },
  {
   "cell_type": "code",
   "execution_count": 8,
   "id": "b9ef2d86",
   "metadata": {},
   "outputs": [
    {
     "data": {
      "application/vnd.microsoft.datawrangler.viewer.v0+json": {
       "columns": [
        {
         "name": "index",
         "rawType": "int64",
         "type": "integer"
        },
        {
         "name": "cust_id",
         "rawType": "int64",
         "type": "integer"
        },
        {
         "name": "name",
         "rawType": "object",
         "type": "string"
        },
        {
         "name": "gender",
         "rawType": "object",
         "type": "string"
        },
        {
         "name": "age",
         "rawType": "int64",
         "type": "integer"
        },
        {
         "name": "location",
         "rawType": "object",
         "type": "string"
        },
        {
         "name": "occupation",
         "rawType": "object",
         "type": "string"
        },
        {
         "name": "annual_income",
         "rawType": "int64",
         "type": "integer"
        },
        {
         "name": "marital_status",
         "rawType": "object",
         "type": "string"
        }
       ],
       "ref": "9c29d430-efd7-4e91-8777-8d232ac330d9",
       "rows": [
        [
         "14",
         "15",
         "Sanjana Malik",
         "Female",
         "25",
         "Rural",
         "Artist",
         "0",
         "Married"
        ],
        [
         "82",
         "83",
         "Reyansh Mukherjee",
         "Male",
         "27",
         "City",
         "Freelancer",
         "0",
         "Single"
        ],
        [
         "97",
         "98",
         "Virat Puri",
         "Male",
         "47",
         "Suburb",
         "Business Owner",
         "0",
         "Married"
        ],
        [
         "102",
         "103",
         "Aarav Shah",
         "Male",
         "32",
         "City",
         "Data Scientist",
         "0",
         "Married"
        ],
        [
         "155",
         "156",
         "Kiaan Saxena",
         "Male",
         "24",
         "City",
         "Fullstack Developer",
         "0",
         "Married"
        ],
        [
         "170",
         "171",
         "Advait Verma",
         "Male",
         "52",
         "City",
         "Business Owner",
         "0",
         "Single"
        ],
        [
         "186",
         "187",
         "Samar Sardar",
         "Male",
         "53",
         "City",
         "Consultant",
         "0",
         "Single"
        ],
        [
         "192",
         "193",
         "Ishan Joshi",
         "Male",
         "37",
         "Suburb",
         "Data Scientist",
         "0",
         "Married"
        ],
        [
         "227",
         "228",
         "Advait Mukherjee",
         "Male",
         "48",
         "City",
         "Business Owner",
         "0",
         "Married"
        ],
        [
         "232",
         "233",
         "Aditya Goel",
         "Male",
         "26",
         "City",
         "Freelancer",
         "0",
         "Married"
        ],
        [
         "240",
         "241",
         "Aaryan Bose",
         "Male",
         "24",
         "Suburb",
         "Freelancer",
         "0",
         "Married"
        ],
        [
         "272",
         "273",
         "Kunal Sahani",
         "Male",
         "50",
         "Suburb",
         "Business Owner",
         "0",
         "Married"
        ],
        [
         "275",
         "276",
         "Ananya Bali",
         "Female",
         "47",
         "City",
         "Consultant",
         "0",
         "Single"
        ],
        [
         "312",
         "313",
         "Ritvik Gupta",
         "Male",
         "50",
         "City",
         "Consultant",
         "0",
         "Married"
        ],
        [
         "315",
         "316",
         "Amara Jha",
         "Female",
         "25",
         "City",
         "Data Scientist",
         "0",
         "Married"
        ],
        [
         "402",
         "403",
         "Arnav Singh",
         "Male",
         "60",
         "City",
         "Business Owner",
         "0",
         "Married"
        ],
        [
         "404",
         "405",
         "Arnav Banerjee",
         "Male",
         "26",
         "City",
         "Data Scientist",
         "0",
         "Single"
        ],
        [
         "409",
         "410",
         "Kiaan Jain",
         "Male",
         "45",
         "Rural",
         "Consultant",
         "0",
         "Married"
        ],
        [
         "440",
         "441",
         "Rudra Bose",
         "Male",
         "36",
         "Suburb",
         "Data Scientist",
         "0",
         "Married"
        ],
        [
         "446",
         "447",
         "Aahan Gambhir",
         "Male",
         "60",
         "City",
         "Business Owner",
         "0",
         "Married"
        ],
        [
         "449",
         "450",
         "Anika Rathod",
         "Female",
         "24",
         "Suburb",
         "Fullstack Developer",
         "0",
         "Married"
        ],
        [
         "461",
         "462",
         "Kunal Nair",
         "Male",
         "33",
         "City",
         "Data Scientist",
         "0",
         "Married"
        ],
        [
         "474",
         "475",
         "Neha Verma",
         "Female",
         "28",
         "City",
         "Data Scientist",
         "0",
         "Single"
        ],
        [
         "502",
         "503",
         "Samar Dewan",
         "Male",
         "38",
         "Suburb",
         "Data Scientist",
         "0",
         "Single"
        ],
        [
         "508",
         "509",
         "Advait Das",
         "Male",
         "55",
         "City",
         "Business Owner",
         "0",
         "Married"
        ],
        [
         "516",
         "517",
         "Rehan Kulkarni",
         "Male",
         "29",
         "Rural",
         "Fullstack Developer",
         "0",
         "Single"
        ],
        [
         "530",
         "531",
         "Aarya Ver",
         "Male",
         "32",
         "City",
         "Business Owner",
         "0",
         "Married"
        ],
        [
         "536",
         "537",
         "Ritvik Patil",
         "Male",
         "33",
         "City",
         "Data Scientist",
         "0",
         "Married"
        ],
        [
         "599",
         "600",
         "Ishan Goswami",
         "Female",
         "38",
         "City",
         "Consultant",
         "0",
         "Single"
        ],
        [
         "603",
         "604",
         "Kunal Malhotra",
         "Male",
         "25",
         "Suburb",
         "Fullstack Developer",
         "0",
         "Married"
        ],
        [
         "608",
         "609",
         "Kriti Lalwani",
         "Female",
         "25",
         "City",
         "Data Scientist",
         "0",
         "Single"
        ],
        [
         "634",
         "635",
         "Anaya Dutta",
         "Female",
         "21",
         "City",
         "Freelancer",
         "0",
         "Married"
        ],
        [
         "644",
         "645",
         "Dhruv Das",
         "Male",
         "64",
         "City",
         "Business Owner",
         "0",
         "Single"
        ],
        [
         "648",
         "649",
         "Kunal Rathore",
         "Male",
         "41",
         "City",
         "Consultant",
         "0",
         "Married"
        ],
        [
         "650",
         "651",
         "Gauri Mittal",
         "Female",
         "47",
         "Rural",
         "Consultant",
         "0",
         "Married"
        ],
        [
         "664",
         "665",
         "Ayush Khanna",
         "Male",
         "32",
         "Rural",
         "Fullstack Developer",
         "0",
         "Married"
        ],
        [
         "681",
         "682",
         "Arya Jaiswal",
         "Male",
         "37",
         "Suburb",
         "Data Scientist",
         "0",
         "Married"
        ],
        [
         "688",
         "689",
         "Dhruv Dewan",
         "Male",
         "26",
         "City",
         "Artist",
         "0",
         "Married"
        ],
        [
         "693",
         "694",
         "Aditi Mehrotra",
         "Female",
         "37",
         "Suburb",
         "Data Scientist",
         "0",
         "Married"
        ],
        [
         "694",
         "695",
         "Rohan Mehta",
         "Male",
         "28",
         "City",
         "Data Scientist",
         "0",
         "Married"
        ],
        [
         "744",
         "745",
         "Swara Kaul",
         "Female",
         "39",
         "City",
         "Data Scientist",
         "0",
         "Married"
        ],
        [
         "784",
         "785",
         "Rohan Jain",
         "Male",
         "27",
         "City",
         "Data Scientist",
         "0",
         "Single"
        ],
        [
         "788",
         "789",
         "Vihaan Singhal",
         "Male",
         "20",
         "City",
         "Fullstack Developer",
         "0",
         "Single"
        ],
        [
         "791",
         "792",
         "Sara Mhatre",
         "Female",
         "38",
         "City",
         "Data Scientist",
         "0",
         "Single"
        ],
        [
         "817",
         "818",
         "Akshay Mehrotra",
         "Male",
         "47",
         "City",
         "Consultant",
         "0",
         "Single"
        ],
        [
         "932",
         "933",
         "Avinash Tiwari",
         "Male",
         "35",
         "City",
         "Data Scientist",
         "0",
         "Married"
        ],
        [
         "955",
         "956",
         "Aahan Gandhi",
         "Male",
         "39",
         "Suburb",
         "Business Owner",
         "0",
         "Married"
        ],
        [
         "956",
         "957",
         "Priya Malik",
         "Female",
         "24",
         "City",
         "Artist",
         "0",
         "Married"
        ],
        [
         "995",
         "996",
         "Manya Vasudeva",
         "Female",
         "26",
         "City",
         "Freelancer",
         "0",
         "Married"
        ],
        [
         "998",
         "999",
         "Amara Rathore",
         "Female",
         "47",
         "City",
         "Business Owner",
         "0",
         "Married"
        ]
       ],
       "shape": {
        "columns": 8,
        "rows": 50
       }
      },
      "text/html": [
       "<div>\n",
       "<style scoped>\n",
       "    .dataframe tbody tr th:only-of-type {\n",
       "        vertical-align: middle;\n",
       "    }\n",
       "\n",
       "    .dataframe tbody tr th {\n",
       "        vertical-align: top;\n",
       "    }\n",
       "\n",
       "    .dataframe thead th {\n",
       "        text-align: right;\n",
       "    }\n",
       "</style>\n",
       "<table border=\"1\" class=\"dataframe\">\n",
       "  <thead>\n",
       "    <tr style=\"text-align: right;\">\n",
       "      <th></th>\n",
       "      <th>cust_id</th>\n",
       "      <th>name</th>\n",
       "      <th>gender</th>\n",
       "      <th>age</th>\n",
       "      <th>location</th>\n",
       "      <th>occupation</th>\n",
       "      <th>annual_income</th>\n",
       "      <th>marital_status</th>\n",
       "    </tr>\n",
       "  </thead>\n",
       "  <tbody>\n",
       "    <tr>\n",
       "      <th>14</th>\n",
       "      <td>15</td>\n",
       "      <td>Sanjana Malik</td>\n",
       "      <td>Female</td>\n",
       "      <td>25</td>\n",
       "      <td>Rural</td>\n",
       "      <td>Artist</td>\n",
       "      <td>0</td>\n",
       "      <td>Married</td>\n",
       "    </tr>\n",
       "    <tr>\n",
       "      <th>82</th>\n",
       "      <td>83</td>\n",
       "      <td>Reyansh Mukherjee</td>\n",
       "      <td>Male</td>\n",
       "      <td>27</td>\n",
       "      <td>City</td>\n",
       "      <td>Freelancer</td>\n",
       "      <td>0</td>\n",
       "      <td>Single</td>\n",
       "    </tr>\n",
       "    <tr>\n",
       "      <th>97</th>\n",
       "      <td>98</td>\n",
       "      <td>Virat Puri</td>\n",
       "      <td>Male</td>\n",
       "      <td>47</td>\n",
       "      <td>Suburb</td>\n",
       "      <td>Business Owner</td>\n",
       "      <td>0</td>\n",
       "      <td>Married</td>\n",
       "    </tr>\n",
       "    <tr>\n",
       "      <th>102</th>\n",
       "      <td>103</td>\n",
       "      <td>Aarav Shah</td>\n",
       "      <td>Male</td>\n",
       "      <td>32</td>\n",
       "      <td>City</td>\n",
       "      <td>Data Scientist</td>\n",
       "      <td>0</td>\n",
       "      <td>Married</td>\n",
       "    </tr>\n",
       "    <tr>\n",
       "      <th>155</th>\n",
       "      <td>156</td>\n",
       "      <td>Kiaan Saxena</td>\n",
       "      <td>Male</td>\n",
       "      <td>24</td>\n",
       "      <td>City</td>\n",
       "      <td>Fullstack Developer</td>\n",
       "      <td>0</td>\n",
       "      <td>Married</td>\n",
       "    </tr>\n",
       "    <tr>\n",
       "      <th>170</th>\n",
       "      <td>171</td>\n",
       "      <td>Advait Verma</td>\n",
       "      <td>Male</td>\n",
       "      <td>52</td>\n",
       "      <td>City</td>\n",
       "      <td>Business Owner</td>\n",
       "      <td>0</td>\n",
       "      <td>Single</td>\n",
       "    </tr>\n",
       "    <tr>\n",
       "      <th>186</th>\n",
       "      <td>187</td>\n",
       "      <td>Samar Sardar</td>\n",
       "      <td>Male</td>\n",
       "      <td>53</td>\n",
       "      <td>City</td>\n",
       "      <td>Consultant</td>\n",
       "      <td>0</td>\n",
       "      <td>Single</td>\n",
       "    </tr>\n",
       "    <tr>\n",
       "      <th>192</th>\n",
       "      <td>193</td>\n",
       "      <td>Ishan Joshi</td>\n",
       "      <td>Male</td>\n",
       "      <td>37</td>\n",
       "      <td>Suburb</td>\n",
       "      <td>Data Scientist</td>\n",
       "      <td>0</td>\n",
       "      <td>Married</td>\n",
       "    </tr>\n",
       "    <tr>\n",
       "      <th>227</th>\n",
       "      <td>228</td>\n",
       "      <td>Advait Mukherjee</td>\n",
       "      <td>Male</td>\n",
       "      <td>48</td>\n",
       "      <td>City</td>\n",
       "      <td>Business Owner</td>\n",
       "      <td>0</td>\n",
       "      <td>Married</td>\n",
       "    </tr>\n",
       "    <tr>\n",
       "      <th>232</th>\n",
       "      <td>233</td>\n",
       "      <td>Aditya Goel</td>\n",
       "      <td>Male</td>\n",
       "      <td>26</td>\n",
       "      <td>City</td>\n",
       "      <td>Freelancer</td>\n",
       "      <td>0</td>\n",
       "      <td>Married</td>\n",
       "    </tr>\n",
       "    <tr>\n",
       "      <th>240</th>\n",
       "      <td>241</td>\n",
       "      <td>Aaryan Bose</td>\n",
       "      <td>Male</td>\n",
       "      <td>24</td>\n",
       "      <td>Suburb</td>\n",
       "      <td>Freelancer</td>\n",
       "      <td>0</td>\n",
       "      <td>Married</td>\n",
       "    </tr>\n",
       "    <tr>\n",
       "      <th>272</th>\n",
       "      <td>273</td>\n",
       "      <td>Kunal Sahani</td>\n",
       "      <td>Male</td>\n",
       "      <td>50</td>\n",
       "      <td>Suburb</td>\n",
       "      <td>Business Owner</td>\n",
       "      <td>0</td>\n",
       "      <td>Married</td>\n",
       "    </tr>\n",
       "    <tr>\n",
       "      <th>275</th>\n",
       "      <td>276</td>\n",
       "      <td>Ananya Bali</td>\n",
       "      <td>Female</td>\n",
       "      <td>47</td>\n",
       "      <td>City</td>\n",
       "      <td>Consultant</td>\n",
       "      <td>0</td>\n",
       "      <td>Single</td>\n",
       "    </tr>\n",
       "    <tr>\n",
       "      <th>312</th>\n",
       "      <td>313</td>\n",
       "      <td>Ritvik Gupta</td>\n",
       "      <td>Male</td>\n",
       "      <td>50</td>\n",
       "      <td>City</td>\n",
       "      <td>Consultant</td>\n",
       "      <td>0</td>\n",
       "      <td>Married</td>\n",
       "    </tr>\n",
       "    <tr>\n",
       "      <th>315</th>\n",
       "      <td>316</td>\n",
       "      <td>Amara Jha</td>\n",
       "      <td>Female</td>\n",
       "      <td>25</td>\n",
       "      <td>City</td>\n",
       "      <td>Data Scientist</td>\n",
       "      <td>0</td>\n",
       "      <td>Married</td>\n",
       "    </tr>\n",
       "    <tr>\n",
       "      <th>402</th>\n",
       "      <td>403</td>\n",
       "      <td>Arnav Singh</td>\n",
       "      <td>Male</td>\n",
       "      <td>60</td>\n",
       "      <td>City</td>\n",
       "      <td>Business Owner</td>\n",
       "      <td>0</td>\n",
       "      <td>Married</td>\n",
       "    </tr>\n",
       "    <tr>\n",
       "      <th>404</th>\n",
       "      <td>405</td>\n",
       "      <td>Arnav Banerjee</td>\n",
       "      <td>Male</td>\n",
       "      <td>26</td>\n",
       "      <td>City</td>\n",
       "      <td>Data Scientist</td>\n",
       "      <td>0</td>\n",
       "      <td>Single</td>\n",
       "    </tr>\n",
       "    <tr>\n",
       "      <th>409</th>\n",
       "      <td>410</td>\n",
       "      <td>Kiaan Jain</td>\n",
       "      <td>Male</td>\n",
       "      <td>45</td>\n",
       "      <td>Rural</td>\n",
       "      <td>Consultant</td>\n",
       "      <td>0</td>\n",
       "      <td>Married</td>\n",
       "    </tr>\n",
       "    <tr>\n",
       "      <th>440</th>\n",
       "      <td>441</td>\n",
       "      <td>Rudra Bose</td>\n",
       "      <td>Male</td>\n",
       "      <td>36</td>\n",
       "      <td>Suburb</td>\n",
       "      <td>Data Scientist</td>\n",
       "      <td>0</td>\n",
       "      <td>Married</td>\n",
       "    </tr>\n",
       "    <tr>\n",
       "      <th>446</th>\n",
       "      <td>447</td>\n",
       "      <td>Aahan Gambhir</td>\n",
       "      <td>Male</td>\n",
       "      <td>60</td>\n",
       "      <td>City</td>\n",
       "      <td>Business Owner</td>\n",
       "      <td>0</td>\n",
       "      <td>Married</td>\n",
       "    </tr>\n",
       "    <tr>\n",
       "      <th>449</th>\n",
       "      <td>450</td>\n",
       "      <td>Anika Rathod</td>\n",
       "      <td>Female</td>\n",
       "      <td>24</td>\n",
       "      <td>Suburb</td>\n",
       "      <td>Fullstack Developer</td>\n",
       "      <td>0</td>\n",
       "      <td>Married</td>\n",
       "    </tr>\n",
       "    <tr>\n",
       "      <th>461</th>\n",
       "      <td>462</td>\n",
       "      <td>Kunal Nair</td>\n",
       "      <td>Male</td>\n",
       "      <td>33</td>\n",
       "      <td>City</td>\n",
       "      <td>Data Scientist</td>\n",
       "      <td>0</td>\n",
       "      <td>Married</td>\n",
       "    </tr>\n",
       "    <tr>\n",
       "      <th>474</th>\n",
       "      <td>475</td>\n",
       "      <td>Neha Verma</td>\n",
       "      <td>Female</td>\n",
       "      <td>28</td>\n",
       "      <td>City</td>\n",
       "      <td>Data Scientist</td>\n",
       "      <td>0</td>\n",
       "      <td>Single</td>\n",
       "    </tr>\n",
       "    <tr>\n",
       "      <th>502</th>\n",
       "      <td>503</td>\n",
       "      <td>Samar Dewan</td>\n",
       "      <td>Male</td>\n",
       "      <td>38</td>\n",
       "      <td>Suburb</td>\n",
       "      <td>Data Scientist</td>\n",
       "      <td>0</td>\n",
       "      <td>Single</td>\n",
       "    </tr>\n",
       "    <tr>\n",
       "      <th>508</th>\n",
       "      <td>509</td>\n",
       "      <td>Advait Das</td>\n",
       "      <td>Male</td>\n",
       "      <td>55</td>\n",
       "      <td>City</td>\n",
       "      <td>Business Owner</td>\n",
       "      <td>0</td>\n",
       "      <td>Married</td>\n",
       "    </tr>\n",
       "    <tr>\n",
       "      <th>516</th>\n",
       "      <td>517</td>\n",
       "      <td>Rehan Kulkarni</td>\n",
       "      <td>Male</td>\n",
       "      <td>29</td>\n",
       "      <td>Rural</td>\n",
       "      <td>Fullstack Developer</td>\n",
       "      <td>0</td>\n",
       "      <td>Single</td>\n",
       "    </tr>\n",
       "    <tr>\n",
       "      <th>530</th>\n",
       "      <td>531</td>\n",
       "      <td>Aarya Ver</td>\n",
       "      <td>Male</td>\n",
       "      <td>32</td>\n",
       "      <td>City</td>\n",
       "      <td>Business Owner</td>\n",
       "      <td>0</td>\n",
       "      <td>Married</td>\n",
       "    </tr>\n",
       "    <tr>\n",
       "      <th>536</th>\n",
       "      <td>537</td>\n",
       "      <td>Ritvik Patil</td>\n",
       "      <td>Male</td>\n",
       "      <td>33</td>\n",
       "      <td>City</td>\n",
       "      <td>Data Scientist</td>\n",
       "      <td>0</td>\n",
       "      <td>Married</td>\n",
       "    </tr>\n",
       "    <tr>\n",
       "      <th>599</th>\n",
       "      <td>600</td>\n",
       "      <td>Ishan Goswami</td>\n",
       "      <td>Female</td>\n",
       "      <td>38</td>\n",
       "      <td>City</td>\n",
       "      <td>Consultant</td>\n",
       "      <td>0</td>\n",
       "      <td>Single</td>\n",
       "    </tr>\n",
       "    <tr>\n",
       "      <th>603</th>\n",
       "      <td>604</td>\n",
       "      <td>Kunal Malhotra</td>\n",
       "      <td>Male</td>\n",
       "      <td>25</td>\n",
       "      <td>Suburb</td>\n",
       "      <td>Fullstack Developer</td>\n",
       "      <td>0</td>\n",
       "      <td>Married</td>\n",
       "    </tr>\n",
       "    <tr>\n",
       "      <th>608</th>\n",
       "      <td>609</td>\n",
       "      <td>Kriti Lalwani</td>\n",
       "      <td>Female</td>\n",
       "      <td>25</td>\n",
       "      <td>City</td>\n",
       "      <td>Data Scientist</td>\n",
       "      <td>0</td>\n",
       "      <td>Single</td>\n",
       "    </tr>\n",
       "    <tr>\n",
       "      <th>634</th>\n",
       "      <td>635</td>\n",
       "      <td>Anaya Dutta</td>\n",
       "      <td>Female</td>\n",
       "      <td>21</td>\n",
       "      <td>City</td>\n",
       "      <td>Freelancer</td>\n",
       "      <td>0</td>\n",
       "      <td>Married</td>\n",
       "    </tr>\n",
       "    <tr>\n",
       "      <th>644</th>\n",
       "      <td>645</td>\n",
       "      <td>Dhruv Das</td>\n",
       "      <td>Male</td>\n",
       "      <td>64</td>\n",
       "      <td>City</td>\n",
       "      <td>Business Owner</td>\n",
       "      <td>0</td>\n",
       "      <td>Single</td>\n",
       "    </tr>\n",
       "    <tr>\n",
       "      <th>648</th>\n",
       "      <td>649</td>\n",
       "      <td>Kunal Rathore</td>\n",
       "      <td>Male</td>\n",
       "      <td>41</td>\n",
       "      <td>City</td>\n",
       "      <td>Consultant</td>\n",
       "      <td>0</td>\n",
       "      <td>Married</td>\n",
       "    </tr>\n",
       "    <tr>\n",
       "      <th>650</th>\n",
       "      <td>651</td>\n",
       "      <td>Gauri Mittal</td>\n",
       "      <td>Female</td>\n",
       "      <td>47</td>\n",
       "      <td>Rural</td>\n",
       "      <td>Consultant</td>\n",
       "      <td>0</td>\n",
       "      <td>Married</td>\n",
       "    </tr>\n",
       "    <tr>\n",
       "      <th>664</th>\n",
       "      <td>665</td>\n",
       "      <td>Ayush Khanna</td>\n",
       "      <td>Male</td>\n",
       "      <td>32</td>\n",
       "      <td>Rural</td>\n",
       "      <td>Fullstack Developer</td>\n",
       "      <td>0</td>\n",
       "      <td>Married</td>\n",
       "    </tr>\n",
       "    <tr>\n",
       "      <th>681</th>\n",
       "      <td>682</td>\n",
       "      <td>Arya Jaiswal</td>\n",
       "      <td>Male</td>\n",
       "      <td>37</td>\n",
       "      <td>Suburb</td>\n",
       "      <td>Data Scientist</td>\n",
       "      <td>0</td>\n",
       "      <td>Married</td>\n",
       "    </tr>\n",
       "    <tr>\n",
       "      <th>688</th>\n",
       "      <td>689</td>\n",
       "      <td>Dhruv Dewan</td>\n",
       "      <td>Male</td>\n",
       "      <td>26</td>\n",
       "      <td>City</td>\n",
       "      <td>Artist</td>\n",
       "      <td>0</td>\n",
       "      <td>Married</td>\n",
       "    </tr>\n",
       "    <tr>\n",
       "      <th>693</th>\n",
       "      <td>694</td>\n",
       "      <td>Aditi Mehrotra</td>\n",
       "      <td>Female</td>\n",
       "      <td>37</td>\n",
       "      <td>Suburb</td>\n",
       "      <td>Data Scientist</td>\n",
       "      <td>0</td>\n",
       "      <td>Married</td>\n",
       "    </tr>\n",
       "    <tr>\n",
       "      <th>694</th>\n",
       "      <td>695</td>\n",
       "      <td>Rohan Mehta</td>\n",
       "      <td>Male</td>\n",
       "      <td>28</td>\n",
       "      <td>City</td>\n",
       "      <td>Data Scientist</td>\n",
       "      <td>0</td>\n",
       "      <td>Married</td>\n",
       "    </tr>\n",
       "    <tr>\n",
       "      <th>744</th>\n",
       "      <td>745</td>\n",
       "      <td>Swara Kaul</td>\n",
       "      <td>Female</td>\n",
       "      <td>39</td>\n",
       "      <td>City</td>\n",
       "      <td>Data Scientist</td>\n",
       "      <td>0</td>\n",
       "      <td>Married</td>\n",
       "    </tr>\n",
       "    <tr>\n",
       "      <th>784</th>\n",
       "      <td>785</td>\n",
       "      <td>Rohan Jain</td>\n",
       "      <td>Male</td>\n",
       "      <td>27</td>\n",
       "      <td>City</td>\n",
       "      <td>Data Scientist</td>\n",
       "      <td>0</td>\n",
       "      <td>Single</td>\n",
       "    </tr>\n",
       "    <tr>\n",
       "      <th>788</th>\n",
       "      <td>789</td>\n",
       "      <td>Vihaan Singhal</td>\n",
       "      <td>Male</td>\n",
       "      <td>20</td>\n",
       "      <td>City</td>\n",
       "      <td>Fullstack Developer</td>\n",
       "      <td>0</td>\n",
       "      <td>Single</td>\n",
       "    </tr>\n",
       "    <tr>\n",
       "      <th>791</th>\n",
       "      <td>792</td>\n",
       "      <td>Sara Mhatre</td>\n",
       "      <td>Female</td>\n",
       "      <td>38</td>\n",
       "      <td>City</td>\n",
       "      <td>Data Scientist</td>\n",
       "      <td>0</td>\n",
       "      <td>Single</td>\n",
       "    </tr>\n",
       "    <tr>\n",
       "      <th>817</th>\n",
       "      <td>818</td>\n",
       "      <td>Akshay Mehrotra</td>\n",
       "      <td>Male</td>\n",
       "      <td>47</td>\n",
       "      <td>City</td>\n",
       "      <td>Consultant</td>\n",
       "      <td>0</td>\n",
       "      <td>Single</td>\n",
       "    </tr>\n",
       "    <tr>\n",
       "      <th>932</th>\n",
       "      <td>933</td>\n",
       "      <td>Avinash Tiwari</td>\n",
       "      <td>Male</td>\n",
       "      <td>35</td>\n",
       "      <td>City</td>\n",
       "      <td>Data Scientist</td>\n",
       "      <td>0</td>\n",
       "      <td>Married</td>\n",
       "    </tr>\n",
       "    <tr>\n",
       "      <th>955</th>\n",
       "      <td>956</td>\n",
       "      <td>Aahan Gandhi</td>\n",
       "      <td>Male</td>\n",
       "      <td>39</td>\n",
       "      <td>Suburb</td>\n",
       "      <td>Business Owner</td>\n",
       "      <td>0</td>\n",
       "      <td>Married</td>\n",
       "    </tr>\n",
       "    <tr>\n",
       "      <th>956</th>\n",
       "      <td>957</td>\n",
       "      <td>Priya Malik</td>\n",
       "      <td>Female</td>\n",
       "      <td>24</td>\n",
       "      <td>City</td>\n",
       "      <td>Artist</td>\n",
       "      <td>0</td>\n",
       "      <td>Married</td>\n",
       "    </tr>\n",
       "    <tr>\n",
       "      <th>995</th>\n",
       "      <td>996</td>\n",
       "      <td>Manya Vasudeva</td>\n",
       "      <td>Female</td>\n",
       "      <td>26</td>\n",
       "      <td>City</td>\n",
       "      <td>Freelancer</td>\n",
       "      <td>0</td>\n",
       "      <td>Married</td>\n",
       "    </tr>\n",
       "    <tr>\n",
       "      <th>998</th>\n",
       "      <td>999</td>\n",
       "      <td>Amara Rathore</td>\n",
       "      <td>Female</td>\n",
       "      <td>47</td>\n",
       "      <td>City</td>\n",
       "      <td>Business Owner</td>\n",
       "      <td>0</td>\n",
       "      <td>Married</td>\n",
       "    </tr>\n",
       "  </tbody>\n",
       "</table>\n",
       "</div>"
      ],
      "text/plain": [
       "     cust_id               name  gender  age location           occupation  \\\n",
       "14        15      Sanjana Malik  Female   25    Rural               Artist   \n",
       "82        83  Reyansh Mukherjee    Male   27     City           Freelancer   \n",
       "97        98         Virat Puri    Male   47   Suburb       Business Owner   \n",
       "102      103         Aarav Shah    Male   32     City       Data Scientist   \n",
       "155      156       Kiaan Saxena    Male   24     City  Fullstack Developer   \n",
       "170      171       Advait Verma    Male   52     City       Business Owner   \n",
       "186      187       Samar Sardar    Male   53     City           Consultant   \n",
       "192      193        Ishan Joshi    Male   37   Suburb       Data Scientist   \n",
       "227      228   Advait Mukherjee    Male   48     City       Business Owner   \n",
       "232      233        Aditya Goel    Male   26     City           Freelancer   \n",
       "240      241        Aaryan Bose    Male   24   Suburb           Freelancer   \n",
       "272      273       Kunal Sahani    Male   50   Suburb       Business Owner   \n",
       "275      276        Ananya Bali  Female   47     City           Consultant   \n",
       "312      313       Ritvik Gupta    Male   50     City           Consultant   \n",
       "315      316          Amara Jha  Female   25     City       Data Scientist   \n",
       "402      403        Arnav Singh    Male   60     City       Business Owner   \n",
       "404      405     Arnav Banerjee    Male   26     City       Data Scientist   \n",
       "409      410         Kiaan Jain    Male   45    Rural           Consultant   \n",
       "440      441         Rudra Bose    Male   36   Suburb       Data Scientist   \n",
       "446      447      Aahan Gambhir    Male   60     City       Business Owner   \n",
       "449      450       Anika Rathod  Female   24   Suburb  Fullstack Developer   \n",
       "461      462         Kunal Nair    Male   33     City       Data Scientist   \n",
       "474      475         Neha Verma  Female   28     City       Data Scientist   \n",
       "502      503        Samar Dewan    Male   38   Suburb       Data Scientist   \n",
       "508      509         Advait Das    Male   55     City       Business Owner   \n",
       "516      517     Rehan Kulkarni    Male   29    Rural  Fullstack Developer   \n",
       "530      531          Aarya Ver    Male   32     City       Business Owner   \n",
       "536      537       Ritvik Patil    Male   33     City       Data Scientist   \n",
       "599      600      Ishan Goswami  Female   38     City           Consultant   \n",
       "603      604     Kunal Malhotra    Male   25   Suburb  Fullstack Developer   \n",
       "608      609      Kriti Lalwani  Female   25     City       Data Scientist   \n",
       "634      635        Anaya Dutta  Female   21     City           Freelancer   \n",
       "644      645          Dhruv Das    Male   64     City       Business Owner   \n",
       "648      649      Kunal Rathore    Male   41     City           Consultant   \n",
       "650      651       Gauri Mittal  Female   47    Rural           Consultant   \n",
       "664      665       Ayush Khanna    Male   32    Rural  Fullstack Developer   \n",
       "681      682       Arya Jaiswal    Male   37   Suburb       Data Scientist   \n",
       "688      689        Dhruv Dewan    Male   26     City               Artist   \n",
       "693      694     Aditi Mehrotra  Female   37   Suburb       Data Scientist   \n",
       "694      695        Rohan Mehta    Male   28     City       Data Scientist   \n",
       "744      745         Swara Kaul  Female   39     City       Data Scientist   \n",
       "784      785         Rohan Jain    Male   27     City       Data Scientist   \n",
       "788      789     Vihaan Singhal    Male   20     City  Fullstack Developer   \n",
       "791      792        Sara Mhatre  Female   38     City       Data Scientist   \n",
       "817      818    Akshay Mehrotra    Male   47     City           Consultant   \n",
       "932      933     Avinash Tiwari    Male   35     City       Data Scientist   \n",
       "955      956       Aahan Gandhi    Male   39   Suburb       Business Owner   \n",
       "956      957        Priya Malik  Female   24     City               Artist   \n",
       "995      996     Manya Vasudeva  Female   26     City           Freelancer   \n",
       "998      999      Amara Rathore  Female   47     City       Business Owner   \n",
       "\n",
       "     annual_income marital_status  \n",
       "14               0        Married  \n",
       "82               0         Single  \n",
       "97               0        Married  \n",
       "102              0        Married  \n",
       "155              0        Married  \n",
       "170              0         Single  \n",
       "186              0         Single  \n",
       "192              0        Married  \n",
       "227              0        Married  \n",
       "232              0        Married  \n",
       "240              0        Married  \n",
       "272              0        Married  \n",
       "275              0         Single  \n",
       "312              0        Married  \n",
       "315              0        Married  \n",
       "402              0        Married  \n",
       "404              0         Single  \n",
       "409              0        Married  \n",
       "440              0        Married  \n",
       "446              0        Married  \n",
       "449              0        Married  \n",
       "461              0        Married  \n",
       "474              0         Single  \n",
       "502              0         Single  \n",
       "508              0        Married  \n",
       "516              0         Single  \n",
       "530              0        Married  \n",
       "536              0        Married  \n",
       "599              0         Single  \n",
       "603              0        Married  \n",
       "608              0         Single  \n",
       "634              0        Married  \n",
       "644              0         Single  \n",
       "648              0        Married  \n",
       "650              0        Married  \n",
       "664              0        Married  \n",
       "681              0        Married  \n",
       "688              0        Married  \n",
       "693              0        Married  \n",
       "694              0        Married  \n",
       "744              0        Married  \n",
       "784              0         Single  \n",
       "788              0         Single  \n",
       "791              0         Single  \n",
       "817              0         Single  \n",
       "932              0        Married  \n",
       "955              0        Married  \n",
       "956              0        Married  \n",
       "995              0        Married  \n",
       "998              0        Married  "
      ]
     },
     "execution_count": 8,
     "metadata": {},
     "output_type": "execute_result"
    }
   ],
   "source": [
    "null_values"
   ]
  },
  {
   "cell_type": "code",
   "execution_count": 9,
   "id": "7d47130d",
   "metadata": {},
   "outputs": [
    {
     "data": {
      "application/vnd.microsoft.datawrangler.viewer.v0+json": {
       "columns": [
        {
         "name": "occupation",
         "rawType": "object",
         "type": "string"
        },
        {
         "name": "annual_income",
         "rawType": "float64",
         "type": "float"
        }
       ],
       "ref": "e0fb51af-f531-4a65-a66c-94481d795be1",
       "rows": [
        [
         "Accountant",
         "65265.0"
        ],
        [
         "Artist",
         "44915.0"
        ],
        [
         "Business Owner",
         "254881.0"
        ],
        [
         "Consultant",
         "51175.0"
        ],
        [
         "Data Scientist",
         "127889.0"
        ],
        [
         "Freelancer",
         "45189.5"
        ],
        [
         "Fullstack Developer",
         "74457.0"
        ]
       ],
       "shape": {
        "columns": 1,
        "rows": 7
       }
      },
      "text/plain": [
       "occupation\n",
       "Accountant              65265.0\n",
       "Artist                  44915.0\n",
       "Business Owner         254881.0\n",
       "Consultant              51175.0\n",
       "Data Scientist         127889.0\n",
       "Freelancer              45189.5\n",
       "Fullstack Developer     74457.0\n",
       "Name: annual_income, dtype: float64"
      ]
     },
     "execution_count": 9,
     "metadata": {},
     "output_type": "execute_result"
    }
   ],
   "source": [
    "occupation_median = customers.groupby('occupation')['annual_income'].median()\n",
    "occupation_median"
   ]
  },
  {
   "cell_type": "code",
   "execution_count": 10,
   "id": "ceaf0569",
   "metadata": {},
   "outputs": [],
   "source": [
    "# 2. Replace null values in annual_income with the median income of their occupation group\n",
    "customers['annual_income'] = customers.apply(\n",
    "    lambda row: occupation_median[row['occupation']] if row['annual_income'] == 0 else row['annual_income'],\n",
    "    axis=1\n",
    ")\n"
   ]
  },
  {
   "cell_type": "markdown",
   "id": "ec11d5fe",
   "metadata": {},
   "source": [
    "### Distribution\n",
    "\n",
    "We will notice that the income distribution is right skewed "
   ]
  },
  {
   "cell_type": "code",
   "execution_count": 11,
   "id": "07634716",
   "metadata": {},
   "outputs": [
    {
     "data": {
      "image/png": "[encoded data removed]",
      "text/plain": [
       "<Figure size 500x500 with 1 Axes>"
      ]
     },
     "metadata": {},
     "output_type": "display_data"
    }
   ],
   "source": [
    "plt.figure(figsize=(5, 5))\n",
    "sns.histplot(customers['annual_income'], kde=True, color='green', label='Data')\n",
    "plt.title('Histogram of annual_income')\n",
    "plt.show()"
   ]
  },
  {
   "cell_type": "code",
   "execution_count": 12,
   "id": "05ec81c0",
   "metadata": {},
   "outputs": [
    {
     "data": {
      "application/vnd.microsoft.datawrangler.viewer.v0+json": {
       "columns": [
        {
         "name": "index",
         "rawType": "object",
         "type": "string"
        },
        {
         "name": "cust_id",
         "rawType": "float64",
         "type": "float"
        },
        {
         "name": "age",
         "rawType": "float64",
         "type": "float"
        },
        {
         "name": "annual_income",
         "rawType": "float64",
         "type": "float"
        }
       ],
       "ref": "fc974d44-f997-4b39-a7ff-32dbae628f3a",
       "rows": [
        [
         "count",
         "1000.0",
         "1000.0",
         "1000.0"
        ],
        [
         "mean",
         "500.5",
         "36.405",
         "138634.4375"
        ],
        [
         "std",
         "288.8194360957494",
         "15.666154710183473",
         "110961.39663812694"
        ],
        [
         "min",
         "1.0",
         "1.0",
         "2.0"
        ],
        [
         "25%",
         "250.75",
         "26.0",
         "48229.5"
        ],
        [
         "50%",
         "500.5",
         "32.0",
         "113416.0"
        ],
        [
         "75%",
         "750.25",
         "46.0",
         "192614.0"
        ],
        [
         "max",
         "1000.0",
         "135.0",
         "449346.0"
        ]
       ],
       "shape": {
        "columns": 3,
        "rows": 8
       }
      },
      "text/html": [
       "<div>\n",
       "<style scoped>\n",
       "    .dataframe tbody tr th:only-of-type {\n",
       "        vertical-align: middle;\n",
       "    }\n",
       "\n",
       "    .dataframe tbody tr th {\n",
       "        vertical-align: top;\n",
       "    }\n",
       "\n",
       "    .dataframe thead th {\n",
       "        text-align: right;\n",
       "    }\n",
       "</style>\n",
       "<table border=\"1\" class=\"dataframe\">\n",
       "  <thead>\n",
       "    <tr style=\"text-align: right;\">\n",
       "      <th></th>\n",
       "      <th>cust_id</th>\n",
       "      <th>age</th>\n",
       "      <th>annual_income</th>\n",
       "    </tr>\n",
       "  </thead>\n",
       "  <tbody>\n",
       "    <tr>\n",
       "      <th>count</th>\n",
       "      <td>1000.000000</td>\n",
       "      <td>1000.000000</td>\n",
       "      <td>1000.000000</td>\n",
       "    </tr>\n",
       "    <tr>\n",
       "      <th>mean</th>\n",
       "      <td>500.500000</td>\n",
       "      <td>36.405000</td>\n",
       "      <td>138634.437500</td>\n",
       "    </tr>\n",
       "    <tr>\n",
       "      <th>std</th>\n",
       "      <td>288.819436</td>\n",
       "      <td>15.666155</td>\n",
       "      <td>110961.396638</td>\n",
       "    </tr>\n",
       "    <tr>\n",
       "      <th>min</th>\n",
       "      <td>1.000000</td>\n",
       "      <td>1.000000</td>\n",
       "      <td>2.000000</td>\n",
       "    </tr>\n",
       "    <tr>\n",
       "      <th>25%</th>\n",
       "      <td>250.750000</td>\n",
       "      <td>26.000000</td>\n",
       "      <td>48229.500000</td>\n",
       "    </tr>\n",
       "    <tr>\n",
       "      <th>50%</th>\n",
       "      <td>500.500000</td>\n",
       "      <td>32.000000</td>\n",
       "      <td>113416.000000</td>\n",
       "    </tr>\n",
       "    <tr>\n",
       "      <th>75%</th>\n",
       "      <td>750.250000</td>\n",
       "      <td>46.000000</td>\n",
       "      <td>192614.000000</td>\n",
       "    </tr>\n",
       "    <tr>\n",
       "      <th>max</th>\n",
       "      <td>1000.000000</td>\n",
       "      <td>135.000000</td>\n",
       "      <td>449346.000000</td>\n",
       "    </tr>\n",
       "  </tbody>\n",
       "</table>\n",
       "</div>"
      ],
      "text/plain": [
       "           cust_id          age  annual_income\n",
       "count  1000.000000  1000.000000    1000.000000\n",
       "mean    500.500000    36.405000  138634.437500\n",
       "std     288.819436    15.666155  110961.396638\n",
       "min       1.000000     1.000000       2.000000\n",
       "25%     250.750000    26.000000   48229.500000\n",
       "50%     500.500000    32.000000  113416.000000\n",
       "75%     750.250000    46.000000  192614.000000\n",
       "max    1000.000000   135.000000  449346.000000"
      ]
     },
     "execution_count": 12,
     "metadata": {},
     "output_type": "execute_result"
    }
   ],
   "source": [
    "customers.describe()"
   ]
  },
  {
   "cell_type": "code",
   "execution_count": 13,
   "id": "75e96d58",
   "metadata": {},
   "outputs": [
    {
     "data": {
      "application/vnd.microsoft.datawrangler.viewer.v0+json": {
       "columns": [
        {
         "name": "index",
         "rawType": "int64",
         "type": "integer"
        },
        {
         "name": "cust_id",
         "rawType": "int64",
         "type": "integer"
        },
        {
         "name": "name",
         "rawType": "object",
         "type": "string"
        },
        {
         "name": "gender",
         "rawType": "object",
         "type": "string"
        },
        {
         "name": "age",
         "rawType": "int64",
         "type": "integer"
        },
        {
         "name": "location",
         "rawType": "object",
         "type": "string"
        },
        {
         "name": "occupation",
         "rawType": "object",
         "type": "string"
        },
        {
         "name": "annual_income",
         "rawType": "float64",
         "type": "float"
        },
        {
         "name": "marital_status",
         "rawType": "object",
         "type": "string"
        }
       ],
       "ref": "691142e3-7788-47fc-b2ec-bcf826608660",
       "rows": [
        [
         "31",
         "32",
         "Veer Mistry",
         "Male",
         "50",
         "City",
         "Business Owner",
         "50.0",
         "Married"
        ],
        [
         "262",
         "263",
         "Vivaan Tandon",
         "Male",
         "53",
         "Suburb",
         "Business Owner",
         "50.0",
         "Married"
        ],
        [
         "316",
         "317",
         "Yuvraj Saxena",
         "Male",
         "47",
         "City",
         "Consultant",
         "50.0",
         "Married"
        ],
        [
         "333",
         "334",
         "Avani Khanna",
         "Female",
         "29",
         "City",
         "Data Scientist",
         "50.0",
         "Married"
        ],
        [
         "340",
         "341",
         "Priya Sinha",
         "Female",
         "33",
         "Rural",
         "Fullstack Developer",
         "50.0",
         "Married"
        ],
        [
         "543",
         "544",
         "Advait Batra",
         "Male",
         "54",
         "City",
         "Consultant",
         "2.0",
         "Married"
        ],
        [
         "592",
         "593",
         "Priya Gandhi",
         "Female",
         "32",
         "City",
         "Business Owner",
         "50.0",
         "Married"
        ],
        [
         "633",
         "634",
         "Rudra Mehtani",
         "Male",
         "26",
         "City",
         "Data Scientist",
         "2.0",
         "Married"
        ],
        [
         "686",
         "687",
         "Vihaan Jaiswal",
         "Male",
         "40",
         "City",
         "Business Owner",
         "2.0",
         "Married"
        ],
        [
         "696",
         "697",
         "Ishan Negi",
         "Male",
         "47",
         "City",
         "Consultant",
         "20.0",
         "Married"
        ]
       ],
       "shape": {
        "columns": 8,
        "rows": 10
       }
      },
      "text/html": [
       "<div>\n",
       "<style scoped>\n",
       "    .dataframe tbody tr th:only-of-type {\n",
       "        vertical-align: middle;\n",
       "    }\n",
       "\n",
       "    .dataframe tbody tr th {\n",
       "        vertical-align: top;\n",
       "    }\n",
       "\n",
       "    .dataframe thead th {\n",
       "        text-align: right;\n",
       "    }\n",
       "</style>\n",
       "<table border=\"1\" class=\"dataframe\">\n",
       "  <thead>\n",
       "    <tr style=\"text-align: right;\">\n",
       "      <th></th>\n",
       "      <th>cust_id</th>\n",
       "      <th>name</th>\n",
       "      <th>gender</th>\n",
       "      <th>age</th>\n",
       "      <th>location</th>\n",
       "      <th>occupation</th>\n",
       "      <th>annual_income</th>\n",
       "      <th>marital_status</th>\n",
       "    </tr>\n",
       "  </thead>\n",
       "  <tbody>\n",
       "    <tr>\n",
       "      <th>31</th>\n",
       "      <td>32</td>\n",
       "      <td>Veer Mistry</td>\n",
       "      <td>Male</td>\n",
       "      <td>50</td>\n",
       "      <td>City</td>\n",
       "      <td>Business Owner</td>\n",
       "      <td>50.0</td>\n",
       "      <td>Married</td>\n",
       "    </tr>\n",
       "    <tr>\n",
       "      <th>262</th>\n",
       "      <td>263</td>\n",
       "      <td>Vivaan Tandon</td>\n",
       "      <td>Male</td>\n",
       "      <td>53</td>\n",
       "      <td>Suburb</td>\n",
       "      <td>Business Owner</td>\n",
       "      <td>50.0</td>\n",
       "      <td>Married</td>\n",
       "    </tr>\n",
       "    <tr>\n",
       "      <th>316</th>\n",
       "      <td>317</td>\n",
       "      <td>Yuvraj Saxena</td>\n",
       "      <td>Male</td>\n",
       "      <td>47</td>\n",
       "      <td>City</td>\n",
       "      <td>Consultant</td>\n",
       "      <td>50.0</td>\n",
       "      <td>Married</td>\n",
       "    </tr>\n",
       "    <tr>\n",
       "      <th>333</th>\n",
       "      <td>334</td>\n",
       "      <td>Avani Khanna</td>\n",
       "      <td>Female</td>\n",
       "      <td>29</td>\n",
       "      <td>City</td>\n",
       "      <td>Data Scientist</td>\n",
       "      <td>50.0</td>\n",
       "      <td>Married</td>\n",
       "    </tr>\n",
       "    <tr>\n",
       "      <th>340</th>\n",
       "      <td>341</td>\n",
       "      <td>Priya Sinha</td>\n",
       "      <td>Female</td>\n",
       "      <td>33</td>\n",
       "      <td>Rural</td>\n",
       "      <td>Fullstack Developer</td>\n",
       "      <td>50.0</td>\n",
       "      <td>Married</td>\n",
       "    </tr>\n",
       "    <tr>\n",
       "      <th>543</th>\n",
       "      <td>544</td>\n",
       "      <td>Advait Batra</td>\n",
       "      <td>Male</td>\n",
       "      <td>54</td>\n",
       "      <td>City</td>\n",
       "      <td>Consultant</td>\n",
       "      <td>2.0</td>\n",
       "      <td>Married</td>\n",
       "    </tr>\n",
       "    <tr>\n",
       "      <th>592</th>\n",
       "      <td>593</td>\n",
       "      <td>Priya Gandhi</td>\n",
       "      <td>Female</td>\n",
       "      <td>32</td>\n",
       "      <td>City</td>\n",
       "      <td>Business Owner</td>\n",
       "      <td>50.0</td>\n",
       "      <td>Married</td>\n",
       "    </tr>\n",
       "    <tr>\n",
       "      <th>633</th>\n",
       "      <td>634</td>\n",
       "      <td>Rudra Mehtani</td>\n",
       "      <td>Male</td>\n",
       "      <td>26</td>\n",
       "      <td>City</td>\n",
       "      <td>Data Scientist</td>\n",
       "      <td>2.0</td>\n",
       "      <td>Married</td>\n",
       "    </tr>\n",
       "    <tr>\n",
       "      <th>686</th>\n",
       "      <td>687</td>\n",
       "      <td>Vihaan Jaiswal</td>\n",
       "      <td>Male</td>\n",
       "      <td>40</td>\n",
       "      <td>City</td>\n",
       "      <td>Business Owner</td>\n",
       "      <td>2.0</td>\n",
       "      <td>Married</td>\n",
       "    </tr>\n",
       "    <tr>\n",
       "      <th>696</th>\n",
       "      <td>697</td>\n",
       "      <td>Ishan Negi</td>\n",
       "      <td>Male</td>\n",
       "      <td>47</td>\n",
       "      <td>City</td>\n",
       "      <td>Consultant</td>\n",
       "      <td>20.0</td>\n",
       "      <td>Married</td>\n",
       "    </tr>\n",
       "  </tbody>\n",
       "</table>\n",
       "</div>"
      ],
      "text/plain": [
       "     cust_id            name  gender  age location           occupation  \\\n",
       "31        32     Veer Mistry    Male   50     City       Business Owner   \n",
       "262      263   Vivaan Tandon    Male   53   Suburb       Business Owner   \n",
       "316      317   Yuvraj Saxena    Male   47     City           Consultant   \n",
       "333      334    Avani Khanna  Female   29     City       Data Scientist   \n",
       "340      341     Priya Sinha  Female   33    Rural  Fullstack Developer   \n",
       "543      544    Advait Batra    Male   54     City           Consultant   \n",
       "592      593    Priya Gandhi  Female   32     City       Business Owner   \n",
       "633      634   Rudra Mehtani    Male   26     City       Data Scientist   \n",
       "686      687  Vihaan Jaiswal    Male   40     City       Business Owner   \n",
       "696      697      Ishan Negi    Male   47     City           Consultant   \n",
       "\n",
       "     annual_income marital_status  \n",
       "31            50.0        Married  \n",
       "262           50.0        Married  \n",
       "316           50.0        Married  \n",
       "333           50.0        Married  \n",
       "340           50.0        Married  \n",
       "543            2.0        Married  \n",
       "592           50.0        Married  \n",
       "633            2.0        Married  \n",
       "686            2.0        Married  \n",
       "696           20.0        Married  "
      ]
     },
     "execution_count": 13,
     "metadata": {},
     "output_type": "execute_result"
    }
   ],
   "source": [
    "customers[customers.annual_income < 100]"
   ]
  },
  {
   "cell_type": "code",
   "execution_count": 14,
   "id": "ce9a98e6",
   "metadata": {},
   "outputs": [],
   "source": [
    "for index, row in customers.iterrows():\n",
    "    if row[\"annual_income\"] < 100:\n",
    "        occupation = customers.at[index, \"occupation\"]\n",
    "        customers.at[index, \"annual_income\"] = occupation_median[occupation]"
   ]
  },
  {
   "cell_type": "code",
   "execution_count": 15,
   "id": "8453fd58",
   "metadata": {},
   "outputs": [
    {
     "data": {
      "application/vnd.microsoft.datawrangler.viewer.v0+json": {
       "columns": [
        {
         "name": "occupation",
         "rawType": "object",
         "type": "string"
        },
        {
         "name": "annual_income",
         "rawType": "float64",
         "type": "float"
        }
       ],
       "ref": "8b21cd79-2a43-434e-95f2-3b1ea944c28a",
       "rows": [
        [
         "Accountant",
         "64123.5625"
        ],
        [
         "Artist",
         "45239.84210526316"
        ],
        [
         "Business Owner",
         "268119.8339100346"
        ],
        [
         "Consultant",
         "59927.257731958765"
        ],
        [
         "Data Scientist",
         "136208.60326086957"
        ],
        [
         "Freelancer",
         "76293.0899122807"
        ],
        [
         "Fullstack Developer",
         "78618.38513513513"
        ]
       ],
       "shape": {
        "columns": 1,
        "rows": 7
       }
      },
      "text/plain": [
       "occupation\n",
       "Accountant              64123.562500\n",
       "Artist                  45239.842105\n",
       "Business Owner         268119.833910\n",
       "Consultant              59927.257732\n",
       "Data Scientist         136208.603261\n",
       "Freelancer              76293.089912\n",
       "Fullstack Developer     78618.385135\n",
       "Name: annual_income, dtype: float64"
      ]
     },
     "execution_count": 15,
     "metadata": {},
     "output_type": "execute_result"
    }
   ],
   "source": [
    "customers.groupby('occupation')['annual_income'].mean()"
   ]
  },
  {
   "cell_type": "code",
   "execution_count": 16,
   "id": "e44bd15c",
   "metadata": {},
   "outputs": [
    {
     "data": {
      "application/vnd.microsoft.datawrangler.viewer.v0+json": {
       "columns": [
        {
         "name": "index",
         "rawType": "object",
         "type": "string"
        },
        {
         "name": "age",
         "rawType": "float64",
         "type": "float"
        }
       ],
       "ref": "1bdc694b-19ff-4ccc-b49a-d4ac80049e89",
       "rows": [
        [
         "count",
         "1000.0"
        ],
        [
         "mean",
         "36.405"
        ],
        [
         "std",
         "15.666154710183473"
        ],
        [
         "min",
         "1.0"
        ],
        [
         "25%",
         "26.0"
        ],
        [
         "50%",
         "32.0"
        ],
        [
         "75%",
         "46.0"
        ],
        [
         "max",
         "135.0"
        ]
       ],
       "shape": {
        "columns": 1,
        "rows": 8
       }
      },
      "text/plain": [
       "count    1000.000000\n",
       "mean       36.405000\n",
       "std        15.666155\n",
       "min         1.000000\n",
       "25%        26.000000\n",
       "50%        32.000000\n",
       "75%        46.000000\n",
       "max       135.000000\n",
       "Name: age, dtype: float64"
      ]
     },
     "execution_count": 16,
     "metadata": {},
     "output_type": "execute_result"
    }
   ],
   "source": [
    "customers.age.describe()"
   ]
  },
  {
   "cell_type": "code",
   "execution_count": 17,
   "id": "428d547e",
   "metadata": {},
   "outputs": [
    {
     "data": {
      "application/vnd.microsoft.datawrangler.viewer.v0+json": {
       "columns": [
        {
         "name": "index",
         "rawType": "int64",
         "type": "integer"
        },
        {
         "name": "cust_id",
         "rawType": "int64",
         "type": "integer"
        },
        {
         "name": "name",
         "rawType": "object",
         "type": "string"
        },
        {
         "name": "gender",
         "rawType": "object",
         "type": "string"
        },
        {
         "name": "age",
         "rawType": "int64",
         "type": "integer"
        },
        {
         "name": "location",
         "rawType": "object",
         "type": "string"
        },
        {
         "name": "occupation",
         "rawType": "object",
         "type": "string"
        },
        {
         "name": "annual_income",
         "rawType": "float64",
         "type": "float"
        },
        {
         "name": "marital_status",
         "rawType": "object",
         "type": "string"
        }
       ],
       "ref": "9a8db503-96a9-4c83-bd43-5f3a513f1b81",
       "rows": [
        [
         "1",
         "2",
         "Anjali Pandey",
         "Female",
         "47",
         "City",
         "Consultant",
         "65172.0",
         "Single"
        ],
        [
         "2",
         "3",
         "Aaryan Chauhan",
         "Male",
         "21",
         "City",
         "Freelancer",
         "22378.0",
         "Married"
        ],
        [
         "3",
         "4",
         "Rudra Bali",
         "Male",
         "24",
         "Rural",
         "Freelancer",
         "33563.0",
         "Married"
        ],
        [
         "4",
         "5",
         "Advait Malik",
         "Male",
         "48",
         "City",
         "Consultant",
         "39406.0",
         "Married"
        ],
        [
         "5",
         "6",
         "Arya Das",
         "Male",
         "22",
         "City",
         "Freelancer",
         "44887.0",
         "Married"
        ],
        [
         "6",
         "7",
         "Avyanna Soni",
         "Female",
         "32",
         "Suburb",
         "Business Owner",
         "259013.0",
         "Married"
        ],
        [
         "7",
         "8",
         "Yash Vernekar",
         "Male",
         "27",
         "City",
         "Freelancer",
         "159400.0",
         "Married"
        ],
        [
         "8",
         "9",
         "Vihaan Agarwal",
         "Male",
         "21",
         "Suburb",
         "Fullstack Developer",
         "34814.0",
         "Single"
        ],
        [
         "9",
         "10",
         "Aditya Choudhary",
         "Male",
         "25",
         "Rural",
         "Freelancer",
         "39832.0",
         "Married"
        ],
        [
         "10",
         "11",
         "Krishna Singhania",
         "Male",
         "39",
         "City",
         "Accountant",
         "77588.0",
         "Married"
        ],
        [
         "11",
         "12",
         "Krishna Das",
         "Male",
         "36",
         "City",
         "Accountant",
         "67751.0",
         "Married"
        ],
        [
         "12",
         "13",
         "Vivaan Batra",
         "Male",
         "24",
         "City",
         "Freelancer",
         "25399.0",
         "Married"
        ],
        [
         "13",
         "14",
         "Amaira Saxena",
         "Female",
         "26",
         "City",
         "Data Scientist",
         "189453.0",
         "Married"
        ],
        [
         "14",
         "15",
         "Sanjana Malik",
         "Female",
         "25",
         "Rural",
         "Artist",
         "44915.0",
         "Married"
        ],
        [
         "15",
         "16",
         "Ritvik Rathod",
         "Male",
         "39",
         "Suburb",
         "Consultant",
         "107167.0",
         "Married"
        ],
        [
         "16",
         "17",
         "Ananya Srivastava",
         "Female",
         "26",
         "Suburb",
         "Freelancer",
         "141865.0",
         "Married"
        ],
        [
         "17",
         "18",
         "Yuvraj Sardar",
         "Male",
         "25",
         "City",
         "Data Scientist",
         "10672.0",
         "Married"
        ],
        [
         "18",
         "19",
         "Aarav Gambhir",
         "Male",
         "42",
         "Suburb",
         "Consultant",
         "17575.0",
         "Married"
        ],
        [
         "19",
         "20",
         "Dhruv Malhotra",
         "Male",
         "28",
         "City",
         "Artist",
         "33377.0",
         "Single"
        ],
        [
         "20",
         "21",
         "Ridhi Bali",
         "Female",
         "31",
         "City",
         "Accountant",
         "60750.0",
         "Married"
        ],
        [
         "21",
         "22",
         "Arnav Goswami",
         "Male",
         "59",
         "City",
         "Business Owner",
         "435536.0",
         "Married"
        ],
        [
         "22",
         "23",
         "Ishan Patel",
         "Male",
         "19",
         "City",
         "Freelancer",
         "36863.0",
         "Married"
        ],
        [
         "23",
         "24",
         "Anika Sen",
         "Female",
         "20",
         "City",
         "Freelancer",
         "58263.0",
         "Married"
        ],
        [
         "24",
         "25",
         "Arnav Pandey",
         "Male",
         "29",
         "City",
         "Fullstack Developer",
         "109158.0",
         "Single"
        ],
        [
         "25",
         "26",
         "Virat Shukla",
         "Male",
         "26",
         "Rural",
         "Freelancer",
         "239099.0",
         "Single"
        ],
        [
         "26",
         "27",
         "Avani Das",
         "Female",
         "64",
         "City",
         "Business Owner",
         "360483.0",
         "Married"
        ],
        [
         "27",
         "28",
         "Ayush Vaswani",
         "Male",
         "39",
         "City",
         "Data Scientist",
         "94444.0",
         "Single"
        ],
        [
         "28",
         "29",
         "Ishan Singh",
         "Male",
         "28",
         "City",
         "Freelancer",
         "244482.0",
         "Married"
        ],
        [
         "29",
         "30",
         "Aditya Kulkarni",
         "Male",
         "31",
         "Rural",
         "Data Scientist",
         "105583.0",
         "Married"
        ],
        [
         "30",
         "31",
         "Kiaan Verma",
         "Male",
         "29",
         "Rural",
         "Data Scientist",
         "121738.0",
         "Married"
        ],
        [
         "31",
         "32",
         "Veer Mistry",
         "Male",
         "50",
         "City",
         "Business Owner",
         "254881.0",
         "Married"
        ],
        [
         "32",
         "33",
         "Aahan Gupta",
         "Male",
         "32",
         "City",
         "Data Scientist",
         "160219.0",
         "Married"
        ],
        [
         "33",
         "34",
         "Aarya Nair",
         "Male",
         "38",
         "City",
         "Data Scientist",
         "145795.0",
         "Married"
        ],
        [
         "34",
         "35",
         "Myra Gulati",
         "Female",
         "21",
         "City",
         "Fullstack Developer",
         "48825.0",
         "Married"
        ],
        [
         "35",
         "36",
         "Krishna Anand",
         "Male",
         "41",
         "City",
         "Business Owner",
         "448699.0",
         "Married"
        ],
        [
         "36",
         "37",
         "Rudra Kadam",
         "Male",
         "39",
         "Suburb",
         "Data Scientist",
         "135479.0",
         "Single"
        ],
        [
         "37",
         "38",
         "Ishan Mehrotra",
         "Male",
         "64",
         "City",
         "Business Owner",
         "115498.0",
         "Married"
        ],
        [
         "38",
         "39",
         "Priya Tandon",
         "Female",
         "50",
         "City",
         "Business Owner",
         "400804.0",
         "Single"
        ],
        [
         "39",
         "40",
         "Reyansh Mangal",
         "Male",
         "43",
         "City",
         "Business Owner",
         "383460.0",
         "Married"
        ],
        [
         "40",
         "41",
         "Reyansh Bajaj",
         "Male",
         "62",
         "Suburb",
         "Business Owner",
         "327569.0",
         "Married"
        ],
        [
         "42",
         "43",
         "Riya Joshi",
         "Female",
         "32",
         "City",
         "Data Scientist",
         "135759.0",
         "Married"
        ],
        [
         "43",
         "44",
         "Aryan Jain",
         "Male",
         "44",
         "Suburb",
         "Consultant",
         "94672.0",
         "Married"
        ],
        [
         "44",
         "45",
         "Yash Joshi",
         "Male",
         "29",
         "Suburb",
         "Freelancer",
         "217475.0",
         "Married"
        ],
        [
         "45",
         "46",
         "Arya Bose",
         "Male",
         "39",
         "City",
         "Business Owner",
         "251842.0",
         "Single"
        ],
        [
         "46",
         "47",
         "Yuvraj Taneja",
         "Male",
         "27",
         "Suburb",
         "Freelancer",
         "141513.0",
         "Married"
        ],
        [
         "47",
         "48",
         "Vivaan Duggal",
         "Male",
         "32",
         "City",
         "Business Owner",
         "117263.0",
         "Married"
        ],
        [
         "48",
         "49",
         "Yuvraj Thakur",
         "Male",
         "47",
         "Suburb",
         "Business Owner",
         "248414.0",
         "Married"
        ],
        [
         "49",
         "50",
         "Yuvraj Wadhwa",
         "Male",
         "29",
         "City",
         "Data Scientist",
         "182544.0",
         "Married"
        ],
        [
         "50",
         "51",
         "Ishan Sharma",
         "Male",
         "39",
         "City",
         "Data Scientist",
         "118963.0",
         "Single"
        ],
        [
         "51",
         "52",
         "Aarav Mehta",
         "Male",
         "20",
         "City",
         "Freelancer",
         "23487.0",
         "Married"
        ]
       ],
       "shape": {
        "columns": 8,
        "rows": 980
       }
      },
      "text/html": [
       "<div>\n",
       "<style scoped>\n",
       "    .dataframe tbody tr th:only-of-type {\n",
       "        vertical-align: middle;\n",
       "    }\n",
       "\n",
       "    .dataframe tbody tr th {\n",
       "        vertical-align: top;\n",
       "    }\n",
       "\n",
       "    .dataframe thead th {\n",
       "        text-align: right;\n",
       "    }\n",
       "</style>\n",
       "<table border=\"1\" class=\"dataframe\">\n",
       "  <thead>\n",
       "    <tr style=\"text-align: right;\">\n",
       "      <th></th>\n",
       "      <th>cust_id</th>\n",
       "      <th>name</th>\n",
       "      <th>gender</th>\n",
       "      <th>age</th>\n",
       "      <th>location</th>\n",
       "      <th>occupation</th>\n",
       "      <th>annual_income</th>\n",
       "      <th>marital_status</th>\n",
       "    </tr>\n",
       "  </thead>\n",
       "  <tbody>\n",
       "    <tr>\n",
       "      <th>1</th>\n",
       "      <td>2</td>\n",
       "      <td>Anjali Pandey</td>\n",
       "      <td>Female</td>\n",
       "      <td>47</td>\n",
       "      <td>City</td>\n",
       "      <td>Consultant</td>\n",
       "      <td>65172.0</td>\n",
       "      <td>Single</td>\n",
       "    </tr>\n",
       "    <tr>\n",
       "      <th>2</th>\n",
       "      <td>3</td>\n",
       "      <td>Aaryan Chauhan</td>\n",
       "      <td>Male</td>\n",
       "      <td>21</td>\n",
       "      <td>City</td>\n",
       "      <td>Freelancer</td>\n",
       "      <td>22378.0</td>\n",
       "      <td>Married</td>\n",
       "    </tr>\n",
       "    <tr>\n",
       "      <th>3</th>\n",
       "      <td>4</td>\n",
       "      <td>Rudra Bali</td>\n",
       "      <td>Male</td>\n",
       "      <td>24</td>\n",
       "      <td>Rural</td>\n",
       "      <td>Freelancer</td>\n",
       "      <td>33563.0</td>\n",
       "      <td>Married</td>\n",
       "    </tr>\n",
       "    <tr>\n",
       "      <th>4</th>\n",
       "      <td>5</td>\n",
       "      <td>Advait Malik</td>\n",
       "      <td>Male</td>\n",
       "      <td>48</td>\n",
       "      <td>City</td>\n",
       "      <td>Consultant</td>\n",
       "      <td>39406.0</td>\n",
       "      <td>Married</td>\n",
       "    </tr>\n",
       "    <tr>\n",
       "      <th>5</th>\n",
       "      <td>6</td>\n",
       "      <td>Arya Das</td>\n",
       "      <td>Male</td>\n",
       "      <td>22</td>\n",
       "      <td>City</td>\n",
       "      <td>Freelancer</td>\n",
       "      <td>44887.0</td>\n",
       "      <td>Married</td>\n",
       "    </tr>\n",
       "    <tr>\n",
       "      <th>...</th>\n",
       "      <td>...</td>\n",
       "      <td>...</td>\n",
       "      <td>...</td>\n",
       "      <td>...</td>\n",
       "      <td>...</td>\n",
       "      <td>...</td>\n",
       "      <td>...</td>\n",
       "      <td>...</td>\n",
       "    </tr>\n",
       "    <tr>\n",
       "      <th>995</th>\n",
       "      <td>996</td>\n",
       "      <td>Manya Vasudeva</td>\n",
       "      <td>Female</td>\n",
       "      <td>26</td>\n",
       "      <td>City</td>\n",
       "      <td>Freelancer</td>\n",
       "      <td>45189.5</td>\n",
       "      <td>Married</td>\n",
       "    </tr>\n",
       "    <tr>\n",
       "      <th>996</th>\n",
       "      <td>997</td>\n",
       "      <td>Aarav Dhawan</td>\n",
       "      <td>Male</td>\n",
       "      <td>55</td>\n",
       "      <td>City</td>\n",
       "      <td>Business Owner</td>\n",
       "      <td>290061.0</td>\n",
       "      <td>Single</td>\n",
       "    </tr>\n",
       "    <tr>\n",
       "      <th>997</th>\n",
       "      <td>998</td>\n",
       "      <td>Rehan Jha</td>\n",
       "      <td>Male</td>\n",
       "      <td>29</td>\n",
       "      <td>City</td>\n",
       "      <td>Fullstack Developer</td>\n",
       "      <td>139141.0</td>\n",
       "      <td>Married</td>\n",
       "    </tr>\n",
       "    <tr>\n",
       "      <th>998</th>\n",
       "      <td>999</td>\n",
       "      <td>Amara Rathore</td>\n",
       "      <td>Female</td>\n",
       "      <td>47</td>\n",
       "      <td>City</td>\n",
       "      <td>Business Owner</td>\n",
       "      <td>254881.0</td>\n",
       "      <td>Married</td>\n",
       "    </tr>\n",
       "    <tr>\n",
       "      <th>999</th>\n",
       "      <td>1000</td>\n",
       "      <td>Akshay Choudhary</td>\n",
       "      <td>Male</td>\n",
       "      <td>28</td>\n",
       "      <td>City</td>\n",
       "      <td>Freelancer</td>\n",
       "      <td>226873.0</td>\n",
       "      <td>Married</td>\n",
       "    </tr>\n",
       "  </tbody>\n",
       "</table>\n",
       "<p>980 rows × 8 columns</p>\n",
       "</div>"
      ],
      "text/plain": [
       "     cust_id              name  gender  age location           occupation  \\\n",
       "1          2     Anjali Pandey  Female   47     City           Consultant   \n",
       "2          3    Aaryan Chauhan    Male   21     City           Freelancer   \n",
       "3          4        Rudra Bali    Male   24    Rural           Freelancer   \n",
       "4          5      Advait Malik    Male   48     City           Consultant   \n",
       "5          6          Arya Das    Male   22     City           Freelancer   \n",
       "..       ...               ...     ...  ...      ...                  ...   \n",
       "995      996    Manya Vasudeva  Female   26     City           Freelancer   \n",
       "996      997      Aarav Dhawan    Male   55     City       Business Owner   \n",
       "997      998         Rehan Jha    Male   29     City  Fullstack Developer   \n",
       "998      999     Amara Rathore  Female   47     City       Business Owner   \n",
       "999     1000  Akshay Choudhary    Male   28     City           Freelancer   \n",
       "\n",
       "     annual_income marital_status  \n",
       "1          65172.0         Single  \n",
       "2          22378.0        Married  \n",
       "3          33563.0        Married  \n",
       "4          39406.0        Married  \n",
       "5          44887.0        Married  \n",
       "..             ...            ...  \n",
       "995        45189.5        Married  \n",
       "996       290061.0         Single  \n",
       "997       139141.0        Married  \n",
       "998       254881.0        Married  \n",
       "999       226873.0        Married  \n",
       "\n",
       "[980 rows x 8 columns]"
      ]
     },
     "execution_count": 17,
     "metadata": {},
     "output_type": "execute_result"
    }
   ],
   "source": [
    "customers[(customers.age >=15) & (customers.age <=80)]"
   ]
  },
  {
   "cell_type": "code",
   "execution_count": 18,
   "id": "57b9fa8b",
   "metadata": {},
   "outputs": [
    {
     "data": {
      "application/vnd.microsoft.datawrangler.viewer.v0+json": {
       "columns": [
        {
         "name": "occupation",
         "rawType": "object",
         "type": "string"
        },
        {
         "name": "age",
         "rawType": "float64",
         "type": "float"
        }
       ],
       "ref": "5db70952-d6ed-4fe6-858b-27f328871dbb",
       "rows": [
        [
         "Accountant",
         "31.5"
        ],
        [
         "Artist",
         "26.0"
        ],
        [
         "Business Owner",
         "51.0"
        ],
        [
         "Consultant",
         "46.0"
        ],
        [
         "Data Scientist",
         "32.0"
        ],
        [
         "Freelancer",
         "24.0"
        ],
        [
         "Fullstack Developer",
         "27.5"
        ]
       ],
       "shape": {
        "columns": 1,
        "rows": 7
       }
      },
      "text/plain": [
       "occupation\n",
       "Accountant             31.5\n",
       "Artist                 26.0\n",
       "Business Owner         51.0\n",
       "Consultant             46.0\n",
       "Data Scientist         32.0\n",
       "Freelancer             24.0\n",
       "Fullstack Developer    27.5\n",
       "Name: age, dtype: float64"
      ]
     },
     "execution_count": 18,
     "metadata": {},
     "output_type": "execute_result"
    }
   ],
   "source": [
    "customers_age = customers.groupby('occupation')['age'].median()\n",
    "customers_age"
   ]
  },
  {
   "cell_type": "code",
   "execution_count": 19,
   "id": "36653dc9",
   "metadata": {},
   "outputs": [
    {
     "data": {
      "text/plain": [
       "pandas.core.series.Series"
      ]
     },
     "execution_count": 19,
     "metadata": {},
     "output_type": "execute_result"
    }
   ],
   "source": [
    "type(customers_age)"
   ]
  },
  {
   "cell_type": "code",
   "execution_count": 20,
   "id": "5c8eda42",
   "metadata": {},
   "outputs": [],
   "source": [
    "for key,value in customers.iterrows():\n",
    "    if value['age'] < 15 or value['age'] > 80:\n",
    "        customers.at[key, 'age'] = customers_age[value['occupation']]\n"
   ]
  },
  {
   "cell_type": "code",
   "execution_count": 21,
   "id": "605fb7bb",
   "metadata": {},
   "outputs": [
    {
     "data": {
      "application/vnd.microsoft.datawrangler.viewer.v0+json": {
       "columns": [
        {
         "name": "index",
         "rawType": "int64",
         "type": "integer"
        },
        {
         "name": "cust_id",
         "rawType": "int64",
         "type": "integer"
        },
        {
         "name": "name",
         "rawType": "object",
         "type": "string"
        },
        {
         "name": "gender",
         "rawType": "object",
         "type": "string"
        },
        {
         "name": "age",
         "rawType": "float64",
         "type": "float"
        },
        {
         "name": "location",
         "rawType": "object",
         "type": "string"
        },
        {
         "name": "occupation",
         "rawType": "object",
         "type": "string"
        },
        {
         "name": "annual_income",
         "rawType": "float64",
         "type": "float"
        },
        {
         "name": "marital_status",
         "rawType": "object",
         "type": "string"
        }
       ],
       "ref": "fee44e4b-bd6c-4be5-a119-54a46324190e",
       "rows": [
        [
         "0",
         "1",
         "Manya Acharya",
         "Female",
         "51.0",
         "City",
         "Business Owner",
         "358211.0",
         "Married"
        ],
        [
         "1",
         "2",
         "Anjali Pandey",
         "Female",
         "47.0",
         "City",
         "Consultant",
         "65172.0",
         "Single"
        ],
        [
         "2",
         "3",
         "Aaryan Chauhan",
         "Male",
         "21.0",
         "City",
         "Freelancer",
         "22378.0",
         "Married"
        ],
        [
         "3",
         "4",
         "Rudra Bali",
         "Male",
         "24.0",
         "Rural",
         "Freelancer",
         "33563.0",
         "Married"
        ],
        [
         "4",
         "5",
         "Advait Malik",
         "Male",
         "48.0",
         "City",
         "Consultant",
         "39406.0",
         "Married"
        ],
        [
         "5",
         "6",
         "Arya Das",
         "Male",
         "22.0",
         "City",
         "Freelancer",
         "44887.0",
         "Married"
        ],
        [
         "6",
         "7",
         "Avyanna Soni",
         "Female",
         "32.0",
         "Suburb",
         "Business Owner",
         "259013.0",
         "Married"
        ],
        [
         "7",
         "8",
         "Yash Vernekar",
         "Male",
         "27.0",
         "City",
         "Freelancer",
         "159400.0",
         "Married"
        ],
        [
         "8",
         "9",
         "Vihaan Agarwal",
         "Male",
         "21.0",
         "Suburb",
         "Fullstack Developer",
         "34814.0",
         "Single"
        ],
        [
         "9",
         "10",
         "Aditya Choudhary",
         "Male",
         "25.0",
         "Rural",
         "Freelancer",
         "39832.0",
         "Married"
        ],
        [
         "10",
         "11",
         "Krishna Singhania",
         "Male",
         "39.0",
         "City",
         "Accountant",
         "77588.0",
         "Married"
        ],
        [
         "11",
         "12",
         "Krishna Das",
         "Male",
         "36.0",
         "City",
         "Accountant",
         "67751.0",
         "Married"
        ],
        [
         "12",
         "13",
         "Vivaan Batra",
         "Male",
         "24.0",
         "City",
         "Freelancer",
         "25399.0",
         "Married"
        ],
        [
         "13",
         "14",
         "Amaira Saxena",
         "Female",
         "26.0",
         "City",
         "Data Scientist",
         "189453.0",
         "Married"
        ],
        [
         "14",
         "15",
         "Sanjana Malik",
         "Female",
         "25.0",
         "Rural",
         "Artist",
         "44915.0",
         "Married"
        ],
        [
         "15",
         "16",
         "Ritvik Rathod",
         "Male",
         "39.0",
         "Suburb",
         "Consultant",
         "107167.0",
         "Married"
        ],
        [
         "16",
         "17",
         "Ananya Srivastava",
         "Female",
         "26.0",
         "Suburb",
         "Freelancer",
         "141865.0",
         "Married"
        ],
        [
         "17",
         "18",
         "Yuvraj Sardar",
         "Male",
         "25.0",
         "City",
         "Data Scientist",
         "10672.0",
         "Married"
        ],
        [
         "18",
         "19",
         "Aarav Gambhir",
         "Male",
         "42.0",
         "Suburb",
         "Consultant",
         "17575.0",
         "Married"
        ],
        [
         "19",
         "20",
         "Dhruv Malhotra",
         "Male",
         "28.0",
         "City",
         "Artist",
         "33377.0",
         "Single"
        ],
        [
         "20",
         "21",
         "Ridhi Bali",
         "Female",
         "31.0",
         "City",
         "Accountant",
         "60750.0",
         "Married"
        ],
        [
         "21",
         "22",
         "Arnav Goswami",
         "Male",
         "59.0",
         "City",
         "Business Owner",
         "435536.0",
         "Married"
        ],
        [
         "22",
         "23",
         "Ishan Patel",
         "Male",
         "19.0",
         "City",
         "Freelancer",
         "36863.0",
         "Married"
        ],
        [
         "23",
         "24",
         "Anika Sen",
         "Female",
         "20.0",
         "City",
         "Freelancer",
         "58263.0",
         "Married"
        ],
        [
         "24",
         "25",
         "Arnav Pandey",
         "Male",
         "29.0",
         "City",
         "Fullstack Developer",
         "109158.0",
         "Single"
        ],
        [
         "25",
         "26",
         "Virat Shukla",
         "Male",
         "26.0",
         "Rural",
         "Freelancer",
         "239099.0",
         "Single"
        ],
        [
         "26",
         "27",
         "Avani Das",
         "Female",
         "64.0",
         "City",
         "Business Owner",
         "360483.0",
         "Married"
        ],
        [
         "27",
         "28",
         "Ayush Vaswani",
         "Male",
         "39.0",
         "City",
         "Data Scientist",
         "94444.0",
         "Single"
        ],
        [
         "28",
         "29",
         "Ishan Singh",
         "Male",
         "28.0",
         "City",
         "Freelancer",
         "244482.0",
         "Married"
        ],
        [
         "29",
         "30",
         "Aditya Kulkarni",
         "Male",
         "31.0",
         "Rural",
         "Data Scientist",
         "105583.0",
         "Married"
        ],
        [
         "30",
         "31",
         "Kiaan Verma",
         "Male",
         "29.0",
         "Rural",
         "Data Scientist",
         "121738.0",
         "Married"
        ],
        [
         "31",
         "32",
         "Veer Mistry",
         "Male",
         "50.0",
         "City",
         "Business Owner",
         "254881.0",
         "Married"
        ],
        [
         "32",
         "33",
         "Aahan Gupta",
         "Male",
         "32.0",
         "City",
         "Data Scientist",
         "160219.0",
         "Married"
        ],
        [
         "33",
         "34",
         "Aarya Nair",
         "Male",
         "38.0",
         "City",
         "Data Scientist",
         "145795.0",
         "Married"
        ],
        [
         "34",
         "35",
         "Myra Gulati",
         "Female",
         "21.0",
         "City",
         "Fullstack Developer",
         "48825.0",
         "Married"
        ],
        [
         "35",
         "36",
         "Krishna Anand",
         "Male",
         "41.0",
         "City",
         "Business Owner",
         "448699.0",
         "Married"
        ],
        [
         "36",
         "37",
         "Rudra Kadam",
         "Male",
         "39.0",
         "Suburb",
         "Data Scientist",
         "135479.0",
         "Single"
        ],
        [
         "37",
         "38",
         "Ishan Mehrotra",
         "Male",
         "64.0",
         "City",
         "Business Owner",
         "115498.0",
         "Married"
        ],
        [
         "38",
         "39",
         "Priya Tandon",
         "Female",
         "50.0",
         "City",
         "Business Owner",
         "400804.0",
         "Single"
        ],
        [
         "39",
         "40",
         "Reyansh Mangal",
         "Male",
         "43.0",
         "City",
         "Business Owner",
         "383460.0",
         "Married"
        ],
        [
         "40",
         "41",
         "Reyansh Bajaj",
         "Male",
         "62.0",
         "Suburb",
         "Business Owner",
         "327569.0",
         "Married"
        ],
        [
         "41",
         "42",
         "Aaryan Shah",
         "Male",
         "26.0",
         "City",
         "Artist",
         "7621.0",
         "Married"
        ],
        [
         "42",
         "43",
         "Riya Joshi",
         "Female",
         "32.0",
         "City",
         "Data Scientist",
         "135759.0",
         "Married"
        ],
        [
         "43",
         "44",
         "Aryan Jain",
         "Male",
         "44.0",
         "Suburb",
         "Consultant",
         "94672.0",
         "Married"
        ],
        [
         "44",
         "45",
         "Yash Joshi",
         "Male",
         "29.0",
         "Suburb",
         "Freelancer",
         "217475.0",
         "Married"
        ],
        [
         "45",
         "46",
         "Arya Bose",
         "Male",
         "39.0",
         "City",
         "Business Owner",
         "251842.0",
         "Single"
        ],
        [
         "46",
         "47",
         "Yuvraj Taneja",
         "Male",
         "27.0",
         "Suburb",
         "Freelancer",
         "141513.0",
         "Married"
        ],
        [
         "47",
         "48",
         "Vivaan Duggal",
         "Male",
         "32.0",
         "City",
         "Business Owner",
         "117263.0",
         "Married"
        ],
        [
         "48",
         "49",
         "Yuvraj Thakur",
         "Male",
         "47.0",
         "Suburb",
         "Business Owner",
         "248414.0",
         "Married"
        ],
        [
         "49",
         "50",
         "Yuvraj Wadhwa",
         "Male",
         "29.0",
         "City",
         "Data Scientist",
         "182544.0",
         "Married"
        ]
       ],
       "shape": {
        "columns": 8,
        "rows": 1000
       }
      },
      "text/html": [
       "<div>\n",
       "<style scoped>\n",
       "    .dataframe tbody tr th:only-of-type {\n",
       "        vertical-align: middle;\n",
       "    }\n",
       "\n",
       "    .dataframe tbody tr th {\n",
       "        vertical-align: top;\n",
       "    }\n",
       "\n",
       "    .dataframe thead th {\n",
       "        text-align: right;\n",
       "    }\n",
       "</style>\n",
       "<table border=\"1\" class=\"dataframe\">\n",
       "  <thead>\n",
       "    <tr style=\"text-align: right;\">\n",
       "      <th></th>\n",
       "      <th>cust_id</th>\n",
       "      <th>name</th>\n",
       "      <th>gender</th>\n",
       "      <th>age</th>\n",
       "      <th>location</th>\n",
       "      <th>occupation</th>\n",
       "      <th>annual_income</th>\n",
       "      <th>marital_status</th>\n",
       "    </tr>\n",
       "  </thead>\n",
       "  <tbody>\n",
       "    <tr>\n",
       "      <th>0</th>\n",
       "      <td>1</td>\n",
       "      <td>Manya Acharya</td>\n",
       "      <td>Female</td>\n",
       "      <td>51.0</td>\n",
       "      <td>City</td>\n",
       "      <td>Business Owner</td>\n",
       "      <td>358211.0</td>\n",
       "      <td>Married</td>\n",
       "    </tr>\n",
       "    <tr>\n",
       "      <th>1</th>\n",
       "      <td>2</td>\n",
       "      <td>Anjali Pandey</td>\n",
       "      <td>Female</td>\n",
       "      <td>47.0</td>\n",
       "      <td>City</td>\n",
       "      <td>Consultant</td>\n",
       "      <td>65172.0</td>\n",
       "      <td>Single</td>\n",
       "    </tr>\n",
       "    <tr>\n",
       "      <th>2</th>\n",
       "      <td>3</td>\n",
       "      <td>Aaryan Chauhan</td>\n",
       "      <td>Male</td>\n",
       "      <td>21.0</td>\n",
       "      <td>City</td>\n",
       "      <td>Freelancer</td>\n",
       "      <td>22378.0</td>\n",
       "      <td>Married</td>\n",
       "    </tr>\n",
       "    <tr>\n",
       "      <th>3</th>\n",
       "      <td>4</td>\n",
       "      <td>Rudra Bali</td>\n",
       "      <td>Male</td>\n",
       "      <td>24.0</td>\n",
       "      <td>Rural</td>\n",
       "      <td>Freelancer</td>\n",
       "      <td>33563.0</td>\n",
       "      <td>Married</td>\n",
       "    </tr>\n",
       "    <tr>\n",
       "      <th>4</th>\n",
       "      <td>5</td>\n",
       "      <td>Advait Malik</td>\n",
       "      <td>Male</td>\n",
       "      <td>48.0</td>\n",
       "      <td>City</td>\n",
       "      <td>Consultant</td>\n",
       "      <td>39406.0</td>\n",
       "      <td>Married</td>\n",
       "    </tr>\n",
       "    <tr>\n",
       "      <th>...</th>\n",
       "      <td>...</td>\n",
       "      <td>...</td>\n",
       "      <td>...</td>\n",
       "      <td>...</td>\n",
       "      <td>...</td>\n",
       "      <td>...</td>\n",
       "      <td>...</td>\n",
       "      <td>...</td>\n",
       "    </tr>\n",
       "    <tr>\n",
       "      <th>995</th>\n",
       "      <td>996</td>\n",
       "      <td>Manya Vasudeva</td>\n",
       "      <td>Female</td>\n",
       "      <td>26.0</td>\n",
       "      <td>City</td>\n",
       "      <td>Freelancer</td>\n",
       "      <td>45189.5</td>\n",
       "      <td>Married</td>\n",
       "    </tr>\n",
       "    <tr>\n",
       "      <th>996</th>\n",
       "      <td>997</td>\n",
       "      <td>Aarav Dhawan</td>\n",
       "      <td>Male</td>\n",
       "      <td>55.0</td>\n",
       "      <td>City</td>\n",
       "      <td>Business Owner</td>\n",
       "      <td>290061.0</td>\n",
       "      <td>Single</td>\n",
       "    </tr>\n",
       "    <tr>\n",
       "      <th>997</th>\n",
       "      <td>998</td>\n",
       "      <td>Rehan Jha</td>\n",
       "      <td>Male</td>\n",
       "      <td>29.0</td>\n",
       "      <td>City</td>\n",
       "      <td>Fullstack Developer</td>\n",
       "      <td>139141.0</td>\n",
       "      <td>Married</td>\n",
       "    </tr>\n",
       "    <tr>\n",
       "      <th>998</th>\n",
       "      <td>999</td>\n",
       "      <td>Amara Rathore</td>\n",
       "      <td>Female</td>\n",
       "      <td>47.0</td>\n",
       "      <td>City</td>\n",
       "      <td>Business Owner</td>\n",
       "      <td>254881.0</td>\n",
       "      <td>Married</td>\n",
       "    </tr>\n",
       "    <tr>\n",
       "      <th>999</th>\n",
       "      <td>1000</td>\n",
       "      <td>Akshay Choudhary</td>\n",
       "      <td>Male</td>\n",
       "      <td>28.0</td>\n",
       "      <td>City</td>\n",
       "      <td>Freelancer</td>\n",
       "      <td>226873.0</td>\n",
       "      <td>Married</td>\n",
       "    </tr>\n",
       "  </tbody>\n",
       "</table>\n",
       "<p>1000 rows × 8 columns</p>\n",
       "</div>"
      ],
      "text/plain": [
       "     cust_id              name  gender   age location           occupation  \\\n",
       "0          1     Manya Acharya  Female  51.0     City       Business Owner   \n",
       "1          2     Anjali Pandey  Female  47.0     City           Consultant   \n",
       "2          3    Aaryan Chauhan    Male  21.0     City           Freelancer   \n",
       "3          4        Rudra Bali    Male  24.0    Rural           Freelancer   \n",
       "4          5      Advait Malik    Male  48.0     City           Consultant   \n",
       "..       ...               ...     ...   ...      ...                  ...   \n",
       "995      996    Manya Vasudeva  Female  26.0     City           Freelancer   \n",
       "996      997      Aarav Dhawan    Male  55.0     City       Business Owner   \n",
       "997      998         Rehan Jha    Male  29.0     City  Fullstack Developer   \n",
       "998      999     Amara Rathore  Female  47.0     City       Business Owner   \n",
       "999     1000  Akshay Choudhary    Male  28.0     City           Freelancer   \n",
       "\n",
       "     annual_income marital_status  \n",
       "0         358211.0        Married  \n",
       "1          65172.0         Single  \n",
       "2          22378.0        Married  \n",
       "3          33563.0        Married  \n",
       "4          39406.0        Married  \n",
       "..             ...            ...  \n",
       "995        45189.5        Married  \n",
       "996       290061.0         Single  \n",
       "997       139141.0        Married  \n",
       "998       254881.0        Married  \n",
       "999       226873.0        Married  \n",
       "\n",
       "[1000 rows x 8 columns]"
      ]
     },
     "execution_count": 21,
     "metadata": {},
     "output_type": "execute_result"
    }
   ],
   "source": [
    "customers"
   ]
  },
  {
   "cell_type": "code",
   "execution_count": 22,
   "id": "5b00c50d",
   "metadata": {},
   "outputs": [
    {
     "data": {
      "application/vnd.microsoft.datawrangler.viewer.v0+json": {
       "columns": [
        {
         "name": "location",
         "rawType": "object",
         "type": "string"
        },
        {
         "name": "count",
         "rawType": "int64",
         "type": "integer"
        }
       ],
       "ref": "96f287eb-e59d-4f66-a445-cf822b4ef418",
       "rows": [
        [
         "City",
         "683"
        ],
        [
         "Suburb",
         "232"
        ],
        [
         "Rural",
         "85"
        ]
       ],
       "shape": {
        "columns": 1,
        "rows": 3
       }
      },
      "text/plain": [
       "location\n",
       "City      683\n",
       "Suburb    232\n",
       "Rural      85\n",
       "Name: count, dtype: int64"
      ]
     },
     "execution_count": 22,
     "metadata": {},
     "output_type": "execute_result"
    }
   ],
   "source": [
    "customers_location = customers.location.value_counts()\n",
    "customers_location"
   ]
  },
  {
   "cell_type": "code",
   "execution_count": 23,
   "id": "aaab9cf8",
   "metadata": {},
   "outputs": [
    {
     "data": {
      "text/plain": [
       "pandas.core.series.Series"
      ]
     },
     "execution_count": 23,
     "metadata": {},
     "output_type": "execute_result"
    }
   ],
   "source": [
    "type(customers_location)"
   ]
  },
  {
   "cell_type": "code",
   "execution_count": 24,
   "id": "45259b00",
   "metadata": {},
   "outputs": [
    {
     "data": {
      "text/plain": [
       "<Axes: ylabel='count'>"
      ]
     },
     "execution_count": 24,
     "metadata": {},
     "output_type": "execute_result"
    },
    {
     "data": {
      "image/png": "[encoded data removed]",
      "text/plain": [
       "<Figure size 640x480 with 1 Axes>"
      ]
     },
     "metadata": {},
     "output_type": "display_data"
    }
   ],
   "source": [
    "customers_location.plot.pie()"
   ]
  },
  {
   "cell_type": "code",
   "execution_count": 25,
   "id": "efa8749a",
   "metadata": {},
   "outputs": [
    {
     "data": {
      "application/vnd.microsoft.datawrangler.viewer.v0+json": {
       "columns": [
        {
         "name": "location",
         "rawType": "object",
         "type": "string"
        },
        {
         "name": "count",
         "rawType": "int64",
         "type": "integer"
        }
       ],
       "ref": "51c634dd-e3ef-459f-a5f9-4e0f1e6f7437",
       "rows": [
        [
         "City",
         "683"
        ],
        [
         "Rural",
         "85"
        ],
        [
         "Suburb",
         "232"
        ]
       ],
       "shape": {
        "columns": 1,
        "rows": 3
       }
      },
      "text/plain": [
       "location\n",
       "City      683\n",
       "Rural      85\n",
       "Suburb    232\n",
       "Name: count, dtype: int64"
      ]
     },
     "execution_count": 25,
     "metadata": {},
     "output_type": "execute_result"
    }
   ],
   "source": [
    "customers_loc = customers.groupby('location').location.value_counts()\n",
    "customers_loc"
   ]
  },
  {
   "cell_type": "code",
   "execution_count": 26,
   "id": "1c98a09c",
   "metadata": {},
   "outputs": [
    {
     "data": {
      "text/plain": [
       "<Axes: xlabel='location'>"
      ]
     },
     "execution_count": 26,
     "metadata": {},
     "output_type": "execute_result"
    },
    {
     "data": {
      "image/png": "[encoded data removed]",
      "text/plain": [
       "<Figure size 640x480 with 1 Axes>"
      ]
     },
     "metadata": {},
     "output_type": "display_data"
    }
   ],
   "source": [
    "customers_loc.plot.bar(stacked=True)"
   ]
  },
  {
   "cell_type": "code",
   "execution_count": 27,
   "id": "c7b872c0",
   "metadata": {},
   "outputs": [],
   "source": [
    "bins_number = [17,25,48,65]\n",
    "lab = ['18-25', '36-48', '49-65']\n",
    "\n",
    "# Step 3: Use cut() to categorize the marks\n",
    "customers['Age_category'] = pd.cut(customers['age'], bins=bins_number, labels=lab, include_lowest=True)"
   ]
  },
  {
   "cell_type": "code",
   "execution_count": 28,
   "id": "77a7cac5",
   "metadata": {},
   "outputs": [
    {
     "data": {
      "application/vnd.microsoft.datawrangler.viewer.v0+json": {
       "columns": [
        {
         "name": "Age_category",
         "rawType": "category",
         "type": "unknown"
        },
        {
         "name": "count",
         "rawType": "int64",
         "type": "integer"
        }
       ],
       "ref": "8a18fe04-9397-4002-aab7-e1b9162df9b1",
       "rows": [
        [
         "36-48",
         "567"
        ],
        [
         "18-25",
         "246"
        ],
        [
         "49-65",
         "187"
        ]
       ],
       "shape": {
        "columns": 1,
        "rows": 3
       }
      },
      "text/plain": [
       "Age_category\n",
       "36-48    567\n",
       "18-25    246\n",
       "49-65    187\n",
       "Name: count, dtype: int64"
      ]
     },
     "execution_count": 28,
     "metadata": {},
     "output_type": "execute_result"
    }
   ],
   "source": [
    "age_bins = customers.Age_category.value_counts()\n",
    "age_bins"
   ]
  },
  {
   "cell_type": "code",
   "execution_count": 29,
   "id": "04daa488",
   "metadata": {},
   "outputs": [
    {
     "data": {
      "text/plain": [
       "CategoricalIndex(['36-48', '18-25', '49-65'], categories=['18-25', '36-48', '49-65'], ordered=True, dtype='category', name='Age_category')"
      ]
     },
     "execution_count": 29,
     "metadata": {},
     "output_type": "execute_result"
    }
   ],
   "source": [
    "age_bins.index"
   ]
  },
  {
   "cell_type": "code",
   "execution_count": 30,
   "id": "0021596e",
   "metadata": {},
   "outputs": [
    {
     "data": {
      "text/plain": [
       "<Axes: ylabel='count'>"
      ]
     },
     "execution_count": 30,
     "metadata": {},
     "output_type": "execute_result"
    },
    {
     "data": {
      "image/png": "[encoded data removed]",
      "text/plain": [
       "<Figure size 640x480 with 1 Axes>"
      ]
     },
     "metadata": {},
     "output_type": "display_data"
    }
   ],
   "source": [
    "age_bins.plot.pie(labels=age_bins.values)"
   ]
  },
  {
   "cell_type": "code",
   "execution_count": 31,
   "id": "575ddb5e",
   "metadata": {},
   "outputs": [
    {
     "data": {
      "application/vnd.microsoft.datawrangler.viewer.v0+json": {
       "columns": [
        {
         "name": "index",
         "rawType": "int64",
         "type": "integer"
        },
        {
         "name": "cust_id",
         "rawType": "int64",
         "type": "integer"
        },
        {
         "name": "name",
         "rawType": "object",
         "type": "string"
        },
        {
         "name": "gender",
         "rawType": "object",
         "type": "string"
        },
        {
         "name": "age",
         "rawType": "float64",
         "type": "float"
        },
        {
         "name": "location",
         "rawType": "object",
         "type": "string"
        },
        {
         "name": "occupation",
         "rawType": "object",
         "type": "string"
        },
        {
         "name": "annual_income",
         "rawType": "float64",
         "type": "float"
        },
        {
         "name": "marital_status",
         "rawType": "object",
         "type": "string"
        },
        {
         "name": "Age_category",
         "rawType": "category",
         "type": "unknown"
        }
       ],
       "ref": "d8b897d6-869b-417d-aa9b-2a75023cb8f1",
       "rows": [
        [
         "0",
         "1",
         "Manya Acharya",
         "Female",
         "51.0",
         "City",
         "Business Owner",
         "358211.0",
         "Married",
         "49-65"
        ],
        [
         "1",
         "2",
         "Anjali Pandey",
         "Female",
         "47.0",
         "City",
         "Consultant",
         "65172.0",
         "Single",
         "36-48"
        ],
        [
         "2",
         "3",
         "Aaryan Chauhan",
         "Male",
         "21.0",
         "City",
         "Freelancer",
         "22378.0",
         "Married",
         "18-25"
        ],
        [
         "3",
         "4",
         "Rudra Bali",
         "Male",
         "24.0",
         "Rural",
         "Freelancer",
         "33563.0",
         "Married",
         "18-25"
        ],
        [
         "4",
         "5",
         "Advait Malik",
         "Male",
         "48.0",
         "City",
         "Consultant",
         "39406.0",
         "Married",
         "36-48"
        ],
        [
         "5",
         "6",
         "Arya Das",
         "Male",
         "22.0",
         "City",
         "Freelancer",
         "44887.0",
         "Married",
         "18-25"
        ],
        [
         "6",
         "7",
         "Avyanna Soni",
         "Female",
         "32.0",
         "Suburb",
         "Business Owner",
         "259013.0",
         "Married",
         "36-48"
        ],
        [
         "7",
         "8",
         "Yash Vernekar",
         "Male",
         "27.0",
         "City",
         "Freelancer",
         "159400.0",
         "Married",
         "36-48"
        ],
        [
         "8",
         "9",
         "Vihaan Agarwal",
         "Male",
         "21.0",
         "Suburb",
         "Fullstack Developer",
         "34814.0",
         "Single",
         "18-25"
        ],
        [
         "9",
         "10",
         "Aditya Choudhary",
         "Male",
         "25.0",
         "Rural",
         "Freelancer",
         "39832.0",
         "Married",
         "18-25"
        ],
        [
         "10",
         "11",
         "Krishna Singhania",
         "Male",
         "39.0",
         "City",
         "Accountant",
         "77588.0",
         "Married",
         "36-48"
        ],
        [
         "11",
         "12",
         "Krishna Das",
         "Male",
         "36.0",
         "City",
         "Accountant",
         "67751.0",
         "Married",
         "36-48"
        ],
        [
         "12",
         "13",
         "Vivaan Batra",
         "Male",
         "24.0",
         "City",
         "Freelancer",
         "25399.0",
         "Married",
         "18-25"
        ],
        [
         "13",
         "14",
         "Amaira Saxena",
         "Female",
         "26.0",
         "City",
         "Data Scientist",
         "189453.0",
         "Married",
         "36-48"
        ],
        [
         "14",
         "15",
         "Sanjana Malik",
         "Female",
         "25.0",
         "Rural",
         "Artist",
         "44915.0",
         "Married",
         "18-25"
        ],
        [
         "15",
         "16",
         "Ritvik Rathod",
         "Male",
         "39.0",
         "Suburb",
         "Consultant",
         "107167.0",
         "Married",
         "36-48"
        ],
        [
         "16",
         "17",
         "Ananya Srivastava",
         "Female",
         "26.0",
         "Suburb",
         "Freelancer",
         "141865.0",
         "Married",
         "36-48"
        ],
        [
         "17",
         "18",
         "Yuvraj Sardar",
         "Male",
         "25.0",
         "City",
         "Data Scientist",
         "10672.0",
         "Married",
         "18-25"
        ],
        [
         "18",
         "19",
         "Aarav Gambhir",
         "Male",
         "42.0",
         "Suburb",
         "Consultant",
         "17575.0",
         "Married",
         "36-48"
        ],
        [
         "19",
         "20",
         "Dhruv Malhotra",
         "Male",
         "28.0",
         "City",
         "Artist",
         "33377.0",
         "Single",
         "36-48"
        ],
        [
         "20",
         "21",
         "Ridhi Bali",
         "Female",
         "31.0",
         "City",
         "Accountant",
         "60750.0",
         "Married",
         "36-48"
        ],
        [
         "21",
         "22",
         "Arnav Goswami",
         "Male",
         "59.0",
         "City",
         "Business Owner",
         "435536.0",
         "Married",
         "49-65"
        ],
        [
         "22",
         "23",
         "Ishan Patel",
         "Male",
         "19.0",
         "City",
         "Freelancer",
         "36863.0",
         "Married",
         "18-25"
        ],
        [
         "23",
         "24",
         "Anika Sen",
         "Female",
         "20.0",
         "City",
         "Freelancer",
         "58263.0",
         "Married",
         "18-25"
        ],
        [
         "24",
         "25",
         "Arnav Pandey",
         "Male",
         "29.0",
         "City",
         "Fullstack Developer",
         "109158.0",
         "Single",
         "36-48"
        ],
        [
         "25",
         "26",
         "Virat Shukla",
         "Male",
         "26.0",
         "Rural",
         "Freelancer",
         "239099.0",
         "Single",
         "36-48"
        ],
        [
         "26",
         "27",
         "Avani Das",
         "Female",
         "64.0",
         "City",
         "Business Owner",
         "360483.0",
         "Married",
         "49-65"
        ],
        [
         "27",
         "28",
         "Ayush Vaswani",
         "Male",
         "39.0",
         "City",
         "Data Scientist",
         "94444.0",
         "Single",
         "36-48"
        ],
        [
         "28",
         "29",
         "Ishan Singh",
         "Male",
         "28.0",
         "City",
         "Freelancer",
         "244482.0",
         "Married",
         "36-48"
        ],
        [
         "29",
         "30",
         "Aditya Kulkarni",
         "Male",
         "31.0",
         "Rural",
         "Data Scientist",
         "105583.0",
         "Married",
         "36-48"
        ],
        [
         "30",
         "31",
         "Kiaan Verma",
         "Male",
         "29.0",
         "Rural",
         "Data Scientist",
         "121738.0",
         "Married",
         "36-48"
        ],
        [
         "31",
         "32",
         "Veer Mistry",
         "Male",
         "50.0",
         "City",
         "Business Owner",
         "254881.0",
         "Married",
         "49-65"
        ],
        [
         "32",
         "33",
         "Aahan Gupta",
         "Male",
         "32.0",
         "City",
         "Data Scientist",
         "160219.0",
         "Married",
         "36-48"
        ],
        [
         "33",
         "34",
         "Aarya Nair",
         "Male",
         "38.0",
         "City",
         "Data Scientist",
         "145795.0",
         "Married",
         "36-48"
        ],
        [
         "34",
         "35",
         "Myra Gulati",
         "Female",
         "21.0",
         "City",
         "Fullstack Developer",
         "48825.0",
         "Married",
         "18-25"
        ],
        [
         "35",
         "36",
         "Krishna Anand",
         "Male",
         "41.0",
         "City",
         "Business Owner",
         "448699.0",
         "Married",
         "36-48"
        ],
        [
         "36",
         "37",
         "Rudra Kadam",
         "Male",
         "39.0",
         "Suburb",
         "Data Scientist",
         "135479.0",
         "Single",
         "36-48"
        ],
        [
         "37",
         "38",
         "Ishan Mehrotra",
         "Male",
         "64.0",
         "City",
         "Business Owner",
         "115498.0",
         "Married",
         "49-65"
        ],
        [
         "38",
         "39",
         "Priya Tandon",
         "Female",
         "50.0",
         "City",
         "Business Owner",
         "400804.0",
         "Single",
         "49-65"
        ],
        [
         "39",
         "40",
         "Reyansh Mangal",
         "Male",
         "43.0",
         "City",
         "Business Owner",
         "383460.0",
         "Married",
         "36-48"
        ],
        [
         "40",
         "41",
         "Reyansh Bajaj",
         "Male",
         "62.0",
         "Suburb",
         "Business Owner",
         "327569.0",
         "Married",
         "49-65"
        ],
        [
         "41",
         "42",
         "Aaryan Shah",
         "Male",
         "26.0",
         "City",
         "Artist",
         "7621.0",
         "Married",
         "36-48"
        ],
        [
         "42",
         "43",
         "Riya Joshi",
         "Female",
         "32.0",
         "City",
         "Data Scientist",
         "135759.0",
         "Married",
         "36-48"
        ],
        [
         "43",
         "44",
         "Aryan Jain",
         "Male",
         "44.0",
         "Suburb",
         "Consultant",
         "94672.0",
         "Married",
         "36-48"
        ],
        [
         "44",
         "45",
         "Yash Joshi",
         "Male",
         "29.0",
         "Suburb",
         "Freelancer",
         "217475.0",
         "Married",
         "36-48"
        ],
        [
         "45",
         "46",
         "Arya Bose",
         "Male",
         "39.0",
         "City",
         "Business Owner",
         "251842.0",
         "Single",
         "36-48"
        ],
        [
         "46",
         "47",
         "Yuvraj Taneja",
         "Male",
         "27.0",
         "Suburb",
         "Freelancer",
         "141513.0",
         "Married",
         "36-48"
        ],
        [
         "47",
         "48",
         "Vivaan Duggal",
         "Male",
         "32.0",
         "City",
         "Business Owner",
         "117263.0",
         "Married",
         "36-48"
        ],
        [
         "48",
         "49",
         "Yuvraj Thakur",
         "Male",
         "47.0",
         "Suburb",
         "Business Owner",
         "248414.0",
         "Married",
         "36-48"
        ],
        [
         "49",
         "50",
         "Yuvraj Wadhwa",
         "Male",
         "29.0",
         "City",
         "Data Scientist",
         "182544.0",
         "Married",
         "36-48"
        ]
       ],
       "shape": {
        "columns": 9,
        "rows": 1000
       }
      },
      "text/html": [
       "<div>\n",
       "<style scoped>\n",
       "    .dataframe tbody tr th:only-of-type {\n",
       "        vertical-align: middle;\n",
       "    }\n",
       "\n",
       "    .dataframe tbody tr th {\n",
       "        vertical-align: top;\n",
       "    }\n",
       "\n",
       "    .dataframe thead th {\n",
       "        text-align: right;\n",
       "    }\n",
       "</style>\n",
       "<table border=\"1\" class=\"dataframe\">\n",
       "  <thead>\n",
       "    <tr style=\"text-align: right;\">\n",
       "      <th></th>\n",
       "      <th>cust_id</th>\n",
       "      <th>name</th>\n",
       "      <th>gender</th>\n",
       "      <th>age</th>\n",
       "      <th>location</th>\n",
       "      <th>occupation</th>\n",
       "      <th>annual_income</th>\n",
       "      <th>marital_status</th>\n",
       "      <th>Age_category</th>\n",
       "    </tr>\n",
       "  </thead>\n",
       "  <tbody>\n",
       "    <tr>\n",
       "      <th>0</th>\n",
       "      <td>1</td>\n",
       "      <td>Manya Acharya</td>\n",
       "      <td>Female</td>\n",
       "      <td>51.0</td>\n",
       "      <td>City</td>\n",
       "      <td>Business Owner</td>\n",
       "      <td>358211.0</td>\n",
       "      <td>Married</td>\n",
       "      <td>49-65</td>\n",
       "    </tr>\n",
       "    <tr>\n",
       "      <th>1</th>\n",
       "      <td>2</td>\n",
       "      <td>Anjali Pandey</td>\n",
       "      <td>Female</td>\n",
       "      <td>47.0</td>\n",
       "      <td>City</td>\n",
       "      <td>Consultant</td>\n",
       "      <td>65172.0</td>\n",
       "      <td>Single</td>\n",
       "      <td>36-48</td>\n",
       "    </tr>\n",
       "    <tr>\n",
       "      <th>2</th>\n",
       "      <td>3</td>\n",
       "      <td>Aaryan Chauhan</td>\n",
       "      <td>Male</td>\n",
       "      <td>21.0</td>\n",
       "      <td>City</td>\n",
       "      <td>Freelancer</td>\n",
       "      <td>22378.0</td>\n",
       "      <td>Married</td>\n",
       "      <td>18-25</td>\n",
       "    </tr>\n",
       "    <tr>\n",
       "      <th>3</th>\n",
       "      <td>4</td>\n",
       "      <td>Rudra Bali</td>\n",
       "      <td>Male</td>\n",
       "      <td>24.0</td>\n",
       "      <td>Rural</td>\n",
       "      <td>Freelancer</td>\n",
       "      <td>33563.0</td>\n",
       "      <td>Married</td>\n",
       "      <td>18-25</td>\n",
       "    </tr>\n",
       "    <tr>\n",
       "      <th>4</th>\n",
       "      <td>5</td>\n",
       "      <td>Advait Malik</td>\n",
       "      <td>Male</td>\n",
       "      <td>48.0</td>\n",
       "      <td>City</td>\n",
       "      <td>Consultant</td>\n",
       "      <td>39406.0</td>\n",
       "      <td>Married</td>\n",
       "      <td>36-48</td>\n",
       "    </tr>\n",
       "    <tr>\n",
       "      <th>...</th>\n",
       "      <td>...</td>\n",
       "      <td>...</td>\n",
       "      <td>...</td>\n",
       "      <td>...</td>\n",
       "      <td>...</td>\n",
       "      <td>...</td>\n",
       "      <td>...</td>\n",
       "      <td>...</td>\n",
       "      <td>...</td>\n",
       "    </tr>\n",
       "    <tr>\n",
       "      <th>995</th>\n",
       "      <td>996</td>\n",
       "      <td>Manya Vasudeva</td>\n",
       "      <td>Female</td>\n",
       "      <td>26.0</td>\n",
       "      <td>City</td>\n",
       "      <td>Freelancer</td>\n",
       "      <td>45189.5</td>\n",
       "      <td>Married</td>\n",
       "      <td>36-48</td>\n",
       "    </tr>\n",
       "    <tr>\n",
       "      <th>996</th>\n",
       "      <td>997</td>\n",
       "      <td>Aarav Dhawan</td>\n",
       "      <td>Male</td>\n",
       "      <td>55.0</td>\n",
       "      <td>City</td>\n",
       "      <td>Business Owner</td>\n",
       "      <td>290061.0</td>\n",
       "      <td>Single</td>\n",
       "      <td>49-65</td>\n",
       "    </tr>\n",
       "    <tr>\n",
       "      <th>997</th>\n",
       "      <td>998</td>\n",
       "      <td>Rehan Jha</td>\n",
       "      <td>Male</td>\n",
       "      <td>29.0</td>\n",
       "      <td>City</td>\n",
       "      <td>Fullstack Developer</td>\n",
       "      <td>139141.0</td>\n",
       "      <td>Married</td>\n",
       "      <td>36-48</td>\n",
       "    </tr>\n",
       "    <tr>\n",
       "      <th>998</th>\n",
       "      <td>999</td>\n",
       "      <td>Amara Rathore</td>\n",
       "      <td>Female</td>\n",
       "      <td>47.0</td>\n",
       "      <td>City</td>\n",
       "      <td>Business Owner</td>\n",
       "      <td>254881.0</td>\n",
       "      <td>Married</td>\n",
       "      <td>36-48</td>\n",
       "    </tr>\n",
       "    <tr>\n",
       "      <th>999</th>\n",
       "      <td>1000</td>\n",
       "      <td>Akshay Choudhary</td>\n",
       "      <td>Male</td>\n",
       "      <td>28.0</td>\n",
       "      <td>City</td>\n",
       "      <td>Freelancer</td>\n",
       "      <td>226873.0</td>\n",
       "      <td>Married</td>\n",
       "      <td>36-48</td>\n",
       "    </tr>\n",
       "  </tbody>\n",
       "</table>\n",
       "<p>1000 rows × 9 columns</p>\n",
       "</div>"
      ],
      "text/plain": [
       "     cust_id              name  gender   age location           occupation  \\\n",
       "0          1     Manya Acharya  Female  51.0     City       Business Owner   \n",
       "1          2     Anjali Pandey  Female  47.0     City           Consultant   \n",
       "2          3    Aaryan Chauhan    Male  21.0     City           Freelancer   \n",
       "3          4        Rudra Bali    Male  24.0    Rural           Freelancer   \n",
       "4          5      Advait Malik    Male  48.0     City           Consultant   \n",
       "..       ...               ...     ...   ...      ...                  ...   \n",
       "995      996    Manya Vasudeva  Female  26.0     City           Freelancer   \n",
       "996      997      Aarav Dhawan    Male  55.0     City       Business Owner   \n",
       "997      998         Rehan Jha    Male  29.0     City  Fullstack Developer   \n",
       "998      999     Amara Rathore  Female  47.0     City       Business Owner   \n",
       "999     1000  Akshay Choudhary    Male  28.0     City           Freelancer   \n",
       "\n",
       "     annual_income marital_status Age_category  \n",
       "0         358211.0        Married        49-65  \n",
       "1          65172.0         Single        36-48  \n",
       "2          22378.0        Married        18-25  \n",
       "3          33563.0        Married        18-25  \n",
       "4          39406.0        Married        36-48  \n",
       "..             ...            ...          ...  \n",
       "995        45189.5        Married        36-48  \n",
       "996       290061.0         Single        49-65  \n",
       "997       139141.0        Married        36-48  \n",
       "998       254881.0        Married        36-48  \n",
       "999       226873.0        Married        36-48  \n",
       "\n",
       "[1000 rows x 9 columns]"
      ]
     },
     "execution_count": 31,
     "metadata": {},
     "output_type": "execute_result"
    }
   ],
   "source": [
    "customers"
   ]
  },
  {
   "cell_type": "code",
   "execution_count": 37,
   "id": "1afe2fba",
   "metadata": {},
   "outputs": [
    {
     "data": {
      "application/vnd.microsoft.datawrangler.viewer.v0+json": {
       "columns": [
        {
         "name": "location",
         "rawType": "object",
         "type": "string"
        },
        {
         "name": "Female",
         "rawType": "int64",
         "type": "integer"
        },
        {
         "name": "Male",
         "rawType": "int64",
         "type": "integer"
        }
       ],
       "ref": "b792aaee-e04b-4c09-8c08-0422f79e747f",
       "rows": [
        [
         "City",
         "226",
         "457"
        ],
        [
         "Rural",
         "26",
         "59"
        ],
        [
         "Suburb",
         "74",
         "158"
        ]
       ],
       "shape": {
        "columns": 2,
        "rows": 3
       }
      },
      "text/html": [
       "<div>\n",
       "<style scoped>\n",
       "    .dataframe tbody tr th:only-of-type {\n",
       "        vertical-align: middle;\n",
       "    }\n",
       "\n",
       "    .dataframe tbody tr th {\n",
       "        vertical-align: top;\n",
       "    }\n",
       "\n",
       "    .dataframe thead th {\n",
       "        text-align: right;\n",
       "    }\n",
       "</style>\n",
       "<table border=\"1\" class=\"dataframe\">\n",
       "  <thead>\n",
       "    <tr style=\"text-align: right;\">\n",
       "      <th>gender</th>\n",
       "      <th>Female</th>\n",
       "      <th>Male</th>\n",
       "    </tr>\n",
       "    <tr>\n",
       "      <th>location</th>\n",
       "      <th></th>\n",
       "      <th></th>\n",
       "    </tr>\n",
       "  </thead>\n",
       "  <tbody>\n",
       "    <tr>\n",
       "      <th>City</th>\n",
       "      <td>226</td>\n",
       "      <td>457</td>\n",
       "    </tr>\n",
       "    <tr>\n",
       "      <th>Rural</th>\n",
       "      <td>26</td>\n",
       "      <td>59</td>\n",
       "    </tr>\n",
       "    <tr>\n",
       "      <th>Suburb</th>\n",
       "      <td>74</td>\n",
       "      <td>158</td>\n",
       "    </tr>\n",
       "  </tbody>\n",
       "</table>\n",
       "</div>"
      ],
      "text/plain": [
       "gender    Female  Male\n",
       "location              \n",
       "City         226   457\n",
       "Rural         26    59\n",
       "Suburb        74   158"
      ]
     },
     "execution_count": 37,
     "metadata": {},
     "output_type": "execute_result"
    }
   ],
   "source": [
    "location_gender = customers.groupby(['location','gender']).size().unstack()\n",
    "location_gender"
   ]
  },
  {
   "cell_type": "code",
   "execution_count": 45,
   "id": "e95db498",
   "metadata": {},
   "outputs": [
    {
     "data": {
      "text/plain": [
       "<Axes: xlabel='location'>"
      ]
     },
     "execution_count": 45,
     "metadata": {},
     "output_type": "execute_result"
    },
    {
     "data": {
      "image/png": "[encoded data removed]",
      "text/plain": [
       "<Figure size 640x480 with 1 Axes>"
      ]
     },
     "metadata": {},
     "output_type": "display_data"
    }
   ],
   "source": [
    "location_gender.plot(kind='bar', stacked=True)"
   ]
  },
  {
   "cell_type": "code",
   "execution_count": 46,
   "id": "7137d9b7",
   "metadata": {},
   "outputs": [
    {
     "data": {
      "application/vnd.microsoft.datawrangler.viewer.v0+json": {
       "columns": [
        {
         "name": "index",
         "rawType": "int64",
         "type": "integer"
        },
        {
         "name": "cust_id",
         "rawType": "int64",
         "type": "integer"
        },
        {
         "name": "credit_score",
         "rawType": "int64",
         "type": "integer"
        },
        {
         "name": "credit_utilisation",
         "rawType": "float64",
         "type": "float"
        },
        {
         "name": "outstanding_debt",
         "rawType": "float64",
         "type": "float"
        },
        {
         "name": "credit_inquiries_last_6_months",
         "rawType": "float64",
         "type": "float"
        },
        {
         "name": "credit_limit",
         "rawType": "float64",
         "type": "float"
        }
       ],
       "ref": "2a873c73-a605-467c-859e-3bd944dcb7f8",
       "rows": [
        [
         "0",
         "1",
         "749",
         "0.585170568",
         "19571.0",
         "0.0",
         "40000.0"
        ],
        [
         "1",
         "2",
         "587",
         "0.107928087",
         "161644.0",
         "2.0",
         "1250.0"
        ],
        [
         "2",
         "3",
         "544",
         "0.854807057",
         "513.0",
         "4.0",
         "1000.0"
        ],
        [
         "3",
         "4",
         "504",
         "0.336937759",
         "224.0",
         "2.0",
         "1000.0"
        ],
        [
         "4",
         "5",
         "708",
         "0.586150814",
         "18090.0",
         "2.0",
         "40000.0"
        ],
        [
         "5",
         "6",
         "442",
         "0.705409385",
         "246.0",
         "4.0",
         "500.0"
        ],
        [
         "6",
         "7",
         "747",
         "0.523965147",
         "15544.0",
         "4.0",
         "40000.0"
        ],
        [
         "7",
         "8",
         "482",
         "0.121774777",
         "76.0",
         "2.0",
         "750.0"
        ],
        [
         "8",
         "9",
         "537",
         "0.448923566",
         "341.0",
         "0.0",
         "1000.0"
        ],
        [
         "9",
         "10",
         "567",
         "0.533402312",
         "522.0",
         "0.0",
         "1250.0"
        ],
        [
         "10",
         "11",
         "679",
         "0.557450439",
         "9187.0",
         "2.0",
         null
        ],
        [
         "11",
         "12",
         "429",
         "0.627644651",
         "263.0",
         "0.0",
         "500.0"
        ],
        [
         "12",
         "13",
         "476",
         "0.822498091",
         "318.0",
         "3.0",
         "750.0"
        ],
        [
         "13",
         "14",
         "623",
         "0.768467873",
         "1004.0",
         "3.0",
         "1500.0"
        ],
        [
         "14",
         "15",
         "640",
         "0.349837459",
         "366.0",
         "3.0",
         "1500.0"
        ],
        [
         "15",
         "16",
         "347",
         "0.531660443",
         "190.0",
         "0.0",
         "500.0"
        ],
        [
         "16",
         "17",
         "702",
         "0.894423494",
         "18444.0",
         "0.0",
         "40000.0"
        ],
        [
         "17",
         "18",
         "546",
         "0.397331487",
         "342.0",
         "1.0",
         "1000.0"
        ],
        [
         "18",
         "19",
         "447",
         "0.795649598",
         "292.0",
         "1.0",
         "500.0"
        ],
        [
         "19",
         "20",
         "647",
         "0.439132357",
         "205014.0",
         "3.0",
         "1500.0"
        ],
        [
         "20",
         "21",
         "381",
         "0.714710038",
         "307.0",
         "0.0",
         "500.0"
        ],
        [
         "21",
         "22",
         "785",
         "0.89708907",
         "36083.0",
         "3.0",
         "60000.0"
        ],
        [
         "22",
         "23",
         "371",
         "0.886789892",
         "248.0",
         "4.0",
         "500.0"
        ],
        [
         "23",
         "24",
         "489",
         "0.835059041",
         "374.0",
         "0.0",
         "750.0"
        ],
        [
         "24",
         "25",
         "673",
         "0.14905099",
         "1626.0",
         "4.0",
         "20000.0"
        ],
        [
         "25",
         "26",
         "758",
         "0.250811009",
         "190838.0",
         "2.0",
         "60000.0"
        ],
        [
         "26",
         "27",
         "766",
         "0.830907616",
         "31344.0",
         "3.0",
         "60000.0"
        ],
        [
         "27",
         "28",
         "729",
         "0.149748199",
         "3453.0",
         "2.0",
         "40000.0"
        ],
        [
         "28",
         "29",
         "724",
         "0.306121549",
         "9593.0",
         "0.0",
         "40000.0"
        ],
        [
         "29",
         "30",
         "798",
         "0.222596829",
         "7238.0",
         "2.0",
         "60000.0"
        ],
        [
         "30",
         "31",
         "437",
         "0.867207576",
         "226.0",
         "3.0",
         "500.0"
        ],
        [
         "31",
         "32",
         "768",
         "0.747792921",
         "35109.0",
         "2.0",
         "60000.0"
        ],
        [
         "32",
         "33",
         "516",
         "0.284127915",
         "253.0",
         "0.0",
         "1000.0"
        ],
        [
         "33",
         "34",
         "396",
         "0.257830303",
         "109.0",
         "1.0",
         "500.0"
        ],
        [
         "34",
         "35",
         "414",
         "0.879471844",
         "323.0",
         "2.0",
         "500.0"
        ],
        [
         "35",
         "36",
         "790",
         "0.112535231",
         "4261.0",
         "1.0",
         null
        ],
        [
         "36",
         "37",
         "417",
         "0.53240126",
         "224.0",
         "1.0",
         "500.0"
        ],
        [
         "37",
         "38",
         "514",
         "0.296971018",
         "238.0",
         "2.0",
         null
        ],
        [
         "38",
         "39",
         "734",
         "0.57302335",
         "122758.0",
         "3.0",
         "40000.0"
        ],
        [
         "39",
         "40",
         "780",
         "0.665327044",
         "24600.0",
         "4.0",
         "60000.0"
        ],
        [
         "40",
         "41",
         "741",
         "0.358413721",
         "8206.0",
         "4.0",
         "40000.0"
        ],
        [
         "41",
         "42",
         "530",
         "0.165774558",
         "137.0",
         "2.0",
         "1000.0"
        ],
        [
         "42",
         "43",
         "397",
         "0.629177371",
         "282.0",
         "1.0",
         "500.0"
        ],
        [
         "43",
         "44",
         "435",
         "0.3470836",
         "114.0",
         "1.0",
         "500.0"
        ],
        [
         "44",
         "45",
         "757",
         "0.724375595",
         "22504.0",
         "2.0",
         "60000.0"
        ],
        [
         "45",
         "46",
         "761",
         "0.596040589",
         "24234.0",
         "2.0",
         null
        ],
        [
         "46",
         "47",
         "604",
         "0.1464412",
         "194.0",
         "2.0",
         "1500.0"
        ],
        [
         "47",
         "48",
         "504",
         "0.503983698",
         "426.0",
         "0.0",
         "1000.0"
        ],
        [
         "48",
         "49",
         "733",
         "0.800572209",
         "23896.0",
         "2.0",
         "40000.0"
        ],
        [
         "49",
         "50",
         "357",
         "0.763377549",
         "233.0",
         "0.0",
         "500.0"
        ]
       ],
       "shape": {
        "columns": 6,
        "rows": 1004
       }
      },
      "text/html": [
       "<div>\n",
       "<style scoped>\n",
       "    .dataframe tbody tr th:only-of-type {\n",
       "        vertical-align: middle;\n",
       "    }\n",
       "\n",
       "    .dataframe tbody tr th {\n",
       "        vertical-align: top;\n",
       "    }\n",
       "\n",
       "    .dataframe thead th {\n",
       "        text-align: right;\n",
       "    }\n",
       "</style>\n",
       "<table border=\"1\" class=\"dataframe\">\n",
       "  <thead>\n",
       "    <tr style=\"text-align: right;\">\n",
       "      <th></th>\n",
       "      <th>cust_id</th>\n",
       "      <th>credit_score</th>\n",
       "      <th>credit_utilisation</th>\n",
       "      <th>outstanding_debt</th>\n",
       "      <th>credit_inquiries_last_6_months</th>\n",
       "      <th>credit_limit</th>\n",
       "    </tr>\n",
       "  </thead>\n",
       "  <tbody>\n",
       "    <tr>\n",
       "      <th>0</th>\n",
       "      <td>1</td>\n",
       "      <td>749</td>\n",
       "      <td>0.585171</td>\n",
       "      <td>19571.0</td>\n",
       "      <td>0.0</td>\n",
       "      <td>40000.0</td>\n",
       "    </tr>\n",
       "    <tr>\n",
       "      <th>1</th>\n",
       "      <td>2</td>\n",
       "      <td>587</td>\n",
       "      <td>0.107928</td>\n",
       "      <td>161644.0</td>\n",
       "      <td>2.0</td>\n",
       "      <td>1250.0</td>\n",
       "    </tr>\n",
       "    <tr>\n",
       "      <th>2</th>\n",
       "      <td>3</td>\n",
       "      <td>544</td>\n",
       "      <td>0.854807</td>\n",
       "      <td>513.0</td>\n",
       "      <td>4.0</td>\n",
       "      <td>1000.0</td>\n",
       "    </tr>\n",
       "    <tr>\n",
       "      <th>3</th>\n",
       "      <td>4</td>\n",
       "      <td>504</td>\n",
       "      <td>0.336938</td>\n",
       "      <td>224.0</td>\n",
       "      <td>2.0</td>\n",
       "      <td>1000.0</td>\n",
       "    </tr>\n",
       "    <tr>\n",
       "      <th>4</th>\n",
       "      <td>5</td>\n",
       "      <td>708</td>\n",
       "      <td>0.586151</td>\n",
       "      <td>18090.0</td>\n",
       "      <td>2.0</td>\n",
       "      <td>40000.0</td>\n",
       "    </tr>\n",
       "    <tr>\n",
       "      <th>...</th>\n",
       "      <td>...</td>\n",
       "      <td>...</td>\n",
       "      <td>...</td>\n",
       "      <td>...</td>\n",
       "      <td>...</td>\n",
       "      <td>...</td>\n",
       "    </tr>\n",
       "    <tr>\n",
       "      <th>999</th>\n",
       "      <td>996</td>\n",
       "      <td>564</td>\n",
       "      <td>0.702963</td>\n",
       "      <td>688.0</td>\n",
       "      <td>2.0</td>\n",
       "      <td>1250.0</td>\n",
       "    </tr>\n",
       "    <tr>\n",
       "      <th>1000</th>\n",
       "      <td>997</td>\n",
       "      <td>774</td>\n",
       "      <td>0.465462</td>\n",
       "      <td>17139.0</td>\n",
       "      <td>0.0</td>\n",
       "      <td>60000.0</td>\n",
       "    </tr>\n",
       "    <tr>\n",
       "      <th>1001</th>\n",
       "      <td>998</td>\n",
       "      <td>529</td>\n",
       "      <td>0.585856</td>\n",
       "      <td>386.0</td>\n",
       "      <td>3.0</td>\n",
       "      <td>1000.0</td>\n",
       "    </tr>\n",
       "    <tr>\n",
       "      <th>1002</th>\n",
       "      <td>999</td>\n",
       "      <td>725</td>\n",
       "      <td>0.249670</td>\n",
       "      <td>6973.0</td>\n",
       "      <td>2.0</td>\n",
       "      <td>40000.0</td>\n",
       "    </tr>\n",
       "    <tr>\n",
       "      <th>1003</th>\n",
       "      <td>1000</td>\n",
       "      <td>775</td>\n",
       "      <td>0.696050</td>\n",
       "      <td>33956.0</td>\n",
       "      <td>1.0</td>\n",
       "      <td>60000.0</td>\n",
       "    </tr>\n",
       "  </tbody>\n",
       "</table>\n",
       "<p>1004 rows × 6 columns</p>\n",
       "</div>"
      ],
      "text/plain": [
       "      cust_id  credit_score  credit_utilisation  outstanding_debt  \\\n",
       "0           1           749            0.585171           19571.0   \n",
       "1           2           587            0.107928          161644.0   \n",
       "2           3           544            0.854807             513.0   \n",
       "3           4           504            0.336938             224.0   \n",
       "4           5           708            0.586151           18090.0   \n",
       "...       ...           ...                 ...               ...   \n",
       "999       996           564            0.702963             688.0   \n",
       "1000      997           774            0.465462           17139.0   \n",
       "1001      998           529            0.585856             386.0   \n",
       "1002      999           725            0.249670            6973.0   \n",
       "1003     1000           775            0.696050           33956.0   \n",
       "\n",
       "      credit_inquiries_last_6_months  credit_limit  \n",
       "0                                0.0       40000.0  \n",
       "1                                2.0        1250.0  \n",
       "2                                4.0        1000.0  \n",
       "3                                2.0        1000.0  \n",
       "4                                2.0       40000.0  \n",
       "...                              ...           ...  \n",
       "999                              2.0        1250.0  \n",
       "1000                             0.0       60000.0  \n",
       "1001                             3.0        1000.0  \n",
       "1002                             2.0       40000.0  \n",
       "1003                             1.0       60000.0  \n",
       "\n",
       "[1004 rows x 6 columns]"
      ]
     },
     "execution_count": 46,
     "metadata": {},
     "output_type": "execute_result"
    }
   ],
   "source": [
    "credit_profiles"
   ]
  },
  {
   "cell_type": "code",
   "execution_count": 47,
   "id": "916b8aa0",
   "metadata": {},
   "outputs": [
    {
     "data": {
      "application/vnd.microsoft.datawrangler.viewer.v0+json": {
       "columns": [
        {
         "name": "index",
         "rawType": "object",
         "type": "string"
        },
        {
         "name": "cust_id",
         "rawType": "float64",
         "type": "float"
        },
        {
         "name": "credit_score",
         "rawType": "float64",
         "type": "float"
        },
        {
         "name": "credit_utilisation",
         "rawType": "float64",
         "type": "float"
        },
        {
         "name": "outstanding_debt",
         "rawType": "float64",
         "type": "float"
        },
        {
         "name": "credit_inquiries_last_6_months",
         "rawType": "float64",
         "type": "float"
        },
        {
         "name": "credit_limit",
         "rawType": "float64",
         "type": "float"
        }
       ],
       "ref": "d06c842d-1813-45d6-88cb-996cdea0036d",
       "rows": [
        [
         "count",
         "1004.0",
         "1004.0",
         "1000.0",
         "1000.0",
         "1000.0",
         "935.0"
        ],
        [
         "mean",
         "500.85059760956176",
         "588.6553784860557",
         "0.498949897749",
         "9683.597",
         "1.955",
         "19235.5614973262"
        ],
        [
         "std",
         "288.3156704242848",
         "152.5752442092741",
         "0.233139010827074",
         "25255.89367062059",
         "1.4145585799025706",
         "24489.997195031425"
        ],
        [
         "min",
         "1.0",
         "300.0",
         "0.103760926",
         "33.0",
         "0.0",
         "500.0"
        ],
        [
         "25%",
         "251.75",
         "459.0",
         "0.29391736474999997",
         "221.0",
         "1.0",
         "750.0"
        ],
        [
         "50%",
         "502.5",
         "601.0",
         "0.487422352",
         "550.0",
         "2.0",
         "1250.0"
        ],
        [
         "75%",
         "749.25",
         "737.25",
         "0.69782883125",
         "11819.5",
         "3.0",
         "40000.0"
        ],
        [
         "max",
         "1000.0",
         "799.0",
         "0.899648367",
         "209901.0",
         "4.0",
         "60000.0"
        ]
       ],
       "shape": {
        "columns": 6,
        "rows": 8
       }
      },
      "text/html": [
       "<div>\n",
       "<style scoped>\n",
       "    .dataframe tbody tr th:only-of-type {\n",
       "        vertical-align: middle;\n",
       "    }\n",
       "\n",
       "    .dataframe tbody tr th {\n",
       "        vertical-align: top;\n",
       "    }\n",
       "\n",
       "    .dataframe thead th {\n",
       "        text-align: right;\n",
       "    }\n",
       "</style>\n",
       "<table border=\"1\" class=\"dataframe\">\n",
       "  <thead>\n",
       "    <tr style=\"text-align: right;\">\n",
       "      <th></th>\n",
       "      <th>cust_id</th>\n",
       "      <th>credit_score</th>\n",
       "      <th>credit_utilisation</th>\n",
       "      <th>outstanding_debt</th>\n",
       "      <th>credit_inquiries_last_6_months</th>\n",
       "      <th>credit_limit</th>\n",
       "    </tr>\n",
       "  </thead>\n",
       "  <tbody>\n",
       "    <tr>\n",
       "      <th>count</th>\n",
       "      <td>1004.000000</td>\n",
       "      <td>1004.000000</td>\n",
       "      <td>1000.000000</td>\n",
       "      <td>1000.000000</td>\n",
       "      <td>1000.000000</td>\n",
       "      <td>935.000000</td>\n",
       "    </tr>\n",
       "    <tr>\n",
       "      <th>mean</th>\n",
       "      <td>500.850598</td>\n",
       "      <td>588.655378</td>\n",
       "      <td>0.498950</td>\n",
       "      <td>9683.597000</td>\n",
       "      <td>1.955000</td>\n",
       "      <td>19235.561497</td>\n",
       "    </tr>\n",
       "    <tr>\n",
       "      <th>std</th>\n",
       "      <td>288.315670</td>\n",
       "      <td>152.575244</td>\n",
       "      <td>0.233139</td>\n",
       "      <td>25255.893671</td>\n",
       "      <td>1.414559</td>\n",
       "      <td>24489.997195</td>\n",
       "    </tr>\n",
       "    <tr>\n",
       "      <th>min</th>\n",
       "      <td>1.000000</td>\n",
       "      <td>300.000000</td>\n",
       "      <td>0.103761</td>\n",
       "      <td>33.000000</td>\n",
       "      <td>0.000000</td>\n",
       "      <td>500.000000</td>\n",
       "    </tr>\n",
       "    <tr>\n",
       "      <th>25%</th>\n",
       "      <td>251.750000</td>\n",
       "      <td>459.000000</td>\n",
       "      <td>0.293917</td>\n",
       "      <td>221.000000</td>\n",
       "      <td>1.000000</td>\n",
       "      <td>750.000000</td>\n",
       "    </tr>\n",
       "    <tr>\n",
       "      <th>50%</th>\n",
       "      <td>502.500000</td>\n",
       "      <td>601.000000</td>\n",
       "      <td>0.487422</td>\n",
       "      <td>550.000000</td>\n",
       "      <td>2.000000</td>\n",
       "      <td>1250.000000</td>\n",
       "    </tr>\n",
       "    <tr>\n",
       "      <th>75%</th>\n",
       "      <td>749.250000</td>\n",
       "      <td>737.250000</td>\n",
       "      <td>0.697829</td>\n",
       "      <td>11819.500000</td>\n",
       "      <td>3.000000</td>\n",
       "      <td>40000.000000</td>\n",
       "    </tr>\n",
       "    <tr>\n",
       "      <th>max</th>\n",
       "      <td>1000.000000</td>\n",
       "      <td>799.000000</td>\n",
       "      <td>0.899648</td>\n",
       "      <td>209901.000000</td>\n",
       "      <td>4.000000</td>\n",
       "      <td>60000.000000</td>\n",
       "    </tr>\n",
       "  </tbody>\n",
       "</table>\n",
       "</div>"
      ],
      "text/plain": [
       "           cust_id  credit_score  credit_utilisation  outstanding_debt  \\\n",
       "count  1004.000000   1004.000000         1000.000000       1000.000000   \n",
       "mean    500.850598    588.655378            0.498950       9683.597000   \n",
       "std     288.315670    152.575244            0.233139      25255.893671   \n",
       "min       1.000000    300.000000            0.103761         33.000000   \n",
       "25%     251.750000    459.000000            0.293917        221.000000   \n",
       "50%     502.500000    601.000000            0.487422        550.000000   \n",
       "75%     749.250000    737.250000            0.697829      11819.500000   \n",
       "max    1000.000000    799.000000            0.899648     209901.000000   \n",
       "\n",
       "       credit_inquiries_last_6_months  credit_limit  \n",
       "count                     1000.000000    935.000000  \n",
       "mean                         1.955000  19235.561497  \n",
       "std                          1.414559  24489.997195  \n",
       "min                          0.000000    500.000000  \n",
       "25%                          1.000000    750.000000  \n",
       "50%                          2.000000   1250.000000  \n",
       "75%                          3.000000  40000.000000  \n",
       "max                          4.000000  60000.000000  "
      ]
     },
     "execution_count": 47,
     "metadata": {},
     "output_type": "execute_result"
    }
   ],
   "source": [
    "credit_profiles.describe()"
   ]
  },
  {
   "cell_type": "code",
   "execution_count": 53,
   "id": "ff546073",
   "metadata": {},
   "outputs": [],
   "source": [
    "credit_profiles[credit_profiles['outstanding_debt'] > credit_profiles['credit_limit']]['outstanding_debt'] = credit_profiles[credit_profiles['outstanding_debt'] > credit_profiles['credit_limit']]['credit_limit']"
   ]
  },
  {
   "cell_type": "code",
   "execution_count": 54,
   "id": "5f205899",
   "metadata": {},
   "outputs": [
    {
     "data": {
      "application/vnd.microsoft.datawrangler.viewer.v0+json": {
       "columns": [
        {
         "name": "index",
         "rawType": "int64",
         "type": "integer"
        },
        {
         "name": "cust_id",
         "rawType": "int64",
         "type": "integer"
        },
        {
         "name": "credit_score",
         "rawType": "int64",
         "type": "integer"
        },
        {
         "name": "credit_utilisation",
         "rawType": "float64",
         "type": "float"
        },
        {
         "name": "outstanding_debt",
         "rawType": "float64",
         "type": "float"
        },
        {
         "name": "credit_inquiries_last_6_months",
         "rawType": "float64",
         "type": "float"
        },
        {
         "name": "credit_limit",
         "rawType": "float64",
         "type": "float"
        }
       ],
       "ref": "d568b1b4-463f-4609-8b40-31467f036163",
       "rows": [
        [
         "1",
         "2",
         "587",
         "0.107928087",
         "161644.0",
         "2.0",
         "1250.0"
        ],
        [
         "19",
         "20",
         "647",
         "0.439132357",
         "205014.0",
         "3.0",
         "1500.0"
        ],
        [
         "25",
         "26",
         "758",
         "0.250811009",
         "190838.0",
         "2.0",
         "60000.0"
        ],
        [
         "38",
         "39",
         "734",
         "0.57302335",
         "122758.0",
         "3.0",
         "40000.0"
        ],
        [
         "93",
         "94",
         "737",
         "0.739947692",
         "137058.0",
         "2.0",
         "40000.0"
        ],
        [
         "204",
         "205",
         "303",
         "0.364360259",
         "187849.0",
         "0.0",
         "500.0"
        ],
        [
         "271",
         "272",
         "703",
         "0.446886268",
         "154568.0",
         "1.0",
         "40000.0"
        ],
        [
         "330",
         "331",
         "799",
         "0.363419938",
         "208898.0",
         "4.0",
         "60000.0"
        ],
        [
         "350",
         "351",
         "320",
         "0.285081195",
         "150860.0",
         "0.0",
         "500.0"
        ],
        [
         "446",
         "447",
         "754",
         "0.178394284",
         "206191.0",
         "2.0",
         "60000.0"
        ],
        [
         "545",
         "545",
         "764",
         "0.337768959",
         "135112.0",
         "2.0",
         "60000.0"
        ],
        [
         "639",
         "637",
         "420",
         "0.323984021",
         "140063.0",
         "4.0",
         "500.0"
        ],
        [
         "649",
         "647",
         "498",
         "0.658086736",
         "128818.0",
         "3.0",
         "750.0"
        ],
        [
         "702",
         "699",
         "775",
         "0.38510009",
         "190717.0",
         "2.0",
         "60000.0"
        ],
        [
         "727",
         "724",
         "465",
         "0.658173194",
         "140008.0",
         "3.0",
         "750.0"
        ],
        [
         "734",
         "731",
         "626",
         "0.762244546",
         "209901.0",
         "2.0",
         "1500.0"
        ],
        [
         "770",
         "767",
         "473",
         "0.611749599",
         "195004.0",
         "1.0",
         "750.0"
        ],
        [
         "866",
         "863",
         "792",
         "0.399555067",
         "208406.0",
         "3.0",
         "60000.0"
        ]
       ],
       "shape": {
        "columns": 6,
        "rows": 18
       }
      },
      "text/html": [
       "<div>\n",
       "<style scoped>\n",
       "    .dataframe tbody tr th:only-of-type {\n",
       "        vertical-align: middle;\n",
       "    }\n",
       "\n",
       "    .dataframe tbody tr th {\n",
       "        vertical-align: top;\n",
       "    }\n",
       "\n",
       "    .dataframe thead th {\n",
       "        text-align: right;\n",
       "    }\n",
       "</style>\n",
       "<table border=\"1\" class=\"dataframe\">\n",
       "  <thead>\n",
       "    <tr style=\"text-align: right;\">\n",
       "      <th></th>\n",
       "      <th>cust_id</th>\n",
       "      <th>credit_score</th>\n",
       "      <th>credit_utilisation</th>\n",
       "      <th>outstanding_debt</th>\n",
       "      <th>credit_inquiries_last_6_months</th>\n",
       "      <th>credit_limit</th>\n",
       "    </tr>\n",
       "  </thead>\n",
       "  <tbody>\n",
       "    <tr>\n",
       "      <th>1</th>\n",
       "      <td>2</td>\n",
       "      <td>587</td>\n",
       "      <td>0.107928</td>\n",
       "      <td>161644.0</td>\n",
       "      <td>2.0</td>\n",
       "      <td>1250.0</td>\n",
       "    </tr>\n",
       "    <tr>\n",
       "      <th>19</th>\n",
       "      <td>20</td>\n",
       "      <td>647</td>\n",
       "      <td>0.439132</td>\n",
       "      <td>205014.0</td>\n",
       "      <td>3.0</td>\n",
       "      <td>1500.0</td>\n",
       "    </tr>\n",
       "    <tr>\n",
       "      <th>25</th>\n",
       "      <td>26</td>\n",
       "      <td>758</td>\n",
       "      <td>0.250811</td>\n",
       "      <td>190838.0</td>\n",
       "      <td>2.0</td>\n",
       "      <td>60000.0</td>\n",
       "    </tr>\n",
       "    <tr>\n",
       "      <th>38</th>\n",
       "      <td>39</td>\n",
       "      <td>734</td>\n",
       "      <td>0.573023</td>\n",
       "      <td>122758.0</td>\n",
       "      <td>3.0</td>\n",
       "      <td>40000.0</td>\n",
       "    </tr>\n",
       "    <tr>\n",
       "      <th>93</th>\n",
       "      <td>94</td>\n",
       "      <td>737</td>\n",
       "      <td>0.739948</td>\n",
       "      <td>137058.0</td>\n",
       "      <td>2.0</td>\n",
       "      <td>40000.0</td>\n",
       "    </tr>\n",
       "    <tr>\n",
       "      <th>204</th>\n",
       "      <td>205</td>\n",
       "      <td>303</td>\n",
       "      <td>0.364360</td>\n",
       "      <td>187849.0</td>\n",
       "      <td>0.0</td>\n",
       "      <td>500.0</td>\n",
       "    </tr>\n",
       "    <tr>\n",
       "      <th>271</th>\n",
       "      <td>272</td>\n",
       "      <td>703</td>\n",
       "      <td>0.446886</td>\n",
       "      <td>154568.0</td>\n",
       "      <td>1.0</td>\n",
       "      <td>40000.0</td>\n",
       "    </tr>\n",
       "    <tr>\n",
       "      <th>330</th>\n",
       "      <td>331</td>\n",
       "      <td>799</td>\n",
       "      <td>0.363420</td>\n",
       "      <td>208898.0</td>\n",
       "      <td>4.0</td>\n",
       "      <td>60000.0</td>\n",
       "    </tr>\n",
       "    <tr>\n",
       "      <th>350</th>\n",
       "      <td>351</td>\n",
       "      <td>320</td>\n",
       "      <td>0.285081</td>\n",
       "      <td>150860.0</td>\n",
       "      <td>0.0</td>\n",
       "      <td>500.0</td>\n",
       "    </tr>\n",
       "    <tr>\n",
       "      <th>446</th>\n",
       "      <td>447</td>\n",
       "      <td>754</td>\n",
       "      <td>0.178394</td>\n",
       "      <td>206191.0</td>\n",
       "      <td>2.0</td>\n",
       "      <td>60000.0</td>\n",
       "    </tr>\n",
       "    <tr>\n",
       "      <th>545</th>\n",
       "      <td>545</td>\n",
       "      <td>764</td>\n",
       "      <td>0.337769</td>\n",
       "      <td>135112.0</td>\n",
       "      <td>2.0</td>\n",
       "      <td>60000.0</td>\n",
       "    </tr>\n",
       "    <tr>\n",
       "      <th>639</th>\n",
       "      <td>637</td>\n",
       "      <td>420</td>\n",
       "      <td>0.323984</td>\n",
       "      <td>140063.0</td>\n",
       "      <td>4.0</td>\n",
       "      <td>500.0</td>\n",
       "    </tr>\n",
       "    <tr>\n",
       "      <th>649</th>\n",
       "      <td>647</td>\n",
       "      <td>498</td>\n",
       "      <td>0.658087</td>\n",
       "      <td>128818.0</td>\n",
       "      <td>3.0</td>\n",
       "      <td>750.0</td>\n",
       "    </tr>\n",
       "    <tr>\n",
       "      <th>702</th>\n",
       "      <td>699</td>\n",
       "      <td>775</td>\n",
       "      <td>0.385100</td>\n",
       "      <td>190717.0</td>\n",
       "      <td>2.0</td>\n",
       "      <td>60000.0</td>\n",
       "    </tr>\n",
       "    <tr>\n",
       "      <th>727</th>\n",
       "      <td>724</td>\n",
       "      <td>465</td>\n",
       "      <td>0.658173</td>\n",
       "      <td>140008.0</td>\n",
       "      <td>3.0</td>\n",
       "      <td>750.0</td>\n",
       "    </tr>\n",
       "    <tr>\n",
       "      <th>734</th>\n",
       "      <td>731</td>\n",
       "      <td>626</td>\n",
       "      <td>0.762245</td>\n",
       "      <td>209901.0</td>\n",
       "      <td>2.0</td>\n",
       "      <td>1500.0</td>\n",
       "    </tr>\n",
       "    <tr>\n",
       "      <th>770</th>\n",
       "      <td>767</td>\n",
       "      <td>473</td>\n",
       "      <td>0.611750</td>\n",
       "      <td>195004.0</td>\n",
       "      <td>1.0</td>\n",
       "      <td>750.0</td>\n",
       "    </tr>\n",
       "    <tr>\n",
       "      <th>866</th>\n",
       "      <td>863</td>\n",
       "      <td>792</td>\n",
       "      <td>0.399555</td>\n",
       "      <td>208406.0</td>\n",
       "      <td>3.0</td>\n",
       "      <td>60000.0</td>\n",
       "    </tr>\n",
       "  </tbody>\n",
       "</table>\n",
       "</div>"
      ],
      "text/plain": [
       "     cust_id  credit_score  credit_utilisation  outstanding_debt  \\\n",
       "1          2           587            0.107928          161644.0   \n",
       "19        20           647            0.439132          205014.0   \n",
       "25        26           758            0.250811          190838.0   \n",
       "38        39           734            0.573023          122758.0   \n",
       "93        94           737            0.739948          137058.0   \n",
       "204      205           303            0.364360          187849.0   \n",
       "271      272           703            0.446886          154568.0   \n",
       "330      331           799            0.363420          208898.0   \n",
       "350      351           320            0.285081          150860.0   \n",
       "446      447           754            0.178394          206191.0   \n",
       "545      545           764            0.337769          135112.0   \n",
       "639      637           420            0.323984          140063.0   \n",
       "649      647           498            0.658087          128818.0   \n",
       "702      699           775            0.385100          190717.0   \n",
       "727      724           465            0.658173          140008.0   \n",
       "734      731           626            0.762245          209901.0   \n",
       "770      767           473            0.611750          195004.0   \n",
       "866      863           792            0.399555          208406.0   \n",
       "\n",
       "     credit_inquiries_last_6_months  credit_limit  \n",
       "1                               2.0        1250.0  \n",
       "19                              3.0        1500.0  \n",
       "25                              2.0       60000.0  \n",
       "38                              3.0       40000.0  \n",
       "93                              2.0       40000.0  \n",
       "204                             0.0         500.0  \n",
       "271                             1.0       40000.0  \n",
       "330                             4.0       60000.0  \n",
       "350                             0.0         500.0  \n",
       "446                             2.0       60000.0  \n",
       "545                             2.0       60000.0  \n",
       "639                             4.0         500.0  \n",
       "649                             3.0         750.0  \n",
       "702                             2.0       60000.0  \n",
       "727                             3.0         750.0  \n",
       "734                             2.0        1500.0  \n",
       "770                             1.0         750.0  \n",
       "866                             3.0       60000.0  "
      ]
     },
     "execution_count": 54,
     "metadata": {},
     "output_type": "execute_result"
    }
   ],
   "source": [
    "credit_profiles[credit_profiles['outstanding_debt'] > credit_profiles['credit_limit']]"
   ]
  },
  {
   "cell_type": "code",
   "execution_count": 64,
   "id": "890db5e3",
   "metadata": {},
   "outputs": [
    {
     "data": {
      "application/vnd.microsoft.datawrangler.viewer.v0+json": {
       "columns": [
        {
         "name": "index",
         "rawType": "int64",
         "type": "integer"
        },
        {
         "name": "credit_limit",
         "rawType": "float64",
         "type": "float"
        }
       ],
       "ref": "95c402b1-52dc-448c-9bfa-125120c5bf67",
       "rows": [
        [
         "1",
         "1250.0"
        ],
        [
         "19",
         "1500.0"
        ],
        [
         "25",
         "60000.0"
        ],
        [
         "38",
         "40000.0"
        ],
        [
         "93",
         "40000.0"
        ],
        [
         "204",
         "500.0"
        ],
        [
         "271",
         "40000.0"
        ],
        [
         "330",
         "60000.0"
        ],
        [
         "350",
         "500.0"
        ],
        [
         "446",
         "60000.0"
        ],
        [
         "545",
         "60000.0"
        ],
        [
         "639",
         "500.0"
        ],
        [
         "649",
         "750.0"
        ],
        [
         "702",
         "60000.0"
        ],
        [
         "727",
         "750.0"
        ],
        [
         "734",
         "1500.0"
        ],
        [
         "770",
         "750.0"
        ],
        [
         "866",
         "60000.0"
        ]
       ],
       "shape": {
        "columns": 1,
        "rows": 18
       }
      },
      "text/plain": [
       "1       1250.0\n",
       "19      1500.0\n",
       "25     60000.0\n",
       "38     40000.0\n",
       "93     40000.0\n",
       "204      500.0\n",
       "271    40000.0\n",
       "330    60000.0\n",
       "350      500.0\n",
       "446    60000.0\n",
       "545    60000.0\n",
       "639      500.0\n",
       "649      750.0\n",
       "702    60000.0\n",
       "727      750.0\n",
       "734     1500.0\n",
       "770      750.0\n",
       "866    60000.0\n",
       "Name: credit_limit, dtype: float64"
      ]
     },
     "execution_count": 64,
     "metadata": {},
     "output_type": "execute_result"
    }
   ],
   "source": [
    "good =credit_profiles[credit_profiles['outstanding_debt'] > credit_profiles['credit_limit']]['credit_limit']\n",
    "good"
   ]
  },
  {
   "cell_type": "code",
   "execution_count": 63,
   "id": "06859b62",
   "metadata": {},
   "outputs": [
    {
     "data": {
      "application/vnd.microsoft.datawrangler.viewer.v0+json": {
       "columns": [
        {
         "name": "index",
         "rawType": "int64",
         "type": "integer"
        },
        {
         "name": "outstanding_debt",
         "rawType": "float64",
         "type": "float"
        }
       ],
       "ref": "d5c26887-ca56-48b5-aba0-339c74e80b8a",
       "rows": [
        [
         "1",
         "161644.0"
        ],
        [
         "19",
         "205014.0"
        ],
        [
         "25",
         "190838.0"
        ],
        [
         "38",
         "122758.0"
        ],
        [
         "93",
         "137058.0"
        ],
        [
         "204",
         "187849.0"
        ],
        [
         "271",
         "154568.0"
        ],
        [
         "330",
         "208898.0"
        ],
        [
         "350",
         "150860.0"
        ],
        [
         "446",
         "206191.0"
        ],
        [
         "545",
         "135112.0"
        ],
        [
         "639",
         "140063.0"
        ],
        [
         "649",
         "128818.0"
        ],
        [
         "702",
         "190717.0"
        ],
        [
         "727",
         "140008.0"
        ],
        [
         "734",
         "209901.0"
        ],
        [
         "770",
         "195004.0"
        ],
        [
         "866",
         "208406.0"
        ]
       ],
       "shape": {
        "columns": 1,
        "rows": 18
       }
      },
      "text/plain": [
       "1      161644.0\n",
       "19     205014.0\n",
       "25     190838.0\n",
       "38     122758.0\n",
       "93     137058.0\n",
       "204    187849.0\n",
       "271    154568.0\n",
       "330    208898.0\n",
       "350    150860.0\n",
       "446    206191.0\n",
       "545    135112.0\n",
       "639    140063.0\n",
       "649    128818.0\n",
       "702    190717.0\n",
       "727    140008.0\n",
       "734    209901.0\n",
       "770    195004.0\n",
       "866    208406.0\n",
       "Name: outstanding_debt, dtype: float64"
      ]
     },
     "execution_count": 63,
     "metadata": {},
     "output_type": "execute_result"
    }
   ],
   "source": [
    "credit_profiles_outliers = credit_profiles[credit_profiles['outstanding_debt'] > credit_profiles['credit_limit']]['outstanding_debt']\n",
    "credit_profiles_outliers"
   ]
  },
  {
   "cell_type": "code",
   "execution_count": 71,
   "id": "5e36b079",
   "metadata": {},
   "outputs": [
    {
     "data": {
      "application/vnd.microsoft.datawrangler.viewer.v0+json": {
       "columns": [
        {
         "name": "index",
         "rawType": "int64",
         "type": "integer"
        },
        {
         "name": "outstanding_debt",
         "rawType": "float64",
         "type": "float"
        }
       ],
       "ref": "f12f33cf-f24b-4503-8371-cf88ea57ad91",
       "rows": [
        [
         "1",
         "161644.0"
        ],
        [
         "19",
         "205014.0"
        ],
        [
         "25",
         "190838.0"
        ],
        [
         "38",
         "122758.0"
        ],
        [
         "93",
         "137058.0"
        ],
        [
         "204",
         "187849.0"
        ],
        [
         "271",
         "154568.0"
        ],
        [
         "330",
         "208898.0"
        ],
        [
         "350",
         "150860.0"
        ],
        [
         "446",
         "206191.0"
        ],
        [
         "545",
         "135112.0"
        ],
        [
         "639",
         "140063.0"
        ],
        [
         "649",
         "128818.0"
        ],
        [
         "702",
         "190717.0"
        ],
        [
         "727",
         "140008.0"
        ],
        [
         "734",
         "209901.0"
        ],
        [
         "770",
         "195004.0"
        ],
        [
         "866",
         "208406.0"
        ]
       ],
       "shape": {
        "columns": 1,
        "rows": 18
       }
      },
      "text/plain": [
       "1      161644.0\n",
       "19     205014.0\n",
       "25     190838.0\n",
       "38     122758.0\n",
       "93     137058.0\n",
       "204    187849.0\n",
       "271    154568.0\n",
       "330    208898.0\n",
       "350    150860.0\n",
       "446    206191.0\n",
       "545    135112.0\n",
       "639    140063.0\n",
       "649    128818.0\n",
       "702    190717.0\n",
       "727    140008.0\n",
       "734    209901.0\n",
       "770    195004.0\n",
       "866    208406.0\n",
       "Name: outstanding_debt, dtype: float64"
      ]
     },
     "execution_count": 71,
     "metadata": {},
     "output_type": "execute_result"
    }
   ],
   "source": [
    "credit_profiles[credit_profiles['outstanding_debt'] > credit_profiles['credit_limit']]['outstanding_debt']"
   ]
  },
  {
   "cell_type": "code",
   "execution_count": 76,
   "id": "6687bbdc",
   "metadata": {},
   "outputs": [
    {
     "ename": "SyntaxError",
     "evalue": "cannot assign to comparison (3678053149.py, line 1)",
     "output_type": "error",
     "traceback": [
      "\u001b[1;36m  Cell \u001b[1;32mIn[76], line 1\u001b[1;36m\u001b[0m\n\u001b[1;33m    credit_profiles['outstanding_debt'] > credit_profiles['credit_limit'] = good\u001b[0m\n\u001b[1;37m    ^\u001b[0m\n\u001b[1;31mSyntaxError\u001b[0m\u001b[1;31m:\u001b[0m cannot assign to comparison\n"
     ]
    }
   ],
   "source": [
    "credit_profiles['outstanding_debt'] > credit_profiles['credit_limit'] = good"
   ]
  },
  {
   "cell_type": "code",
   "execution_count": 77,
   "id": "54528ec7",
   "metadata": {},
   "outputs": [],
   "source": [
    "credit_profiles.loc[credit_profiles['outstanding_debt'] > credit_profiles['credit_limit'],'outstanding_debt'] = good"
   ]
  },
  {
   "cell_type": "code",
   "execution_count": 78,
   "id": "cf80ff9f",
   "metadata": {},
   "outputs": [
    {
     "data": {
      "application/vnd.microsoft.datawrangler.viewer.v0+json": {
       "columns": [
        {
         "name": "index",
         "rawType": "int64",
         "type": "integer"
        },
        {
         "name": "outstanding_debt",
         "rawType": "float64",
         "type": "float"
        }
       ],
       "ref": "159a29f6-8be2-4406-bd14-0733c6c6fbf6",
       "rows": [],
       "shape": {
        "columns": 1,
        "rows": 0
       }
      },
      "text/plain": [
       "Series([], Name: outstanding_debt, dtype: float64)"
      ]
     },
     "execution_count": 78,
     "metadata": {},
     "output_type": "execute_result"
    }
   ],
   "source": [
    "credit_profiles[credit_profiles['outstanding_debt'] > credit_profiles['credit_limit']]['outstanding_debt']"
   ]
  },
  {
   "cell_type": "code",
   "execution_count": 5,
   "id": "a5fa25e3",
   "metadata": {},
   "outputs": [
    {
     "data": {
      "application/vnd.microsoft.datawrangler.viewer.v0+json": {
       "columns": [
        {
         "name": "index",
         "rawType": "object",
         "type": "string"
        },
        {
         "name": "cust_id",
         "rawType": "float64",
         "type": "float"
        },
        {
         "name": "age",
         "rawType": "float64",
         "type": "float"
        },
        {
         "name": "annual_income",
         "rawType": "float64",
         "type": "float"
        }
       ],
       "ref": "62af7ddc-cd73-44fb-b8f9-29dafb9bd497",
       "rows": [
        [
         "count",
         "1000.0",
         "1000.0",
         "1000.0"
        ],
        [
         "mean",
         "500.5",
         "36.405",
         "132439.799"
        ],
        [
         "std",
         "288.8194360957494",
         "15.666154710183473",
         "113706.3137928979"
        ],
        [
         "min",
         "1.0",
         "1.0",
         "0.0"
        ],
        [
         "25%",
         "250.75",
         "26.0",
         "42229.75"
        ],
        [
         "50%",
         "500.5",
         "32.0",
         "107275.0"
        ],
        [
         "75%",
         "750.25",
         "46.0",
         "189687.5"
        ],
        [
         "max",
         "1000.0",
         "135.0",
         "449346.0"
        ]
       ],
       "shape": {
        "columns": 3,
        "rows": 8
       }
      },
      "text/html": [
       "<div>\n",
       "<style scoped>\n",
       "    .dataframe tbody tr th:only-of-type {\n",
       "        vertical-align: middle;\n",
       "    }\n",
       "\n",
       "    .dataframe tbody tr th {\n",
       "        vertical-align: top;\n",
       "    }\n",
       "\n",
       "    .dataframe thead th {\n",
       "        text-align: right;\n",
       "    }\n",
       "</style>\n",
       "<table border=\"1\" class=\"dataframe\">\n",
       "  <thead>\n",
       "    <tr style=\"text-align: right;\">\n",
       "      <th></th>\n",
       "      <th>cust_id</th>\n",
       "      <th>age</th>\n",
       "      <th>annual_income</th>\n",
       "    </tr>\n",
       "  </thead>\n",
       "  <tbody>\n",
       "    <tr>\n",
       "      <th>count</th>\n",
       "      <td>1000.000000</td>\n",
       "      <td>1000.000000</td>\n",
       "      <td>1000.000000</td>\n",
       "    </tr>\n",
       "    <tr>\n",
       "      <th>mean</th>\n",
       "      <td>500.500000</td>\n",
       "      <td>36.405000</td>\n",
       "      <td>132439.799000</td>\n",
       "    </tr>\n",
       "    <tr>\n",
       "      <th>std</th>\n",
       "      <td>288.819436</td>\n",
       "      <td>15.666155</td>\n",
       "      <td>113706.313793</td>\n",
       "    </tr>\n",
       "    <tr>\n",
       "      <th>min</th>\n",
       "      <td>1.000000</td>\n",
       "      <td>1.000000</td>\n",
       "      <td>0.000000</td>\n",
       "    </tr>\n",
       "    <tr>\n",
       "      <th>25%</th>\n",
       "      <td>250.750000</td>\n",
       "      <td>26.000000</td>\n",
       "      <td>42229.750000</td>\n",
       "    </tr>\n",
       "    <tr>\n",
       "      <th>50%</th>\n",
       "      <td>500.500000</td>\n",
       "      <td>32.000000</td>\n",
       "      <td>107275.000000</td>\n",
       "    </tr>\n",
       "    <tr>\n",
       "      <th>75%</th>\n",
       "      <td>750.250000</td>\n",
       "      <td>46.000000</td>\n",
       "      <td>189687.500000</td>\n",
       "    </tr>\n",
       "    <tr>\n",
       "      <th>max</th>\n",
       "      <td>1000.000000</td>\n",
       "      <td>135.000000</td>\n",
       "      <td>449346.000000</td>\n",
       "    </tr>\n",
       "  </tbody>\n",
       "</table>\n",
       "</div>"
      ],
      "text/plain": [
       "           cust_id          age  annual_income\n",
       "count  1000.000000  1000.000000    1000.000000\n",
       "mean    500.500000    36.405000  132439.799000\n",
       "std     288.819436    15.666155  113706.313793\n",
       "min       1.000000     1.000000       0.000000\n",
       "25%     250.750000    26.000000   42229.750000\n",
       "50%     500.500000    32.000000  107275.000000\n",
       "75%     750.250000    46.000000  189687.500000\n",
       "max    1000.000000   135.000000  449346.000000"
      ]
     },
     "execution_count": 5,
     "metadata": {},
     "output_type": "execute_result"
    }
   ],
   "source": [
    "customers.describe()"
   ]
  },
  {
   "cell_type": "code",
   "execution_count": 11,
   "id": "b9da785a",
   "metadata": {},
   "outputs": [
    {
     "data": {
      "application/vnd.microsoft.datawrangler.viewer.v0+json": {
       "columns": [
        {
         "name": "occupation",
         "rawType": "object",
         "type": "string"
        },
        {
         "name": "annual_income",
         "rawType": "float64",
         "type": "float"
        }
       ],
       "ref": "83c54f8b-c18c-4989-a0a1-cabf765e3274",
       "rows": [
        [
         "Accountant",
         "65265.0"
        ],
        [
         "Artist",
         "44915.0"
        ],
        [
         "Business Owner",
         "254881.0"
        ],
        [
         "Consultant",
         "51175.0"
        ],
        [
         "Data Scientist",
         "127889.0"
        ],
        [
         "Freelancer",
         "45189.5"
        ],
        [
         "Fullstack Developer",
         "74457.0"
        ]
       ],
       "shape": {
        "columns": 1,
        "rows": 7
       }
      },
      "text/plain": [
       "occupation\n",
       "Accountant              65265.0\n",
       "Artist                  44915.0\n",
       "Business Owner         254881.0\n",
       "Consultant              51175.0\n",
       "Data Scientist         127889.0\n",
       "Freelancer              45189.5\n",
       "Fullstack Developer     74457.0\n",
       "Name: annual_income, dtype: float64"
      ]
     },
     "execution_count": 11,
     "metadata": {},
     "output_type": "execute_result"
    }
   ],
   "source": [
    "annual_income = customers.groupby('occupation')['annual_income'].median()\n",
    "annual_income"
   ]
  },
  {
   "cell_type": "code",
   "execution_count": null,
   "id": "51aeac36",
   "metadata": {},
   "outputs": [],
   "source": [
    "def annual_income_fun(item):\n",
    "    if item['annual_income'] == 0:\n",
    "        item['annual_income'] = annual_income[item['occupation']]"
   ]
  },
  {
   "cell_type": "code",
   "execution_count": 23,
   "id": "188cef92",
   "metadata": {},
   "outputs": [
    {
     "data": {
      "application/vnd.microsoft.datawrangler.viewer.v0+json": {
       "columns": [
        {
         "name": "index",
         "rawType": "int64",
         "type": "integer"
        },
        {
         "name": "cust_id",
         "rawType": "int64",
         "type": "integer"
        },
        {
         "name": "name",
         "rawType": "object",
         "type": "string"
        },
        {
         "name": "gender",
         "rawType": "object",
         "type": "string"
        },
        {
         "name": "age",
         "rawType": "int64",
         "type": "integer"
        },
        {
         "name": "location",
         "rawType": "object",
         "type": "string"
        },
        {
         "name": "occupation",
         "rawType": "object",
         "type": "string"
        },
        {
         "name": "annual_income",
         "rawType": "int64",
         "type": "integer"
        },
        {
         "name": "marital_status",
         "rawType": "object",
         "type": "string"
        }
       ],
       "ref": "ea91b69d-c473-4ce1-8c7d-92d4945751e8",
       "rows": [
        [
         "14",
         "15",
         "Sanjana Malik",
         "Female",
         "25",
         "Rural",
         "Artist",
         "0",
         "Married"
        ],
        [
         "82",
         "83",
         "Reyansh Mukherjee",
         "Male",
         "27",
         "City",
         "Freelancer",
         "0",
         "Single"
        ],
        [
         "97",
         "98",
         "Virat Puri",
         "Male",
         "47",
         "Suburb",
         "Business Owner",
         "0",
         "Married"
        ],
        [
         "102",
         "103",
         "Aarav Shah",
         "Male",
         "32",
         "City",
         "Data Scientist",
         "0",
         "Married"
        ],
        [
         "155",
         "156",
         "Kiaan Saxena",
         "Male",
         "24",
         "City",
         "Fullstack Developer",
         "0",
         "Married"
        ],
        [
         "170",
         "171",
         "Advait Verma",
         "Male",
         "52",
         "City",
         "Business Owner",
         "0",
         "Single"
        ],
        [
         "186",
         "187",
         "Samar Sardar",
         "Male",
         "53",
         "City",
         "Consultant",
         "0",
         "Single"
        ],
        [
         "192",
         "193",
         "Ishan Joshi",
         "Male",
         "37",
         "Suburb",
         "Data Scientist",
         "0",
         "Married"
        ],
        [
         "227",
         "228",
         "Advait Mukherjee",
         "Male",
         "48",
         "City",
         "Business Owner",
         "0",
         "Married"
        ],
        [
         "232",
         "233",
         "Aditya Goel",
         "Male",
         "26",
         "City",
         "Freelancer",
         "0",
         "Married"
        ],
        [
         "240",
         "241",
         "Aaryan Bose",
         "Male",
         "24",
         "Suburb",
         "Freelancer",
         "0",
         "Married"
        ],
        [
         "272",
         "273",
         "Kunal Sahani",
         "Male",
         "50",
         "Suburb",
         "Business Owner",
         "0",
         "Married"
        ],
        [
         "275",
         "276",
         "Ananya Bali",
         "Female",
         "47",
         "City",
         "Consultant",
         "0",
         "Single"
        ],
        [
         "312",
         "313",
         "Ritvik Gupta",
         "Male",
         "50",
         "City",
         "Consultant",
         "0",
         "Married"
        ],
        [
         "315",
         "316",
         "Amara Jha",
         "Female",
         "25",
         "City",
         "Data Scientist",
         "0",
         "Married"
        ],
        [
         "402",
         "403",
         "Arnav Singh",
         "Male",
         "60",
         "City",
         "Business Owner",
         "0",
         "Married"
        ],
        [
         "404",
         "405",
         "Arnav Banerjee",
         "Male",
         "26",
         "City",
         "Data Scientist",
         "0",
         "Single"
        ],
        [
         "409",
         "410",
         "Kiaan Jain",
         "Male",
         "45",
         "Rural",
         "Consultant",
         "0",
         "Married"
        ],
        [
         "440",
         "441",
         "Rudra Bose",
         "Male",
         "36",
         "Suburb",
         "Data Scientist",
         "0",
         "Married"
        ],
        [
         "446",
         "447",
         "Aahan Gambhir",
         "Male",
         "60",
         "City",
         "Business Owner",
         "0",
         "Married"
        ],
        [
         "449",
         "450",
         "Anika Rathod",
         "Female",
         "24",
         "Suburb",
         "Fullstack Developer",
         "0",
         "Married"
        ],
        [
         "461",
         "462",
         "Kunal Nair",
         "Male",
         "33",
         "City",
         "Data Scientist",
         "0",
         "Married"
        ],
        [
         "474",
         "475",
         "Neha Verma",
         "Female",
         "28",
         "City",
         "Data Scientist",
         "0",
         "Single"
        ],
        [
         "502",
         "503",
         "Samar Dewan",
         "Male",
         "38",
         "Suburb",
         "Data Scientist",
         "0",
         "Single"
        ],
        [
         "508",
         "509",
         "Advait Das",
         "Male",
         "55",
         "City",
         "Business Owner",
         "0",
         "Married"
        ],
        [
         "516",
         "517",
         "Rehan Kulkarni",
         "Male",
         "29",
         "Rural",
         "Fullstack Developer",
         "0",
         "Single"
        ],
        [
         "530",
         "531",
         "Aarya Ver",
         "Male",
         "32",
         "City",
         "Business Owner",
         "0",
         "Married"
        ],
        [
         "536",
         "537",
         "Ritvik Patil",
         "Male",
         "33",
         "City",
         "Data Scientist",
         "0",
         "Married"
        ],
        [
         "599",
         "600",
         "Ishan Goswami",
         "Female",
         "38",
         "City",
         "Consultant",
         "0",
         "Single"
        ],
        [
         "603",
         "604",
         "Kunal Malhotra",
         "Male",
         "25",
         "Suburb",
         "Fullstack Developer",
         "0",
         "Married"
        ],
        [
         "608",
         "609",
         "Kriti Lalwani",
         "Female",
         "25",
         "City",
         "Data Scientist",
         "0",
         "Single"
        ],
        [
         "634",
         "635",
         "Anaya Dutta",
         "Female",
         "21",
         "City",
         "Freelancer",
         "0",
         "Married"
        ],
        [
         "644",
         "645",
         "Dhruv Das",
         "Male",
         "64",
         "City",
         "Business Owner",
         "0",
         "Single"
        ],
        [
         "648",
         "649",
         "Kunal Rathore",
         "Male",
         "41",
         "City",
         "Consultant",
         "0",
         "Married"
        ],
        [
         "650",
         "651",
         "Gauri Mittal",
         "Female",
         "47",
         "Rural",
         "Consultant",
         "0",
         "Married"
        ],
        [
         "664",
         "665",
         "Ayush Khanna",
         "Male",
         "32",
         "Rural",
         "Fullstack Developer",
         "0",
         "Married"
        ],
        [
         "681",
         "682",
         "Arya Jaiswal",
         "Male",
         "37",
         "Suburb",
         "Data Scientist",
         "0",
         "Married"
        ],
        [
         "688",
         "689",
         "Dhruv Dewan",
         "Male",
         "26",
         "City",
         "Artist",
         "0",
         "Married"
        ],
        [
         "693",
         "694",
         "Aditi Mehrotra",
         "Female",
         "37",
         "Suburb",
         "Data Scientist",
         "0",
         "Married"
        ],
        [
         "694",
         "695",
         "Rohan Mehta",
         "Male",
         "28",
         "City",
         "Data Scientist",
         "0",
         "Married"
        ],
        [
         "744",
         "745",
         "Swara Kaul",
         "Female",
         "39",
         "City",
         "Data Scientist",
         "0",
         "Married"
        ],
        [
         "784",
         "785",
         "Rohan Jain",
         "Male",
         "27",
         "City",
         "Data Scientist",
         "0",
         "Single"
        ],
        [
         "788",
         "789",
         "Vihaan Singhal",
         "Male",
         "20",
         "City",
         "Fullstack Developer",
         "0",
         "Single"
        ],
        [
         "791",
         "792",
         "Sara Mhatre",
         "Female",
         "38",
         "City",
         "Data Scientist",
         "0",
         "Single"
        ],
        [
         "817",
         "818",
         "Akshay Mehrotra",
         "Male",
         "47",
         "City",
         "Consultant",
         "0",
         "Single"
        ],
        [
         "932",
         "933",
         "Avinash Tiwari",
         "Male",
         "35",
         "City",
         "Data Scientist",
         "0",
         "Married"
        ],
        [
         "955",
         "956",
         "Aahan Gandhi",
         "Male",
         "39",
         "Suburb",
         "Business Owner",
         "0",
         "Married"
        ],
        [
         "956",
         "957",
         "Priya Malik",
         "Female",
         "24",
         "City",
         "Artist",
         "0",
         "Married"
        ],
        [
         "995",
         "996",
         "Manya Vasudeva",
         "Female",
         "26",
         "City",
         "Freelancer",
         "0",
         "Married"
        ],
        [
         "998",
         "999",
         "Amara Rathore",
         "Female",
         "47",
         "City",
         "Business Owner",
         "0",
         "Married"
        ]
       ],
       "shape": {
        "columns": 8,
        "rows": 50
       }
      },
      "text/html": [
       "<div>\n",
       "<style scoped>\n",
       "    .dataframe tbody tr th:only-of-type {\n",
       "        vertical-align: middle;\n",
       "    }\n",
       "\n",
       "    .dataframe tbody tr th {\n",
       "        vertical-align: top;\n",
       "    }\n",
       "\n",
       "    .dataframe thead th {\n",
       "        text-align: right;\n",
       "    }\n",
       "</style>\n",
       "<table border=\"1\" class=\"dataframe\">\n",
       "  <thead>\n",
       "    <tr style=\"text-align: right;\">\n",
       "      <th></th>\n",
       "      <th>cust_id</th>\n",
       "      <th>name</th>\n",
       "      <th>gender</th>\n",
       "      <th>age</th>\n",
       "      <th>location</th>\n",
       "      <th>occupation</th>\n",
       "      <th>annual_income</th>\n",
       "      <th>marital_status</th>\n",
       "    </tr>\n",
       "  </thead>\n",
       "  <tbody>\n",
       "    <tr>\n",
       "      <th>14</th>\n",
       "      <td>15</td>\n",
       "      <td>Sanjana Malik</td>\n",
       "      <td>Female</td>\n",
       "      <td>25</td>\n",
       "      <td>Rural</td>\n",
       "      <td>Artist</td>\n",
       "      <td>0</td>\n",
       "      <td>Married</td>\n",
       "    </tr>\n",
       "    <tr>\n",
       "      <th>82</th>\n",
       "      <td>83</td>\n",
       "      <td>Reyansh Mukherjee</td>\n",
       "      <td>Male</td>\n",
       "      <td>27</td>\n",
       "      <td>City</td>\n",
       "      <td>Freelancer</td>\n",
       "      <td>0</td>\n",
       "      <td>Single</td>\n",
       "    </tr>\n",
       "    <tr>\n",
       "      <th>97</th>\n",
       "      <td>98</td>\n",
       "      <td>Virat Puri</td>\n",
       "      <td>Male</td>\n",
       "      <td>47</td>\n",
       "      <td>Suburb</td>\n",
       "      <td>Business Owner</td>\n",
       "      <td>0</td>\n",
       "      <td>Married</td>\n",
       "    </tr>\n",
       "    <tr>\n",
       "      <th>102</th>\n",
       "      <td>103</td>\n",
       "      <td>Aarav Shah</td>\n",
       "      <td>Male</td>\n",
       "      <td>32</td>\n",
       "      <td>City</td>\n",
       "      <td>Data Scientist</td>\n",
       "      <td>0</td>\n",
       "      <td>Married</td>\n",
       "    </tr>\n",
       "    <tr>\n",
       "      <th>155</th>\n",
       "      <td>156</td>\n",
       "      <td>Kiaan Saxena</td>\n",
       "      <td>Male</td>\n",
       "      <td>24</td>\n",
       "      <td>City</td>\n",
       "      <td>Fullstack Developer</td>\n",
       "      <td>0</td>\n",
       "      <td>Married</td>\n",
       "    </tr>\n",
       "    <tr>\n",
       "      <th>170</th>\n",
       "      <td>171</td>\n",
       "      <td>Advait Verma</td>\n",
       "      <td>Male</td>\n",
       "      <td>52</td>\n",
       "      <td>City</td>\n",
       "      <td>Business Owner</td>\n",
       "      <td>0</td>\n",
       "      <td>Single</td>\n",
       "    </tr>\n",
       "    <tr>\n",
       "      <th>186</th>\n",
       "      <td>187</td>\n",
       "      <td>Samar Sardar</td>\n",
       "      <td>Male</td>\n",
       "      <td>53</td>\n",
       "      <td>City</td>\n",
       "      <td>Consultant</td>\n",
       "      <td>0</td>\n",
       "      <td>Single</td>\n",
       "    </tr>\n",
       "    <tr>\n",
       "      <th>192</th>\n",
       "      <td>193</td>\n",
       "      <td>Ishan Joshi</td>\n",
       "      <td>Male</td>\n",
       "      <td>37</td>\n",
       "      <td>Suburb</td>\n",
       "      <td>Data Scientist</td>\n",
       "      <td>0</td>\n",
       "      <td>Married</td>\n",
       "    </tr>\n",
       "    <tr>\n",
       "      <th>227</th>\n",
       "      <td>228</td>\n",
       "      <td>Advait Mukherjee</td>\n",
       "      <td>Male</td>\n",
       "      <td>48</td>\n",
       "      <td>City</td>\n",
       "      <td>Business Owner</td>\n",
       "      <td>0</td>\n",
       "      <td>Married</td>\n",
       "    </tr>\n",
       "    <tr>\n",
       "      <th>232</th>\n",
       "      <td>233</td>\n",
       "      <td>Aditya Goel</td>\n",
       "      <td>Male</td>\n",
       "      <td>26</td>\n",
       "      <td>City</td>\n",
       "      <td>Freelancer</td>\n",
       "      <td>0</td>\n",
       "      <td>Married</td>\n",
       "    </tr>\n",
       "    <tr>\n",
       "      <th>240</th>\n",
       "      <td>241</td>\n",
       "      <td>Aaryan Bose</td>\n",
       "      <td>Male</td>\n",
       "      <td>24</td>\n",
       "      <td>Suburb</td>\n",
       "      <td>Freelancer</td>\n",
       "      <td>0</td>\n",
       "      <td>Married</td>\n",
       "    </tr>\n",
       "    <tr>\n",
       "      <th>272</th>\n",
       "      <td>273</td>\n",
       "      <td>Kunal Sahani</td>\n",
       "      <td>Male</td>\n",
       "      <td>50</td>\n",
       "      <td>Suburb</td>\n",
       "      <td>Business Owner</td>\n",
       "      <td>0</td>\n",
       "      <td>Married</td>\n",
       "    </tr>\n",
       "    <tr>\n",
       "      <th>275</th>\n",
       "      <td>276</td>\n",
       "      <td>Ananya Bali</td>\n",
       "      <td>Female</td>\n",
       "      <td>47</td>\n",
       "      <td>City</td>\n",
       "      <td>Consultant</td>\n",
       "      <td>0</td>\n",
       "      <td>Single</td>\n",
       "    </tr>\n",
       "    <tr>\n",
       "      <th>312</th>\n",
       "      <td>313</td>\n",
       "      <td>Ritvik Gupta</td>\n",
       "      <td>Male</td>\n",
       "      <td>50</td>\n",
       "      <td>City</td>\n",
       "      <td>Consultant</td>\n",
       "      <td>0</td>\n",
       "      <td>Married</td>\n",
       "    </tr>\n",
       "    <tr>\n",
       "      <th>315</th>\n",
       "      <td>316</td>\n",
       "      <td>Amara Jha</td>\n",
       "      <td>Female</td>\n",
       "      <td>25</td>\n",
       "      <td>City</td>\n",
       "      <td>Data Scientist</td>\n",
       "      <td>0</td>\n",
       "      <td>Married</td>\n",
       "    </tr>\n",
       "    <tr>\n",
       "      <th>402</th>\n",
       "      <td>403</td>\n",
       "      <td>Arnav Singh</td>\n",
       "      <td>Male</td>\n",
       "      <td>60</td>\n",
       "      <td>City</td>\n",
       "      <td>Business Owner</td>\n",
       "      <td>0</td>\n",
       "      <td>Married</td>\n",
       "    </tr>\n",
       "    <tr>\n",
       "      <th>404</th>\n",
       "      <td>405</td>\n",
       "      <td>Arnav Banerjee</td>\n",
       "      <td>Male</td>\n",
       "      <td>26</td>\n",
       "      <td>City</td>\n",
       "      <td>Data Scientist</td>\n",
       "      <td>0</td>\n",
       "      <td>Single</td>\n",
       "    </tr>\n",
       "    <tr>\n",
       "      <th>409</th>\n",
       "      <td>410</td>\n",
       "      <td>Kiaan Jain</td>\n",
       "      <td>Male</td>\n",
       "      <td>45</td>\n",
       "      <td>Rural</td>\n",
       "      <td>Consultant</td>\n",
       "      <td>0</td>\n",
       "      <td>Married</td>\n",
       "    </tr>\n",
       "    <tr>\n",
       "      <th>440</th>\n",
       "      <td>441</td>\n",
       "      <td>Rudra Bose</td>\n",
       "      <td>Male</td>\n",
       "      <td>36</td>\n",
       "      <td>Suburb</td>\n",
       "      <td>Data Scientist</td>\n",
       "      <td>0</td>\n",
       "      <td>Married</td>\n",
       "    </tr>\n",
       "    <tr>\n",
       "      <th>446</th>\n",
       "      <td>447</td>\n",
       "      <td>Aahan Gambhir</td>\n",
       "      <td>Male</td>\n",
       "      <td>60</td>\n",
       "      <td>City</td>\n",
       "      <td>Business Owner</td>\n",
       "      <td>0</td>\n",
       "      <td>Married</td>\n",
       "    </tr>\n",
       "    <tr>\n",
       "      <th>449</th>\n",
       "      <td>450</td>\n",
       "      <td>Anika Rathod</td>\n",
       "      <td>Female</td>\n",
       "      <td>24</td>\n",
       "      <td>Suburb</td>\n",
       "      <td>Fullstack Developer</td>\n",
       "      <td>0</td>\n",
       "      <td>Married</td>\n",
       "    </tr>\n",
       "    <tr>\n",
       "      <th>461</th>\n",
       "      <td>462</td>\n",
       "      <td>Kunal Nair</td>\n",
       "      <td>Male</td>\n",
       "      <td>33</td>\n",
       "      <td>City</td>\n",
       "      <td>Data Scientist</td>\n",
       "      <td>0</td>\n",
       "      <td>Married</td>\n",
       "    </tr>\n",
       "    <tr>\n",
       "      <th>474</th>\n",
       "      <td>475</td>\n",
       "      <td>Neha Verma</td>\n",
       "      <td>Female</td>\n",
       "      <td>28</td>\n",
       "      <td>City</td>\n",
       "      <td>Data Scientist</td>\n",
       "      <td>0</td>\n",
       "      <td>Single</td>\n",
       "    </tr>\n",
       "    <tr>\n",
       "      <th>502</th>\n",
       "      <td>503</td>\n",
       "      <td>Samar Dewan</td>\n",
       "      <td>Male</td>\n",
       "      <td>38</td>\n",
       "      <td>Suburb</td>\n",
       "      <td>Data Scientist</td>\n",
       "      <td>0</td>\n",
       "      <td>Single</td>\n",
       "    </tr>\n",
       "    <tr>\n",
       "      <th>508</th>\n",
       "      <td>509</td>\n",
       "      <td>Advait Das</td>\n",
       "      <td>Male</td>\n",
       "      <td>55</td>\n",
       "      <td>City</td>\n",
       "      <td>Business Owner</td>\n",
       "      <td>0</td>\n",
       "      <td>Married</td>\n",
       "    </tr>\n",
       "    <tr>\n",
       "      <th>516</th>\n",
       "      <td>517</td>\n",
       "      <td>Rehan Kulkarni</td>\n",
       "      <td>Male</td>\n",
       "      <td>29</td>\n",
       "      <td>Rural</td>\n",
       "      <td>Fullstack Developer</td>\n",
       "      <td>0</td>\n",
       "      <td>Single</td>\n",
       "    </tr>\n",
       "    <tr>\n",
       "      <th>530</th>\n",
       "      <td>531</td>\n",
       "      <td>Aarya Ver</td>\n",
       "      <td>Male</td>\n",
       "      <td>32</td>\n",
       "      <td>City</td>\n",
       "      <td>Business Owner</td>\n",
       "      <td>0</td>\n",
       "      <td>Married</td>\n",
       "    </tr>\n",
       "    <tr>\n",
       "      <th>536</th>\n",
       "      <td>537</td>\n",
       "      <td>Ritvik Patil</td>\n",
       "      <td>Male</td>\n",
       "      <td>33</td>\n",
       "      <td>City</td>\n",
       "      <td>Data Scientist</td>\n",
       "      <td>0</td>\n",
       "      <td>Married</td>\n",
       "    </tr>\n",
       "    <tr>\n",
       "      <th>599</th>\n",
       "      <td>600</td>\n",
       "      <td>Ishan Goswami</td>\n",
       "      <td>Female</td>\n",
       "      <td>38</td>\n",
       "      <td>City</td>\n",
       "      <td>Consultant</td>\n",
       "      <td>0</td>\n",
       "      <td>Single</td>\n",
       "    </tr>\n",
       "    <tr>\n",
       "      <th>603</th>\n",
       "      <td>604</td>\n",
       "      <td>Kunal Malhotra</td>\n",
       "      <td>Male</td>\n",
       "      <td>25</td>\n",
       "      <td>Suburb</td>\n",
       "      <td>Fullstack Developer</td>\n",
       "      <td>0</td>\n",
       "      <td>Married</td>\n",
       "    </tr>\n",
       "    <tr>\n",
       "      <th>608</th>\n",
       "      <td>609</td>\n",
       "      <td>Kriti Lalwani</td>\n",
       "      <td>Female</td>\n",
       "      <td>25</td>\n",
       "      <td>City</td>\n",
       "      <td>Data Scientist</td>\n",
       "      <td>0</td>\n",
       "      <td>Single</td>\n",
       "    </tr>\n",
       "    <tr>\n",
       "      <th>634</th>\n",
       "      <td>635</td>\n",
       "      <td>Anaya Dutta</td>\n",
       "      <td>Female</td>\n",
       "      <td>21</td>\n",
       "      <td>City</td>\n",
       "      <td>Freelancer</td>\n",
       "      <td>0</td>\n",
       "      <td>Married</td>\n",
       "    </tr>\n",
       "    <tr>\n",
       "      <th>644</th>\n",
       "      <td>645</td>\n",
       "      <td>Dhruv Das</td>\n",
       "      <td>Male</td>\n",
       "      <td>64</td>\n",
       "      <td>City</td>\n",
       "      <td>Business Owner</td>\n",
       "      <td>0</td>\n",
       "      <td>Single</td>\n",
       "    </tr>\n",
       "    <tr>\n",
       "      <th>648</th>\n",
       "      <td>649</td>\n",
       "      <td>Kunal Rathore</td>\n",
       "      <td>Male</td>\n",
       "      <td>41</td>\n",
       "      <td>City</td>\n",
       "      <td>Consultant</td>\n",
       "      <td>0</td>\n",
       "      <td>Married</td>\n",
       "    </tr>\n",
       "    <tr>\n",
       "      <th>650</th>\n",
       "      <td>651</td>\n",
       "      <td>Gauri Mittal</td>\n",
       "      <td>Female</td>\n",
       "      <td>47</td>\n",
       "      <td>Rural</td>\n",
       "      <td>Consultant</td>\n",
       "      <td>0</td>\n",
       "      <td>Married</td>\n",
       "    </tr>\n",
       "    <tr>\n",
       "      <th>664</th>\n",
       "      <td>665</td>\n",
       "      <td>Ayush Khanna</td>\n",
       "      <td>Male</td>\n",
       "      <td>32</td>\n",
       "      <td>Rural</td>\n",
       "      <td>Fullstack Developer</td>\n",
       "      <td>0</td>\n",
       "      <td>Married</td>\n",
       "    </tr>\n",
       "    <tr>\n",
       "      <th>681</th>\n",
       "      <td>682</td>\n",
       "      <td>Arya Jaiswal</td>\n",
       "      <td>Male</td>\n",
       "      <td>37</td>\n",
       "      <td>Suburb</td>\n",
       "      <td>Data Scientist</td>\n",
       "      <td>0</td>\n",
       "      <td>Married</td>\n",
       "    </tr>\n",
       "    <tr>\n",
       "      <th>688</th>\n",
       "      <td>689</td>\n",
       "      <td>Dhruv Dewan</td>\n",
       "      <td>Male</td>\n",
       "      <td>26</td>\n",
       "      <td>City</td>\n",
       "      <td>Artist</td>\n",
       "      <td>0</td>\n",
       "      <td>Married</td>\n",
       "    </tr>\n",
       "    <tr>\n",
       "      <th>693</th>\n",
       "      <td>694</td>\n",
       "      <td>Aditi Mehrotra</td>\n",
       "      <td>Female</td>\n",
       "      <td>37</td>\n",
       "      <td>Suburb</td>\n",
       "      <td>Data Scientist</td>\n",
       "      <td>0</td>\n",
       "      <td>Married</td>\n",
       "    </tr>\n",
       "    <tr>\n",
       "      <th>694</th>\n",
       "      <td>695</td>\n",
       "      <td>Rohan Mehta</td>\n",
       "      <td>Male</td>\n",
       "      <td>28</td>\n",
       "      <td>City</td>\n",
       "      <td>Data Scientist</td>\n",
       "      <td>0</td>\n",
       "      <td>Married</td>\n",
       "    </tr>\n",
       "    <tr>\n",
       "      <th>744</th>\n",
       "      <td>745</td>\n",
       "      <td>Swara Kaul</td>\n",
       "      <td>Female</td>\n",
       "      <td>39</td>\n",
       "      <td>City</td>\n",
       "      <td>Data Scientist</td>\n",
       "      <td>0</td>\n",
       "      <td>Married</td>\n",
       "    </tr>\n",
       "    <tr>\n",
       "      <th>784</th>\n",
       "      <td>785</td>\n",
       "      <td>Rohan Jain</td>\n",
       "      <td>Male</td>\n",
       "      <td>27</td>\n",
       "      <td>City</td>\n",
       "      <td>Data Scientist</td>\n",
       "      <td>0</td>\n",
       "      <td>Single</td>\n",
       "    </tr>\n",
       "    <tr>\n",
       "      <th>788</th>\n",
       "      <td>789</td>\n",
       "      <td>Vihaan Singhal</td>\n",
       "      <td>Male</td>\n",
       "      <td>20</td>\n",
       "      <td>City</td>\n",
       "      <td>Fullstack Developer</td>\n",
       "      <td>0</td>\n",
       "      <td>Single</td>\n",
       "    </tr>\n",
       "    <tr>\n",
       "      <th>791</th>\n",
       "      <td>792</td>\n",
       "      <td>Sara Mhatre</td>\n",
       "      <td>Female</td>\n",
       "      <td>38</td>\n",
       "      <td>City</td>\n",
       "      <td>Data Scientist</td>\n",
       "      <td>0</td>\n",
       "      <td>Single</td>\n",
       "    </tr>\n",
       "    <tr>\n",
       "      <th>817</th>\n",
       "      <td>818</td>\n",
       "      <td>Akshay Mehrotra</td>\n",
       "      <td>Male</td>\n",
       "      <td>47</td>\n",
       "      <td>City</td>\n",
       "      <td>Consultant</td>\n",
       "      <td>0</td>\n",
       "      <td>Single</td>\n",
       "    </tr>\n",
       "    <tr>\n",
       "      <th>932</th>\n",
       "      <td>933</td>\n",
       "      <td>Avinash Tiwari</td>\n",
       "      <td>Male</td>\n",
       "      <td>35</td>\n",
       "      <td>City</td>\n",
       "      <td>Data Scientist</td>\n",
       "      <td>0</td>\n",
       "      <td>Married</td>\n",
       "    </tr>\n",
       "    <tr>\n",
       "      <th>955</th>\n",
       "      <td>956</td>\n",
       "      <td>Aahan Gandhi</td>\n",
       "      <td>Male</td>\n",
       "      <td>39</td>\n",
       "      <td>Suburb</td>\n",
       "      <td>Business Owner</td>\n",
       "      <td>0</td>\n",
       "      <td>Married</td>\n",
       "    </tr>\n",
       "    <tr>\n",
       "      <th>956</th>\n",
       "      <td>957</td>\n",
       "      <td>Priya Malik</td>\n",
       "      <td>Female</td>\n",
       "      <td>24</td>\n",
       "      <td>City</td>\n",
       "      <td>Artist</td>\n",
       "      <td>0</td>\n",
       "      <td>Married</td>\n",
       "    </tr>\n",
       "    <tr>\n",
       "      <th>995</th>\n",
       "      <td>996</td>\n",
       "      <td>Manya Vasudeva</td>\n",
       "      <td>Female</td>\n",
       "      <td>26</td>\n",
       "      <td>City</td>\n",
       "      <td>Freelancer</td>\n",
       "      <td>0</td>\n",
       "      <td>Married</td>\n",
       "    </tr>\n",
       "    <tr>\n",
       "      <th>998</th>\n",
       "      <td>999</td>\n",
       "      <td>Amara Rathore</td>\n",
       "      <td>Female</td>\n",
       "      <td>47</td>\n",
       "      <td>City</td>\n",
       "      <td>Business Owner</td>\n",
       "      <td>0</td>\n",
       "      <td>Married</td>\n",
       "    </tr>\n",
       "  </tbody>\n",
       "</table>\n",
       "</div>"
      ],
      "text/plain": [
       "     cust_id               name  gender  age location           occupation  \\\n",
       "14        15      Sanjana Malik  Female   25    Rural               Artist   \n",
       "82        83  Reyansh Mukherjee    Male   27     City           Freelancer   \n",
       "97        98         Virat Puri    Male   47   Suburb       Business Owner   \n",
       "102      103         Aarav Shah    Male   32     City       Data Scientist   \n",
       "155      156       Kiaan Saxena    Male   24     City  Fullstack Developer   \n",
       "170      171       Advait Verma    Male   52     City       Business Owner   \n",
       "186      187       Samar Sardar    Male   53     City           Consultant   \n",
       "192      193        Ishan Joshi    Male   37   Suburb       Data Scientist   \n",
       "227      228   Advait Mukherjee    Male   48     City       Business Owner   \n",
       "232      233        Aditya Goel    Male   26     City           Freelancer   \n",
       "240      241        Aaryan Bose    Male   24   Suburb           Freelancer   \n",
       "272      273       Kunal Sahani    Male   50   Suburb       Business Owner   \n",
       "275      276        Ananya Bali  Female   47     City           Consultant   \n",
       "312      313       Ritvik Gupta    Male   50     City           Consultant   \n",
       "315      316          Amara Jha  Female   25     City       Data Scientist   \n",
       "402      403        Arnav Singh    Male   60     City       Business Owner   \n",
       "404      405     Arnav Banerjee    Male   26     City       Data Scientist   \n",
       "409      410         Kiaan Jain    Male   45    Rural           Consultant   \n",
       "440      441         Rudra Bose    Male   36   Suburb       Data Scientist   \n",
       "446      447      Aahan Gambhir    Male   60     City       Business Owner   \n",
       "449      450       Anika Rathod  Female   24   Suburb  Fullstack Developer   \n",
       "461      462         Kunal Nair    Male   33     City       Data Scientist   \n",
       "474      475         Neha Verma  Female   28     City       Data Scientist   \n",
       "502      503        Samar Dewan    Male   38   Suburb       Data Scientist   \n",
       "508      509         Advait Das    Male   55     City       Business Owner   \n",
       "516      517     Rehan Kulkarni    Male   29    Rural  Fullstack Developer   \n",
       "530      531          Aarya Ver    Male   32     City       Business Owner   \n",
       "536      537       Ritvik Patil    Male   33     City       Data Scientist   \n",
       "599      600      Ishan Goswami  Female   38     City           Consultant   \n",
       "603      604     Kunal Malhotra    Male   25   Suburb  Fullstack Developer   \n",
       "608      609      Kriti Lalwani  Female   25     City       Data Scientist   \n",
       "634      635        Anaya Dutta  Female   21     City           Freelancer   \n",
       "644      645          Dhruv Das    Male   64     City       Business Owner   \n",
       "648      649      Kunal Rathore    Male   41     City           Consultant   \n",
       "650      651       Gauri Mittal  Female   47    Rural           Consultant   \n",
       "664      665       Ayush Khanna    Male   32    Rural  Fullstack Developer   \n",
       "681      682       Arya Jaiswal    Male   37   Suburb       Data Scientist   \n",
       "688      689        Dhruv Dewan    Male   26     City               Artist   \n",
       "693      694     Aditi Mehrotra  Female   37   Suburb       Data Scientist   \n",
       "694      695        Rohan Mehta    Male   28     City       Data Scientist   \n",
       "744      745         Swara Kaul  Female   39     City       Data Scientist   \n",
       "784      785         Rohan Jain    Male   27     City       Data Scientist   \n",
       "788      789     Vihaan Singhal    Male   20     City  Fullstack Developer   \n",
       "791      792        Sara Mhatre  Female   38     City       Data Scientist   \n",
       "817      818    Akshay Mehrotra    Male   47     City           Consultant   \n",
       "932      933     Avinash Tiwari    Male   35     City       Data Scientist   \n",
       "955      956       Aahan Gandhi    Male   39   Suburb       Business Owner   \n",
       "956      957        Priya Malik  Female   24     City               Artist   \n",
       "995      996     Manya Vasudeva  Female   26     City           Freelancer   \n",
       "998      999      Amara Rathore  Female   47     City       Business Owner   \n",
       "\n",
       "     annual_income marital_status  \n",
       "14               0        Married  \n",
       "82               0         Single  \n",
       "97               0        Married  \n",
       "102              0        Married  \n",
       "155              0        Married  \n",
       "170              0         Single  \n",
       "186              0         Single  \n",
       "192              0        Married  \n",
       "227              0        Married  \n",
       "232              0        Married  \n",
       "240              0        Married  \n",
       "272              0        Married  \n",
       "275              0         Single  \n",
       "312              0        Married  \n",
       "315              0        Married  \n",
       "402              0        Married  \n",
       "404              0         Single  \n",
       "409              0        Married  \n",
       "440              0        Married  \n",
       "446              0        Married  \n",
       "449              0        Married  \n",
       "461              0        Married  \n",
       "474              0         Single  \n",
       "502              0         Single  \n",
       "508              0        Married  \n",
       "516              0         Single  \n",
       "530              0        Married  \n",
       "536              0        Married  \n",
       "599              0         Single  \n",
       "603              0        Married  \n",
       "608              0         Single  \n",
       "634              0        Married  \n",
       "644              0         Single  \n",
       "648              0        Married  \n",
       "650              0        Married  \n",
       "664              0        Married  \n",
       "681              0        Married  \n",
       "688              0        Married  \n",
       "693              0        Married  \n",
       "694              0        Married  \n",
       "744              0        Married  \n",
       "784              0         Single  \n",
       "788              0         Single  \n",
       "791              0         Single  \n",
       "817              0         Single  \n",
       "932              0        Married  \n",
       "955              0        Married  \n",
       "956              0        Married  \n",
       "995              0        Married  \n",
       "998              0        Married  "
      ]
     },
     "execution_count": 23,
     "metadata": {},
     "output_type": "execute_result"
    }
   ],
   "source": [
    "customers[customers.annual_income == 0]"
   ]
  },
  {
   "cell_type": "code",
   "execution_count": null,
   "id": "d948bc3d",
   "metadata": {},
   "outputs": [],
   "source": []
  }
 ],
 "metadata": {
  "kernelspec": {
   "display_name": "base",
   "language": "python",
   "name": "python3"
  },
  "language_info": {
   "codemirror_mode": {
    "name": "ipython",
    "version": 3
   },
   "file_extension": ".py",
   "mimetype": "text/x-python",
   "name": "python",
   "nbconvert_exporter": "python",
   "pygments_lexer": "ipython3",
   "version": "3.12.4"
  }
 },
 "nbformat": 4,
 "nbformat_minor": 5
}
